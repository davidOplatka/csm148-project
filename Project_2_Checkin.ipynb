{
  "nbformat": 4,
  "nbformat_minor": 0,
  "metadata": {
    "colab": {
      "provenance": []
    },
    "kernelspec": {
      "name": "python3",
      "display_name": "Python 3"
    },
    "language_info": {
      "name": "python"
    }
  },
  "cells": [
    {
      "cell_type": "code",
      "execution_count": 46,
      "metadata": {
        "colab": {
          "base_uri": "https://localhost:8080/"
        },
        "id": "ysbb-Qwutvyc",
        "outputId": "2641bd85-888f-452a-e913-5cdaac3a5f14"
      },
      "outputs": [
        {
          "output_type": "stream",
          "name": "stdout",
          "text": [
            "Requirement already satisfied: scikit-lego in /usr/local/lib/python3.10/dist-packages (0.9.1)\n",
            "Requirement already satisfied: narwhals>=1.0.0 in /usr/local/lib/python3.10/dist-packages (from scikit-lego) (1.9.4)\n",
            "Requirement already satisfied: pandas>=1.1.5 in /usr/local/lib/python3.10/dist-packages (from scikit-lego) (2.1.4)\n",
            "Requirement already satisfied: scikit-learn>=1.0 in /usr/local/lib/python3.10/dist-packages (from scikit-lego) (1.5.2)\n",
            "Requirement already satisfied: numpy<2,>=1.22.4 in /usr/local/lib/python3.10/dist-packages (from pandas>=1.1.5->scikit-lego) (1.26.4)\n",
            "Requirement already satisfied: python-dateutil>=2.8.2 in /usr/local/lib/python3.10/dist-packages (from pandas>=1.1.5->scikit-lego) (2.8.2)\n",
            "Requirement already satisfied: pytz>=2020.1 in /usr/local/lib/python3.10/dist-packages (from pandas>=1.1.5->scikit-lego) (2024.2)\n",
            "Requirement already satisfied: tzdata>=2022.1 in /usr/local/lib/python3.10/dist-packages (from pandas>=1.1.5->scikit-lego) (2024.1)\n",
            "Requirement already satisfied: scipy>=1.6.0 in /usr/local/lib/python3.10/dist-packages (from scikit-learn>=1.0->scikit-lego) (1.13.1)\n",
            "Requirement already satisfied: joblib>=1.2.0 in /usr/local/lib/python3.10/dist-packages (from scikit-learn>=1.0->scikit-lego) (1.4.2)\n",
            "Requirement already satisfied: threadpoolctl>=3.1.0 in /usr/local/lib/python3.10/dist-packages (from scikit-learn>=1.0->scikit-lego) (3.5.0)\n",
            "Requirement already satisfied: six>=1.5 in /usr/local/lib/python3.10/dist-packages (from python-dateutil>=2.8.2->pandas>=1.1.5->scikit-lego) (1.16.0)\n"
          ]
        }
      ],
      "source": [
        "%pip install scikit-lego"
      ]
    },
    {
      "cell_type": "code",
      "source": [
        "import pandas as pd\n",
        "import numpy as np\n",
        "import plotly.express as px\n",
        "import plotly.graph_objects as go\n",
        "from sklearn.metrics import mean_squared_error, mean_absolute_error, r2_score\n",
        "from sklearn.linear_model import LinearRegression\n",
        "from sklego.linear_model import LADRegression\n",
        "from sklearn.model_selection import train_test_split"
      ],
      "metadata": {
        "id": "hjCVuGoOt864"
      },
      "execution_count": 47,
      "outputs": []
    },
    {
      "cell_type": "code",
      "source": [
        "df = pd.read_csv(\"StudentPerformanceFactorsCleaned.csv\")\n",
        "df.head()"
      ],
      "metadata": {
        "colab": {
          "base_uri": "https://localhost:8080/",
          "height": 226
        },
        "id": "8EydjivbuCgb",
        "outputId": "07b24e3e-3eee-47b4-8850-0bfb1b8caccc"
      },
      "execution_count": 48,
      "outputs": [
        {
          "output_type": "execute_result",
          "data": {
            "text/plain": [
              "   Hours_Studied  Attendance Parental_Involvement Access_to_Resources  \\\n",
              "0             23          84                  Low                High   \n",
              "1             19          64                  Low              Medium   \n",
              "2             24          98               Medium              Medium   \n",
              "3             29          89                  Low              Medium   \n",
              "4             19          92               Medium              Medium   \n",
              "\n",
              "  Extracurricular_Activities  Sleep_Hours  Previous_Scores Motivation_Level  \\\n",
              "0                         No            7               73              Low   \n",
              "1                         No            8               59              Low   \n",
              "2                        Yes            7               91           Medium   \n",
              "3                        Yes            8               98           Medium   \n",
              "4                        Yes            6               65           Medium   \n",
              "\n",
              "  Internet_Access  Tutoring_Sessions Family_Income Teacher_Quality  \\\n",
              "0             Yes                  0           Low          Medium   \n",
              "1             Yes                  2        Medium          Medium   \n",
              "2             Yes                  2        Medium          Medium   \n",
              "3             Yes                  1        Medium          Medium   \n",
              "4             Yes                  3        Medium            High   \n",
              "\n",
              "  School_Type Peer_Influence  Physical_Activity Learning_Disabilities  \\\n",
              "0      Public       Positive                  3                    No   \n",
              "1      Public       Negative                  4                    No   \n",
              "2      Public        Neutral                  4                    No   \n",
              "3      Public       Negative                  4                    No   \n",
              "4      Public        Neutral                  4                    No   \n",
              "\n",
              "  Parental_Education_Level  Gender  Exam_Score  \n",
              "0              High School    Male          67  \n",
              "1                  College  Female          61  \n",
              "2             Postgraduate    Male          74  \n",
              "3              High School    Male          71  \n",
              "4                  College  Female          70  "
            ],
            "text/html": [
              "\n",
              "  <div id=\"df-a8c9aba9-6d4a-4b6b-9984-cf4586555c98\" class=\"colab-df-container\">\n",
              "    <div>\n",
              "<style scoped>\n",
              "    .dataframe tbody tr th:only-of-type {\n",
              "        vertical-align: middle;\n",
              "    }\n",
              "\n",
              "    .dataframe tbody tr th {\n",
              "        vertical-align: top;\n",
              "    }\n",
              "\n",
              "    .dataframe thead th {\n",
              "        text-align: right;\n",
              "    }\n",
              "</style>\n",
              "<table border=\"1\" class=\"dataframe\">\n",
              "  <thead>\n",
              "    <tr style=\"text-align: right;\">\n",
              "      <th></th>\n",
              "      <th>Hours_Studied</th>\n",
              "      <th>Attendance</th>\n",
              "      <th>Parental_Involvement</th>\n",
              "      <th>Access_to_Resources</th>\n",
              "      <th>Extracurricular_Activities</th>\n",
              "      <th>Sleep_Hours</th>\n",
              "      <th>Previous_Scores</th>\n",
              "      <th>Motivation_Level</th>\n",
              "      <th>Internet_Access</th>\n",
              "      <th>Tutoring_Sessions</th>\n",
              "      <th>Family_Income</th>\n",
              "      <th>Teacher_Quality</th>\n",
              "      <th>School_Type</th>\n",
              "      <th>Peer_Influence</th>\n",
              "      <th>Physical_Activity</th>\n",
              "      <th>Learning_Disabilities</th>\n",
              "      <th>Parental_Education_Level</th>\n",
              "      <th>Gender</th>\n",
              "      <th>Exam_Score</th>\n",
              "    </tr>\n",
              "  </thead>\n",
              "  <tbody>\n",
              "    <tr>\n",
              "      <th>0</th>\n",
              "      <td>23</td>\n",
              "      <td>84</td>\n",
              "      <td>Low</td>\n",
              "      <td>High</td>\n",
              "      <td>No</td>\n",
              "      <td>7</td>\n",
              "      <td>73</td>\n",
              "      <td>Low</td>\n",
              "      <td>Yes</td>\n",
              "      <td>0</td>\n",
              "      <td>Low</td>\n",
              "      <td>Medium</td>\n",
              "      <td>Public</td>\n",
              "      <td>Positive</td>\n",
              "      <td>3</td>\n",
              "      <td>No</td>\n",
              "      <td>High School</td>\n",
              "      <td>Male</td>\n",
              "      <td>67</td>\n",
              "    </tr>\n",
              "    <tr>\n",
              "      <th>1</th>\n",
              "      <td>19</td>\n",
              "      <td>64</td>\n",
              "      <td>Low</td>\n",
              "      <td>Medium</td>\n",
              "      <td>No</td>\n",
              "      <td>8</td>\n",
              "      <td>59</td>\n",
              "      <td>Low</td>\n",
              "      <td>Yes</td>\n",
              "      <td>2</td>\n",
              "      <td>Medium</td>\n",
              "      <td>Medium</td>\n",
              "      <td>Public</td>\n",
              "      <td>Negative</td>\n",
              "      <td>4</td>\n",
              "      <td>No</td>\n",
              "      <td>College</td>\n",
              "      <td>Female</td>\n",
              "      <td>61</td>\n",
              "    </tr>\n",
              "    <tr>\n",
              "      <th>2</th>\n",
              "      <td>24</td>\n",
              "      <td>98</td>\n",
              "      <td>Medium</td>\n",
              "      <td>Medium</td>\n",
              "      <td>Yes</td>\n",
              "      <td>7</td>\n",
              "      <td>91</td>\n",
              "      <td>Medium</td>\n",
              "      <td>Yes</td>\n",
              "      <td>2</td>\n",
              "      <td>Medium</td>\n",
              "      <td>Medium</td>\n",
              "      <td>Public</td>\n",
              "      <td>Neutral</td>\n",
              "      <td>4</td>\n",
              "      <td>No</td>\n",
              "      <td>Postgraduate</td>\n",
              "      <td>Male</td>\n",
              "      <td>74</td>\n",
              "    </tr>\n",
              "    <tr>\n",
              "      <th>3</th>\n",
              "      <td>29</td>\n",
              "      <td>89</td>\n",
              "      <td>Low</td>\n",
              "      <td>Medium</td>\n",
              "      <td>Yes</td>\n",
              "      <td>8</td>\n",
              "      <td>98</td>\n",
              "      <td>Medium</td>\n",
              "      <td>Yes</td>\n",
              "      <td>1</td>\n",
              "      <td>Medium</td>\n",
              "      <td>Medium</td>\n",
              "      <td>Public</td>\n",
              "      <td>Negative</td>\n",
              "      <td>4</td>\n",
              "      <td>No</td>\n",
              "      <td>High School</td>\n",
              "      <td>Male</td>\n",
              "      <td>71</td>\n",
              "    </tr>\n",
              "    <tr>\n",
              "      <th>4</th>\n",
              "      <td>19</td>\n",
              "      <td>92</td>\n",
              "      <td>Medium</td>\n",
              "      <td>Medium</td>\n",
              "      <td>Yes</td>\n",
              "      <td>6</td>\n",
              "      <td>65</td>\n",
              "      <td>Medium</td>\n",
              "      <td>Yes</td>\n",
              "      <td>3</td>\n",
              "      <td>Medium</td>\n",
              "      <td>High</td>\n",
              "      <td>Public</td>\n",
              "      <td>Neutral</td>\n",
              "      <td>4</td>\n",
              "      <td>No</td>\n",
              "      <td>College</td>\n",
              "      <td>Female</td>\n",
              "      <td>70</td>\n",
              "    </tr>\n",
              "  </tbody>\n",
              "</table>\n",
              "</div>\n",
              "    <div class=\"colab-df-buttons\">\n",
              "\n",
              "  <div class=\"colab-df-container\">\n",
              "    <button class=\"colab-df-convert\" onclick=\"convertToInteractive('df-a8c9aba9-6d4a-4b6b-9984-cf4586555c98')\"\n",
              "            title=\"Convert this dataframe to an interactive table.\"\n",
              "            style=\"display:none;\">\n",
              "\n",
              "  <svg xmlns=\"http://www.w3.org/2000/svg\" height=\"24px\" viewBox=\"0 -960 960 960\">\n",
              "    <path d=\"M120-120v-720h720v720H120Zm60-500h600v-160H180v160Zm220 220h160v-160H400v160Zm0 220h160v-160H400v160ZM180-400h160v-160H180v160Zm440 0h160v-160H620v160ZM180-180h160v-160H180v160Zm440 0h160v-160H620v160Z\"/>\n",
              "  </svg>\n",
              "    </button>\n",
              "\n",
              "  <style>\n",
              "    .colab-df-container {\n",
              "      display:flex;\n",
              "      gap: 12px;\n",
              "    }\n",
              "\n",
              "    .colab-df-convert {\n",
              "      background-color: #E8F0FE;\n",
              "      border: none;\n",
              "      border-radius: 50%;\n",
              "      cursor: pointer;\n",
              "      display: none;\n",
              "      fill: #1967D2;\n",
              "      height: 32px;\n",
              "      padding: 0 0 0 0;\n",
              "      width: 32px;\n",
              "    }\n",
              "\n",
              "    .colab-df-convert:hover {\n",
              "      background-color: #E2EBFA;\n",
              "      box-shadow: 0px 1px 2px rgba(60, 64, 67, 0.3), 0px 1px 3px 1px rgba(60, 64, 67, 0.15);\n",
              "      fill: #174EA6;\n",
              "    }\n",
              "\n",
              "    .colab-df-buttons div {\n",
              "      margin-bottom: 4px;\n",
              "    }\n",
              "\n",
              "    [theme=dark] .colab-df-convert {\n",
              "      background-color: #3B4455;\n",
              "      fill: #D2E3FC;\n",
              "    }\n",
              "\n",
              "    [theme=dark] .colab-df-convert:hover {\n",
              "      background-color: #434B5C;\n",
              "      box-shadow: 0px 1px 3px 1px rgba(0, 0, 0, 0.15);\n",
              "      filter: drop-shadow(0px 1px 2px rgba(0, 0, 0, 0.3));\n",
              "      fill: #FFFFFF;\n",
              "    }\n",
              "  </style>\n",
              "\n",
              "    <script>\n",
              "      const buttonEl =\n",
              "        document.querySelector('#df-a8c9aba9-6d4a-4b6b-9984-cf4586555c98 button.colab-df-convert');\n",
              "      buttonEl.style.display =\n",
              "        google.colab.kernel.accessAllowed ? 'block' : 'none';\n",
              "\n",
              "      async function convertToInteractive(key) {\n",
              "        const element = document.querySelector('#df-a8c9aba9-6d4a-4b6b-9984-cf4586555c98');\n",
              "        const dataTable =\n",
              "          await google.colab.kernel.invokeFunction('convertToInteractive',\n",
              "                                                    [key], {});\n",
              "        if (!dataTable) return;\n",
              "\n",
              "        const docLinkHtml = 'Like what you see? Visit the ' +\n",
              "          '<a target=\"_blank\" href=https://colab.research.google.com/notebooks/data_table.ipynb>data table notebook</a>'\n",
              "          + ' to learn more about interactive tables.';\n",
              "        element.innerHTML = '';\n",
              "        dataTable['output_type'] = 'display_data';\n",
              "        await google.colab.output.renderOutput(dataTable, element);\n",
              "        const docLink = document.createElement('div');\n",
              "        docLink.innerHTML = docLinkHtml;\n",
              "        element.appendChild(docLink);\n",
              "      }\n",
              "    </script>\n",
              "  </div>\n",
              "\n",
              "\n",
              "<div id=\"df-b8eb0757-3996-49a2-a6e7-c131f0d504de\">\n",
              "  <button class=\"colab-df-quickchart\" onclick=\"quickchart('df-b8eb0757-3996-49a2-a6e7-c131f0d504de')\"\n",
              "            title=\"Suggest charts\"\n",
              "            style=\"display:none;\">\n",
              "\n",
              "<svg xmlns=\"http://www.w3.org/2000/svg\" height=\"24px\"viewBox=\"0 0 24 24\"\n",
              "     width=\"24px\">\n",
              "    <g>\n",
              "        <path d=\"M19 3H5c-1.1 0-2 .9-2 2v14c0 1.1.9 2 2 2h14c1.1 0 2-.9 2-2V5c0-1.1-.9-2-2-2zM9 17H7v-7h2v7zm4 0h-2V7h2v10zm4 0h-2v-4h2v4z\"/>\n",
              "    </g>\n",
              "</svg>\n",
              "  </button>\n",
              "\n",
              "<style>\n",
              "  .colab-df-quickchart {\n",
              "      --bg-color: #E8F0FE;\n",
              "      --fill-color: #1967D2;\n",
              "      --hover-bg-color: #E2EBFA;\n",
              "      --hover-fill-color: #174EA6;\n",
              "      --disabled-fill-color: #AAA;\n",
              "      --disabled-bg-color: #DDD;\n",
              "  }\n",
              "\n",
              "  [theme=dark] .colab-df-quickchart {\n",
              "      --bg-color: #3B4455;\n",
              "      --fill-color: #D2E3FC;\n",
              "      --hover-bg-color: #434B5C;\n",
              "      --hover-fill-color: #FFFFFF;\n",
              "      --disabled-bg-color: #3B4455;\n",
              "      --disabled-fill-color: #666;\n",
              "  }\n",
              "\n",
              "  .colab-df-quickchart {\n",
              "    background-color: var(--bg-color);\n",
              "    border: none;\n",
              "    border-radius: 50%;\n",
              "    cursor: pointer;\n",
              "    display: none;\n",
              "    fill: var(--fill-color);\n",
              "    height: 32px;\n",
              "    padding: 0;\n",
              "    width: 32px;\n",
              "  }\n",
              "\n",
              "  .colab-df-quickchart:hover {\n",
              "    background-color: var(--hover-bg-color);\n",
              "    box-shadow: 0 1px 2px rgba(60, 64, 67, 0.3), 0 1px 3px 1px rgba(60, 64, 67, 0.15);\n",
              "    fill: var(--button-hover-fill-color);\n",
              "  }\n",
              "\n",
              "  .colab-df-quickchart-complete:disabled,\n",
              "  .colab-df-quickchart-complete:disabled:hover {\n",
              "    background-color: var(--disabled-bg-color);\n",
              "    fill: var(--disabled-fill-color);\n",
              "    box-shadow: none;\n",
              "  }\n",
              "\n",
              "  .colab-df-spinner {\n",
              "    border: 2px solid var(--fill-color);\n",
              "    border-color: transparent;\n",
              "    border-bottom-color: var(--fill-color);\n",
              "    animation:\n",
              "      spin 1s steps(1) infinite;\n",
              "  }\n",
              "\n",
              "  @keyframes spin {\n",
              "    0% {\n",
              "      border-color: transparent;\n",
              "      border-bottom-color: var(--fill-color);\n",
              "      border-left-color: var(--fill-color);\n",
              "    }\n",
              "    20% {\n",
              "      border-color: transparent;\n",
              "      border-left-color: var(--fill-color);\n",
              "      border-top-color: var(--fill-color);\n",
              "    }\n",
              "    30% {\n",
              "      border-color: transparent;\n",
              "      border-left-color: var(--fill-color);\n",
              "      border-top-color: var(--fill-color);\n",
              "      border-right-color: var(--fill-color);\n",
              "    }\n",
              "    40% {\n",
              "      border-color: transparent;\n",
              "      border-right-color: var(--fill-color);\n",
              "      border-top-color: var(--fill-color);\n",
              "    }\n",
              "    60% {\n",
              "      border-color: transparent;\n",
              "      border-right-color: var(--fill-color);\n",
              "    }\n",
              "    80% {\n",
              "      border-color: transparent;\n",
              "      border-right-color: var(--fill-color);\n",
              "      border-bottom-color: var(--fill-color);\n",
              "    }\n",
              "    90% {\n",
              "      border-color: transparent;\n",
              "      border-bottom-color: var(--fill-color);\n",
              "    }\n",
              "  }\n",
              "</style>\n",
              "\n",
              "  <script>\n",
              "    async function quickchart(key) {\n",
              "      const quickchartButtonEl =\n",
              "        document.querySelector('#' + key + ' button');\n",
              "      quickchartButtonEl.disabled = true;  // To prevent multiple clicks.\n",
              "      quickchartButtonEl.classList.add('colab-df-spinner');\n",
              "      try {\n",
              "        const charts = await google.colab.kernel.invokeFunction(\n",
              "            'suggestCharts', [key], {});\n",
              "      } catch (error) {\n",
              "        console.error('Error during call to suggestCharts:', error);\n",
              "      }\n",
              "      quickchartButtonEl.classList.remove('colab-df-spinner');\n",
              "      quickchartButtonEl.classList.add('colab-df-quickchart-complete');\n",
              "    }\n",
              "    (() => {\n",
              "      let quickchartButtonEl =\n",
              "        document.querySelector('#df-b8eb0757-3996-49a2-a6e7-c131f0d504de button');\n",
              "      quickchartButtonEl.style.display =\n",
              "        google.colab.kernel.accessAllowed ? 'block' : 'none';\n",
              "    })();\n",
              "  </script>\n",
              "</div>\n",
              "\n",
              "    </div>\n",
              "  </div>\n"
            ],
            "application/vnd.google.colaboratory.intrinsic+json": {
              "type": "dataframe",
              "variable_name": "df",
              "summary": "{\n  \"name\": \"df\",\n  \"rows\": 6443,\n  \"fields\": [\n    {\n      \"column\": \"Hours_Studied\",\n      \"properties\": {\n        \"dtype\": \"number\",\n        \"std\": 5,\n        \"min\": 1,\n        \"max\": 44,\n        \"num_unique_values\": 41,\n        \"samples\": [\n          27,\n          20,\n          10\n        ],\n        \"semantic_type\": \"\",\n        \"description\": \"\"\n      }\n    },\n    {\n      \"column\": \"Attendance\",\n      \"properties\": {\n        \"dtype\": \"number\",\n        \"std\": 11,\n        \"min\": 60,\n        \"max\": 100,\n        \"num_unique_values\": 41,\n        \"samples\": [\n          72,\n          60,\n          80\n        ],\n        \"semantic_type\": \"\",\n        \"description\": \"\"\n      }\n    },\n    {\n      \"column\": \"Parental_Involvement\",\n      \"properties\": {\n        \"dtype\": \"category\",\n        \"num_unique_values\": 3,\n        \"samples\": [\n          \"Low\",\n          \"Medium\",\n          \"High\"\n        ],\n        \"semantic_type\": \"\",\n        \"description\": \"\"\n      }\n    },\n    {\n      \"column\": \"Access_to_Resources\",\n      \"properties\": {\n        \"dtype\": \"category\",\n        \"num_unique_values\": 3,\n        \"samples\": [\n          \"High\",\n          \"Medium\",\n          \"Low\"\n        ],\n        \"semantic_type\": \"\",\n        \"description\": \"\"\n      }\n    },\n    {\n      \"column\": \"Extracurricular_Activities\",\n      \"properties\": {\n        \"dtype\": \"category\",\n        \"num_unique_values\": 2,\n        \"samples\": [\n          \"Yes\",\n          \"No\"\n        ],\n        \"semantic_type\": \"\",\n        \"description\": \"\"\n      }\n    },\n    {\n      \"column\": \"Sleep_Hours\",\n      \"properties\": {\n        \"dtype\": \"number\",\n        \"std\": 1,\n        \"min\": 4,\n        \"max\": 10,\n        \"num_unique_values\": 7,\n        \"samples\": [\n          7,\n          8\n        ],\n        \"semantic_type\": \"\",\n        \"description\": \"\"\n      }\n    },\n    {\n      \"column\": \"Previous_Scores\",\n      \"properties\": {\n        \"dtype\": \"number\",\n        \"std\": 14,\n        \"min\": 50,\n        \"max\": 100,\n        \"num_unique_values\": 51,\n        \"samples\": [\n          64,\n          62\n        ],\n        \"semantic_type\": \"\",\n        \"description\": \"\"\n      }\n    },\n    {\n      \"column\": \"Motivation_Level\",\n      \"properties\": {\n        \"dtype\": \"category\",\n        \"num_unique_values\": 3,\n        \"samples\": [\n          \"Low\",\n          \"Medium\"\n        ],\n        \"semantic_type\": \"\",\n        \"description\": \"\"\n      }\n    },\n    {\n      \"column\": \"Internet_Access\",\n      \"properties\": {\n        \"dtype\": \"category\",\n        \"num_unique_values\": 2,\n        \"samples\": [\n          \"No\",\n          \"Yes\"\n        ],\n        \"semantic_type\": \"\",\n        \"description\": \"\"\n      }\n    },\n    {\n      \"column\": \"Tutoring_Sessions\",\n      \"properties\": {\n        \"dtype\": \"number\",\n        \"std\": 1,\n        \"min\": 0,\n        \"max\": 8,\n        \"num_unique_values\": 9,\n        \"samples\": [\n          7,\n          2\n        ],\n        \"semantic_type\": \"\",\n        \"description\": \"\"\n      }\n    },\n    {\n      \"column\": \"Family_Income\",\n      \"properties\": {\n        \"dtype\": \"category\",\n        \"num_unique_values\": 3,\n        \"samples\": [\n          \"Low\",\n          \"Medium\"\n        ],\n        \"semantic_type\": \"\",\n        \"description\": \"\"\n      }\n    },\n    {\n      \"column\": \"Teacher_Quality\",\n      \"properties\": {\n        \"dtype\": \"category\",\n        \"num_unique_values\": 3,\n        \"samples\": [\n          \"Medium\",\n          \"High\"\n        ],\n        \"semantic_type\": \"\",\n        \"description\": \"\"\n      }\n    },\n    {\n      \"column\": \"School_Type\",\n      \"properties\": {\n        \"dtype\": \"category\",\n        \"num_unique_values\": 2,\n        \"samples\": [\n          \"Private\",\n          \"Public\"\n        ],\n        \"semantic_type\": \"\",\n        \"description\": \"\"\n      }\n    },\n    {\n      \"column\": \"Peer_Influence\",\n      \"properties\": {\n        \"dtype\": \"category\",\n        \"num_unique_values\": 3,\n        \"samples\": [\n          \"Positive\",\n          \"Negative\"\n        ],\n        \"semantic_type\": \"\",\n        \"description\": \"\"\n      }\n    },\n    {\n      \"column\": \"Physical_Activity\",\n      \"properties\": {\n        \"dtype\": \"number\",\n        \"std\": 1,\n        \"min\": 0,\n        \"max\": 6,\n        \"num_unique_values\": 7,\n        \"samples\": [\n          3,\n          4\n        ],\n        \"semantic_type\": \"\",\n        \"description\": \"\"\n      }\n    },\n    {\n      \"column\": \"Learning_Disabilities\",\n      \"properties\": {\n        \"dtype\": \"category\",\n        \"num_unique_values\": 2,\n        \"samples\": [\n          \"Yes\",\n          \"No\"\n        ],\n        \"semantic_type\": \"\",\n        \"description\": \"\"\n      }\n    },\n    {\n      \"column\": \"Parental_Education_Level\",\n      \"properties\": {\n        \"dtype\": \"category\",\n        \"num_unique_values\": 3,\n        \"samples\": [\n          \"High School\",\n          \"College\"\n        ],\n        \"semantic_type\": \"\",\n        \"description\": \"\"\n      }\n    },\n    {\n      \"column\": \"Gender\",\n      \"properties\": {\n        \"dtype\": \"category\",\n        \"num_unique_values\": 2,\n        \"samples\": [\n          \"Female\",\n          \"Male\"\n        ],\n        \"semantic_type\": \"\",\n        \"description\": \"\"\n      }\n    },\n    {\n      \"column\": \"Exam_Score\",\n      \"properties\": {\n        \"dtype\": \"number\",\n        \"std\": 3,\n        \"min\": 55,\n        \"max\": 100,\n        \"num_unique_values\": 44,\n        \"samples\": [\n          57,\n          83\n        ],\n        \"semantic_type\": \"\",\n        \"description\": \"\"\n      }\n    }\n  ]\n}"
            }
          },
          "metadata": {},
          "execution_count": 48
        }
      ]
    },
    {
      "cell_type": "code",
      "source": [
        "df.info()"
      ],
      "metadata": {
        "colab": {
          "base_uri": "https://localhost:8080/"
        },
        "id": "SGX8H20VuYOD",
        "outputId": "92d5152d-2f3d-4615-9273-9454b5bb64a1"
      },
      "execution_count": 49,
      "outputs": [
        {
          "output_type": "stream",
          "name": "stdout",
          "text": [
            "<class 'pandas.core.frame.DataFrame'>\n",
            "RangeIndex: 6443 entries, 0 to 6442\n",
            "Data columns (total 19 columns):\n",
            " #   Column                      Non-Null Count  Dtype \n",
            "---  ------                      --------------  ----- \n",
            " 0   Hours_Studied               6443 non-null   int64 \n",
            " 1   Attendance                  6443 non-null   int64 \n",
            " 2   Parental_Involvement        6443 non-null   object\n",
            " 3   Access_to_Resources         6443 non-null   object\n",
            " 4   Extracurricular_Activities  6443 non-null   object\n",
            " 5   Sleep_Hours                 6443 non-null   int64 \n",
            " 6   Previous_Scores             6443 non-null   int64 \n",
            " 7   Motivation_Level            6443 non-null   object\n",
            " 8   Internet_Access             6443 non-null   object\n",
            " 9   Tutoring_Sessions           6443 non-null   int64 \n",
            " 10  Family_Income               6443 non-null   object\n",
            " 11  Teacher_Quality             6443 non-null   object\n",
            " 12  School_Type                 6443 non-null   object\n",
            " 13  Peer_Influence              6443 non-null   object\n",
            " 14  Physical_Activity           6443 non-null   int64 \n",
            " 15  Learning_Disabilities       6443 non-null   object\n",
            " 16  Parental_Education_Level    6443 non-null   object\n",
            " 17  Gender                      6443 non-null   object\n",
            " 18  Exam_Score                  6443 non-null   int64 \n",
            "dtypes: int64(7), object(12)\n",
            "memory usage: 956.5+ KB\n"
          ]
        }
      ]
    },
    {
      "cell_type": "code",
      "source": [
        "df.columns"
      ],
      "metadata": {
        "colab": {
          "base_uri": "https://localhost:8080/"
        },
        "id": "B3pwTiMduZyF",
        "outputId": "c0daa37e-328f-41bb-ebfe-76b57c8244aa"
      },
      "execution_count": 50,
      "outputs": [
        {
          "output_type": "execute_result",
          "data": {
            "text/plain": [
              "Index(['Hours_Studied', 'Attendance', 'Parental_Involvement',\n",
              "       'Access_to_Resources', 'Extracurricular_Activities', 'Sleep_Hours',\n",
              "       'Previous_Scores', 'Motivation_Level', 'Internet_Access',\n",
              "       'Tutoring_Sessions', 'Family_Income', 'Teacher_Quality', 'School_Type',\n",
              "       'Peer_Influence', 'Physical_Activity', 'Learning_Disabilities',\n",
              "       'Parental_Education_Level', 'Gender', 'Exam_Score'],\n",
              "      dtype='object')"
            ]
          },
          "metadata": {},
          "execution_count": 50
        }
      ]
    },
    {
      "cell_type": "markdown",
      "source": [
        "We first split the data into training, validation, and testing."
      ],
      "metadata": {
        "id": "zy5dEhd7upnh"
      }
    },
    {
      "cell_type": "code",
      "source": [
        "y = df[\"Exam_Score\"]\n",
        "\n",
        "#60% for training\n",
        "df_train = df.sample(frac=0.6, random_state=2)\n",
        "\n",
        "tmp = df.query(\"~index.isin(@df_train.index)\")\n",
        "\n",
        "#20% for validation\n",
        "df_validation = tmp.sample(frac=0.5, random_state=3789)\n",
        "\n",
        "#20% for testing\n",
        "df_test = tmp.query(\"~index.isin(@df_validation.index)\")\n",
        "\n",
        "print(f\"Training data: {df_train.shape}\")\n",
        "print(f\"Validation data: {df_validation.shape}\")\n",
        "print(f\"Testing data: {df_test.shape}\")"
      ],
      "metadata": {
        "colab": {
          "base_uri": "https://localhost:8080/"
        },
        "id": "pRE6F0hNugKp",
        "outputId": "8c981d45-2908-4f52-a91b-da124074ee07"
      },
      "execution_count": 51,
      "outputs": [
        {
          "output_type": "stream",
          "name": "stdout",
          "text": [
            "Training data: (3866, 19)\n",
            "Validation data: (1288, 19)\n",
            "Testing data: (1289, 19)\n"
          ]
        }
      ]
    },
    {
      "cell_type": "markdown",
      "source": [
        "We now fit it with Linear Regression, and make predictions on validation + test."
      ],
      "metadata": {
        "id": "aJnJNnOo09hW"
      }
    },
    {
      "cell_type": "code",
      "source": [
        "x_train = np.array(df_train['Hours_Studied']).reshape(-1, 1)\n",
        "y_train = df_train['Exam_Score']\n",
        "x_validation = np.array(df_validation['Hours_Studied']).reshape(-1, 1)\n",
        "y_validation = df_validation['Exam_Score']\n",
        "\n",
        "#linear regression\n",
        "ls_area_fit = LinearRegression()\n",
        "ls_area_fit.fit(x_train, y_train)\n",
        "\n",
        "#pred on training set\n",
        "pred_train_df = ls_area_fit.predict(x_train)\n",
        "\n",
        "#pred on validation set\n",
        "pred_val_df = ls_area_fit.predict(x_validation)"
      ],
      "metadata": {
        "id": "ykmLR8gB07dH"
      },
      "execution_count": 52,
      "outputs": []
    },
    {
      "cell_type": "markdown",
      "source": [
        "We calculate MSE and $R^2$."
      ],
      "metadata": {
        "id": "wMHC91Fc3Flw"
      }
    },
    {
      "cell_type": "code",
      "source": [
        "# Step 5: Calculate evaluation metrics for the training set\n",
        "train_mse = mean_squared_error(y_train, pred_train_df)\n",
        "train_r2 = r2_score(y_train, pred_train_df)\n",
        "\n",
        "print(f\"Training MSE: {train_mse}\")\n",
        "print(f\"Training R²: {train_r2}\")\n",
        "\n",
        "# Step 6: Calculate evaluation metrics for the validation set\n",
        "validation_mse = mean_squared_error(y_validation, pred_val_df)\n",
        "validation_r2 = r2_score(y_validation, pred_val_df)\n",
        "\n",
        "print(f\"Validation MSE: {validation_mse}\")\n",
        "print(f\"Validation R²: {validation_r2}\")\n"
      ],
      "metadata": {
        "colab": {
          "base_uri": "https://localhost:8080/"
        },
        "id": "zeZj7LD93Jww",
        "outputId": "e1e42523-bdf5-4718-c779-2bbca76e7999"
      },
      "execution_count": 53,
      "outputs": [
        {
          "output_type": "stream",
          "name": "stdout",
          "text": [
            "Training MSE: 11.732696665642777\n",
            "Training R²: 0.1975764984706978\n",
            "Validation MSE: 12.75541594990444\n",
            "Validation R²: 0.2015234091425332\n"
          ]
        }
      ]
    },
    {
      "cell_type": "markdown",
      "source": [
        "Next, we plot it."
      ],
      "metadata": {
        "id": "SuaVwe7Y2zlR"
      }
    },
    {
      "cell_type": "code",
      "source": [
        "fig = go.Figure()\n",
        "\n",
        "#plot points\n",
        "fig.add_trace(\n",
        "    go.Scatter(x=df_train['Hours_Studied'],\n",
        "                y=df_train['Exam_Score'],\n",
        "                mode='markers',\n",
        "                name='Actual'\n",
        "))\n",
        "\n",
        "#regression line\n",
        "fig.add_trace(\n",
        "    go.Scatter(x=df_train['Hours_Studied'],\n",
        "                y=ls_area_fit.intercept_ + df_train['Hours_Studied'] * ls_area_fit.coef_[0],\n",
        "                mode='lines',\n",
        "                name='LS',\n",
        "                line={'dash': 'solid',\n",
        "                      'color': 'black'}\n",
        "))\n",
        "\n",
        "fig.show()"
      ],
      "metadata": {
        "colab": {
          "base_uri": "https://localhost:8080/",
          "height": 542
        },
        "id": "wKy7Ub3722Gn",
        "outputId": "bdc53a87-925c-4c0e-ed15-6c8db8df7df6"
      },
      "execution_count": 54,
      "outputs": [
        {
          "output_type": "display_data",
          "data": {
            "text/html": [
              "<html>\n",
              "<head><meta charset=\"utf-8\" /></head>\n",
              "<body>\n",
              "    <div>            <script src=\"https://cdnjs.cloudflare.com/ajax/libs/mathjax/2.7.5/MathJax.js?config=TeX-AMS-MML_SVG\"></script><script type=\"text/javascript\">if (window.MathJax && window.MathJax.Hub && window.MathJax.Hub.Config) {window.MathJax.Hub.Config({SVG: {font: \"STIX-Web\"}});}</script>                <script type=\"text/javascript\">window.PlotlyConfig = {MathJaxConfig: 'local'};</script>\n",
              "        <script charset=\"utf-8\" src=\"https://cdn.plot.ly/plotly-2.35.2.min.js\"></script>                <div id=\"f4a5f293-b9eb-4f4b-94ec-4555be7639a0\" class=\"plotly-graph-div\" style=\"height:525px; width:100%;\"></div>            <script type=\"text/javascript\">                                    window.PLOTLYENV=window.PLOTLYENV || {};                                    if (document.getElementById(\"f4a5f293-b9eb-4f4b-94ec-4555be7639a0\")) {                    Plotly.newPlot(                        \"f4a5f293-b9eb-4f4b-94ec-4555be7639a0\",                        [{\"mode\":\"markers\",\"name\":\"Actual\",\"x\":[29,16,15,20,24,24,13,24,21,25,19,18,9,20,17,16,20,16,14,23,18,15,28,18,20,14,19,17,25,23,25,25,31,13,14,19,18,24,28,22,15,7,24,20,22,14,24,14,20,17,15,12,19,19,10,22,9,23,23,14,18,9,26,11,8,15,22,18,18,22,29,15,19,27,17,13,17,12,13,26,24,12,26,25,22,18,18,19,14,23,15,23,19,20,20,22,13,16,22,29,21,2,26,17,16,24,17,22,36,21,29,19,22,16,18,26,11,11,27,17,26,18,7,29,28,19,17,23,27,16,20,24,15,9,23,24,24,12,8,31,26,30,19,25,31,22,16,21,27,29,17,13,25,17,24,14,13,20,22,9,24,13,22,18,16,14,22,21,15,19,21,21,15,9,19,18,30,19,14,17,21,20,20,25,21,16,22,20,16,11,21,19,20,18,12,27,18,25,18,20,24,19,22,18,12,24,19,33,26,15,16,30,25,23,25,23,23,21,17,24,18,24,27,22,23,25,25,11,24,20,19,25,18,27,22,28,21,20,24,15,17,20,9,19,30,22,9,13,31,15,14,18,26,21,12,8,20,28,16,20,28,26,20,24,13,27,16,20,11,10,22,14,30,11,16,20,16,23,18,24,23,21,29,27,19,14,23,26,11,24,17,26,23,18,27,26,24,33,20,31,11,11,20,25,18,22,18,25,23,14,27,18,21,25,15,28,24,22,11,24,27,15,17,25,8,18,30,13,22,23,30,19,17,22,14,25,14,19,19,9,24,22,21,19,28,13,15,21,26,5,9,13,31,25,24,22,10,6,15,17,26,25,23,22,27,14,17,12,20,24,25,21,26,14,14,24,15,25,19,23,20,29,19,29,17,15,14,20,19,25,16,19,21,19,16,10,22,16,15,32,11,24,11,13,23,14,27,18,25,19,21,14,19,10,18,22,20,15,7,8,26,23,27,16,10,14,20,24,19,34,13,21,22,27,20,23,36,26,23,19,19,26,15,20,22,10,2,19,25,25,20,29,20,12,16,15,22,36,22,10,18,23,24,5,24,26,29,20,13,3,14,3,18,34,24,26,20,29,27,19,22,18,12,16,25,26,20,17,13,16,13,19,10,11,14,12,13,19,22,19,27,21,19,14,19,17,27,13,27,23,23,19,25,20,21,22,22,16,20,21,25,11,20,13,18,30,22,20,22,19,24,28,25,13,23,17,11,6,19,37,25,24,18,23,5,19,24,22,15,10,19,20,15,19,22,35,18,28,25,25,21,20,18,11,16,13,25,20,20,23,11,24,16,22,20,22,11,21,12,18,27,16,15,19,20,18,19,21,12,14,18,20,11,25,13,15,23,20,23,35,8,28,20,34,14,28,17,30,31,13,26,17,14,15,18,26,30,19,15,14,25,14,14,4,23,21,15,21,34,26,12,23,21,20,10,22,12,26,26,11,21,16,20,13,27,23,25,17,12,30,20,25,23,14,13,16,20,12,4,29,27,21,16,30,18,24,16,25,21,20,20,23,27,26,27,17,23,22,14,17,26,19,19,14,14,21,17,15,20,20,29,24,27,21,29,20,28,18,9,18,27,23,23,23,33,25,30,16,28,30,20,16,35,24,18,22,11,18,30,17,7,11,18,21,22,20,27,18,21,12,13,21,15,23,21,18,26,9,21,22,20,18,28,11,13,17,22,14,15,27,24,13,26,19,23,24,13,22,13,18,16,20,8,13,25,16,24,26,23,15,16,22,24,28,22,13,25,26,11,7,25,23,21,20,15,12,18,13,11,6,25,22,19,16,17,12,23,28,14,26,29,30,20,16,19,23,35,16,21,27,19,20,18,6,3,19,10,20,17,16,22,20,14,3,11,26,19,15,15,23,13,29,14,12,23,15,21,14,16,32,15,26,23,30,24,23,21,32,21,18,27,11,22,20,21,25,16,30,9,17,26,15,27,29,30,26,25,11,22,14,15,19,17,25,26,21,20,23,24,15,20,21,17,10,15,26,9,21,27,12,23,10,12,16,14,27,16,26,23,23,27,18,19,25,21,21,24,17,25,22,22,22,23,28,32,27,16,18,15,22,19,36,16,20,17,7,22,19,14,13,20,26,12,16,25,16,21,34,24,17,27,22,22,22,28,34,35,28,22,24,16,30,25,27,23,15,30,33,28,22,31,12,15,30,23,16,35,22,24,32,9,13,20,21,9,26,23,17,17,18,28,16,22,22,18,25,28,17,16,39,18,19,13,18,16,19,24,9,16,18,21,16,20,17,18,26,20,22,18,23,17,20,23,12,12,17,28,27,25,22,30,20,21,13,16,18,22,16,24,22,22,30,23,21,21,11,14,23,27,17,19,19,23,27,19,30,26,12,23,26,14,16,23,23,5,29,13,20,24,17,19,25,18,29,15,21,25,24,25,29,17,26,23,21,31,19,18,12,15,27,20,23,28,24,28,11,29,17,20,20,6,28,24,19,18,30,19,8,20,27,34,29,22,24,20,20,29,23,30,19,12,17,18,25,7,19,25,12,16,24,26,21,8,14,17,32,24,17,14,10,20,20,16,19,19,16,17,18,22,15,20,14,19,26,13,23,28,28,18,20,24,26,19,27,26,14,33,18,16,12,25,19,26,23,19,20,14,18,20,26,10,15,13,22,18,16,16,23,27,28,19,10,22,16,26,24,22,9,13,19,18,23,18,17,19,3,24,10,21,22,39,13,9,28,26,19,21,25,26,19,25,19,23,22,20,18,7,21,23,20,29,17,13,17,24,27,22,27,10,12,17,12,19,10,20,5,21,22,25,32,17,22,8,12,13,9,20,19,27,23,14,25,10,20,11,13,23,20,22,29,14,13,14,13,17,27,21,20,25,23,14,16,25,16,19,16,18,22,18,25,22,22,26,20,20,20,23,21,30,20,19,19,21,26,24,20,17,23,16,32,27,22,15,22,27,14,10,16,20,18,9,34,26,25,16,19,21,17,20,22,11,14,14,28,18,28,31,29,20,24,11,29,13,11,17,30,21,15,27,1,10,18,27,28,18,21,9,19,17,15,16,28,19,7,22,21,29,25,17,26,18,14,28,16,26,35,24,31,21,18,17,20,23,13,21,29,25,22,21,25,19,14,17,19,29,3,25,22,12,21,24,20,11,31,17,16,15,19,17,17,29,23,19,32,16,20,13,19,27,30,11,25,23,32,16,34,17,16,11,17,20,12,19,26,24,19,25,20,9,14,36,21,21,18,21,30,11,30,11,26,17,22,12,29,13,12,14,24,19,17,22,14,21,26,21,28,24,30,19,26,17,21,23,39,20,27,15,5,37,9,10,20,21,18,20,14,18,27,20,12,18,21,27,23,20,21,28,17,14,34,15,15,21,24,16,23,23,14,12,16,28,23,22,13,11,16,23,24,26,25,28,17,20,20,28,7,27,7,29,25,20,12,30,15,20,12,22,23,27,10,19,19,24,16,17,19,25,30,25,24,17,24,21,27,14,19,24,20,18,14,24,25,33,13,24,19,21,22,20,24,19,21,17,18,18,19,28,26,8,19,15,24,21,10,26,22,16,20,12,15,15,21,15,16,26,15,24,21,19,18,10,6,34,19,13,20,26,19,18,27,26,16,12,25,19,23,19,21,15,13,7,17,13,18,23,25,18,15,18,19,21,8,15,23,21,32,24,23,21,17,22,13,30,23,27,20,21,20,13,22,22,19,18,22,15,18,20,16,14,24,19,13,26,26,23,23,24,22,18,17,14,23,30,24,16,16,21,35,16,22,23,16,13,19,29,16,26,22,20,27,17,16,21,20,21,22,10,21,15,15,20,26,13,32,25,7,22,28,24,20,30,24,34,19,10,16,18,25,23,29,24,19,13,32,19,14,19,18,35,21,14,25,23,30,10,21,14,12,30,7,25,25,11,22,23,18,19,24,23,19,19,22,24,24,16,18,15,23,17,28,15,17,32,29,14,18,14,25,22,28,22,7,21,16,24,17,18,26,31,24,13,22,25,16,17,30,24,13,33,29,19,19,19,14,15,15,10,28,19,24,22,17,33,25,23,17,25,18,22,21,24,16,13,23,21,24,17,20,28,21,13,26,22,22,37,29,15,22,25,21,24,15,27,16,21,18,19,18,15,25,13,16,8,14,32,28,21,20,25,38,13,29,13,18,24,15,20,16,33,27,8,29,43,27,18,21,9,22,32,19,33,15,23,24,17,23,19,18,9,21,20,29,23,19,22,29,24,27,14,20,22,16,24,16,15,14,23,19,13,22,22,9,22,19,15,11,22,26,19,19,17,16,20,29,19,28,9,18,24,21,22,21,17,15,31,18,23,15,25,19,24,23,16,33,23,15,10,18,32,18,15,4,16,29,28,19,20,22,30,16,29,21,15,19,19,21,20,12,7,26,22,27,21,16,26,24,26,27,29,13,21,16,20,18,16,12,10,15,23,22,18,14,24,25,30,16,18,39,22,14,35,19,28,16,14,19,29,25,18,16,20,24,21,19,7,21,27,30,23,38,15,23,20,20,25,27,17,13,26,18,19,19,12,18,24,22,26,23,17,24,22,19,27,16,28,22,22,18,17,9,21,19,25,29,16,33,27,18,24,17,20,24,21,26,10,16,12,18,22,20,8,11,21,10,22,26,16,24,17,19,23,31,15,16,33,21,20,28,44,15,25,13,24,26,15,18,27,12,14,24,21,28,20,19,31,7,24,25,23,27,20,26,18,10,20,15,16,21,29,7,12,15,34,20,15,20,27,18,18,24,10,23,17,23,22,18,21,28,15,26,13,6,10,24,16,27,17,16,24,25,28,17,24,16,11,16,18,20,10,17,18,24,17,18,23,18,12,20,23,19,13,13,20,22,23,14,23,10,20,15,26,13,28,16,14,13,23,22,16,18,17,20,27,23,14,15,17,19,17,24,8,27,19,14,29,18,22,21,29,24,15,11,26,16,13,33,13,19,17,12,20,22,26,21,23,21,23,16,22,30,29,23,23,21,18,27,13,11,22,24,19,35,18,22,12,17,16,21,21,18,25,20,20,32,23,17,21,11,23,23,25,19,15,21,26,18,26,37,7,24,18,20,19,30,26,19,24,24,15,11,19,19,31,25,11,13,17,15,32,21,11,20,23,19,17,25,28,23,24,18,27,8,36,22,18,30,18,19,23,15,14,15,23,20,16,14,28,31,13,20,28,16,21,20,20,27,20,14,21,23,23,16,16,27,19,15,20,12,26,25,24,25,26,14,39,12,23,22,20,23,23,23,14,20,14,21,21,12,27,30,13,17,24,18,25,33,27,29,19,18,25,22,25,20,18,18,15,9,12,22,23,19,19,18,24,21,19,20,17,27,23,25,17,16,27,14,26,13,18,22,25,29,7,18,27,18,19,15,15,27,21,20,12,23,17,24,20,23,16,27,17,17,15,24,23,25,24,15,21,26,18,26,16,25,20,18,17,18,24,18,23,21,9,22,16,15,16,24,15,26,18,21,18,28,22,20,16,17,18,21,15,19,26,14,13,26,19,17,19,21,18,18,22,27,21,28,30,21,20,16,25,25,33,11,22,28,5,19,21,25,12,19,22,16,17,23,22,28,14,15,15,28,26,29,14,21,13,29,19,18,18,12,20,12,9,10,12,27,27,14,22,20,21,17,20,14,6,21,19,26,18,17,17,17,19,19,7,11,30,22,21,6,23,29,18,20,28,11,23,19,15,11,24,26,9,22,16,22,33,17,22,28,33,30,13,22,17,21,12,24,26,15,22,19,8,18,28,21,18,16,19,26,29,19,3,15,18,13,4,16,21,18,22,23,19,11,20,25,22,17,20,10,16,23,21,26,19,17,27,7,31,24,27,23,21,10,26,26,20,17,24,24,20,24,19,14,21,18,18,17,18,15,10,18,28,29,27,16,22,23,9,23,12,22,14,21,21,20,12,21,17,29,15,29,20,18,19,22,22,19,27,28,19,16,20,30,28,28,12,8,28,19,28,15,16,17,20,18,12,18,31,12,21,12,20,32,25,11,18,28,14,12,17,29,15,29,26,26,24,16,24,17,21,5,16,22,17,17,11,24,27,20,26,15,31,21,17,23,19,22,24,24,18,27,13,18,11,14,22,11,13,15,27,13,16,16,15,21,26,27,21,30,24,14,17,19,31,23,20,15,24,21,14,24,20,17,30,22,17,32,17,23,18,29,20,30,20,18,21,18,19,33,24,17,29,9,19,15,17,15,24,9,23,20,35,21,11,20,19,17,20,16,25,12,22,21,22,23,23,25,19,24,28,23,23,17,19,17,13,16,17,5,31,14,26,19,7,18,29,16,22,12,11,18,14,19,25,22,21,19,16,16,27,25,18,26,15,24,22,29,26,24,16,19,18,24,21,20,8,24,16,27,22,22,17,29,26,33,21,11,13,19,30,23,18,16,12,19,14,22,22,17,5,15,20,13,23,16,17,25,18,21,13,28,19,29,20,24,19,7,21,31,21,26,27,16,15,14,33,14,14,20,18,14,15,22,20,14,16,23,18,19,32,15,21,20,16,20,16,14,22,25,17,25,24,23,20,24,12,15,24,15,19,22,19,15,20,26,8,21,17,24,17,26,20,16,9,10,16,18,24,15,17,12,13,20,14,20,23,19,31,20,25,26,25,25,26,11,30,17,26,27,22,12,33,24,38,23,12,14,26,18,10,20,28,26,28,16,18,11,21,20,18,20,11,11,22,24,19,28,17,23,19,23,27,22,13,21,20,18,34,22,21,16,15,20,30,26,17,35,21,20,23,11,23,21,18,25,13,21,19,19,24,26,28,13,12,30,17,19,20,28,22,19,12,13,24,21,30,26,21,15,19,23,28,31,22,17,16,14,20,22,29,16,18,23,19,26,9,17,14,26,8,18,23,30,18,22,18,24,14,15,19,24,19,12,17,18,24,19,9,9,18,25,16,16,32,23,15,19,22,23,26,25,11,27,16,24,19,11,22,30,10,26,20,18,12,18,27,21,23,15,16,7,17,27,23,16,1,12,16,8,17,22,15,29,8,17,12,23,24,6,12,26,31,22,27,23,19,14,20,9,27,23,15,12,29,16,12,22,25,13,17,12,24,13,18,15,8,31,18,12,31,31,23,22,24,17,15,25,19,22,26,21,16,26,16,16,18,22,14,17,11,9,15,19,14,17,29,24,24,11,18,31,20,20,15,23,27,9,9,25,26,22,15,11,24,19,16,16,22,22,13,17,28,29,16,18,12,20,24,23,5,14,21,18,13,24,22,20,27,21,25,25,30,24,20,27,19,21,19,30,12,22,31,22,18,23,28,23,33,18,14,14,29,13,25,22,25,29,24,20,13,23,25,18,11,23,25,20,21,6,19,21,19,18,13,16,12,13,23,12,34,23,24,17,22,25,22,21,18,26,15,15,19,26,16,20,30,28,21,25,14,21,17,15,12,24,19,19,17,14,20,12,17,21,12,32,19,23,22,17,27,18,17,27,19,12,21,7,21,13,27,12,12,12,18,14,10,14,20,20,12,26,15,8,20,5,20,23,17,7,16,19,8,32,18,31,27,17,18,30,18,22,11,26,14,17,22,17,18,14,29,27,4,15,28,14,19,32,13,20,14,22,27,24,33,29,21,31,19,20,23,19,17,27,24,15,21,3,34,22,16,32,16,18,25,17,22,23,15,25,31,16,18,17,13,21,13,20,12,17,16,21,29,11,13,21,16,29,30,16,23,34,26,21,12,13,21,13,15,21,22,12,20,19,25,20,5,14,30,22,20,24,29,11,13,20,12,22,20,26,15,8,15,18,20,21,19,21,22,30,5,15,17,27,21,23,27,34,18,16,15,7,10,17,22,8,15,14,11,15,31,19,29,21,16,20,21,7,23,19,12,31,14,17,23,22,9,21,18,13,7,16,14,15,11,37,21,15,25,10,32,23,24,21,30,19,15,11,13,21,16,20,17,21,24,21,13,15,8,25,33,16,13,17,19,18,17,19,20,20,19,15,19,16,19,21,16,21,11,17,13,22,28,7,27,18,16,19,27,19,13,23,12,6,31,20,16,12,15,7,25,25,22,18,31,26,19,18,23,23,22,8,17,14,21,15,23,21,22,9,17,22,26,16,24,24,16,22,12,22,27,17,14,26,16,12,21,13,23,23,14,17,13,18,21,13,25,29,21,21,23,20,16,31,23,24,17,18,26,13,24,21,27,23,13,17,20,26,19,19,19,16,16,21,17,13,31,19,24,20,19,24,19,21,18,22,24,16,24,23,25,19,25,20,25,24,20,18,17,13,20,24,21,7,20,28,29,23,30,12,35,27,19,21,16,15,20,15,18,22,15,27,22,16,28,25,26,17,21,18,18,22,15,32,15,21,21,21,12,15,21,21,22,24,21,9,28,24,19,31,15,24,12,25,18,12,19,27,19,9,21,16,14,14,23,24,27,14,22,21,18,25,15,16,21,9,25,20,13,26,22,13,8,17,20,20,11,19,20,19,20,23,29,22,16,17,15,24,16,25,3,19,27,23,17,10,21,23,17,17,7,15,17,33,27,21,17,16,26,11,17,30,29,23,18,12,13,24,30,23,27,13,19,25,4,14,22,11,12,26,7,21,17,20,24,15,17,28,25,25,26,21,18,19,18,24,21,24,30,26,14,17,19,22,21,15,21,22,19,16,20,12,20,12,13,21,28,14,30,19,24,8,18,30,20,25,19,27,17,14,25,15,23,24],\"y\":[72,67,65,68,68,64,62,64,65,70,69,71,63,70,67,70,66,63,60,70,65,61,66,69,63,68,72,64,68,69,71,68,68,61,66,70,63,65,68,65,65,59,68,69,69,65,94,62,65,64,61,67,68,64,62,68,62,65,66,68,67,66,69,67,62,63,67,68,65,63,71,62,67,69,69,68,69,61,67,74,68,70,66,72,70,68,69,70,63,68,64,70,70,68,72,71,70,65,71,70,68,66,68,68,60,74,65,66,72,62,72,62,72,72,68,71,62,63,65,64,67,70,58,71,70,68,69,63,68,68,72,70,61,70,69,73,62,64,67,75,65,72,69,70,72,70,63,71,65,74,67,60,72,58,64,68,68,60,70,60,64,64,67,66,67,69,65,64,64,64,64,70,69,62,69,69,70,62,67,65,65,69,68,67,67,66,64,65,71,61,64,69,65,61,68,68,67,68,65,72,70,65,71,70,68,71,66,67,71,64,65,74,69,67,71,70,66,71,62,67,68,73,74,65,67,70,69,68,67,66,68,70,66,73,68,68,70,62,67,62,62,67,65,64,66,70,67,71,70,68,61,66,63,70,66,63,65,68,67,70,73,68,65,63,69,67,72,68,62,61,63,65,66,63,65,68,71,68,74,75,66,67,68,66,64,66,71,68,66,69,65,71,70,72,66,67,70,66,68,68,64,64,68,68,69,65,66,66,66,69,71,67,66,71,63,69,70,70,65,66,66,70,66,70,65,69,74,65,65,71,73,69,71,71,64,66,65,69,66,66,67,65,63,68,71,68,62,66,71,64,65,66,70,65,68,65,64,60,69,65,74,71,69,71,66,62,63,59,67,63,72,72,71,71,64,71,65,74,69,66,71,67,66,77,71,65,64,69,71,63,64,60,70,64,64,62,68,64,65,70,62,64,67,60,69,66,73,62,65,65,68,63,65,66,68,66,67,66,63,66,73,66,69,64,63,70,66,68,73,69,65,67,66,71,70,68,69,66,70,66,68,70,67,70,71,68,65,67,68,72,66,73,67,65,70,65,68,70,69,63,70,73,71,65,67,66,69,65,64,62,69,67,65,74,72,65,65,67,70,70,65,70,63,69,67,74,64,65,61,62,62,63,70,65,66,66,60,69,65,69,70,72,65,62,64,65,73,63,70,70,68,64,64,68,63,69,65,59,64,61,69,70,66,63,66,69,64,68,61,67,71,72,72,65,70,67,64,68,73,75,68,62,65,67,68,62,71,71,65,63,65,67,71,68,64,71,65,74,67,67,67,69,63,63,68,67,70,69,72,71,87,73,63,64,68,69,62,69,62,64,67,64,66,72,65,67,67,69,66,61,70,66,61,94,60,61,70,66,65,72,63,70,66,75,68,73,72,66,67,63,63,67,67,67,66,73,69,67,68,71,69,66,71,61,68,68,72,67,70,68,66,69,69,65,66,63,65,65,67,72,64,66,65,63,70,66,66,66,61,70,65,70,70,63,68,66,70,65,60,70,69,65,68,71,66,67,65,68,65,69,68,64,70,71,68,65,71,70,64,64,67,68,64,67,63,62,64,63,68,68,69,71,70,65,64,64,69,64,66,68,68,66,66,64,71,67,69,65,65,69,66,65,79,65,66,69,67,64,72,70,62,64,66,70,72,62,74,66,69,62,68,69,66,67,64,95,65,61,68,64,63,66,67,66,66,66,66,65,67,69,70,63,71,71,64,69,67,71,61,69,82,63,60,64,72,65,65,68,72,63,67,69,68,74,67,60,66,72,68,66,63,66,67,63,65,68,70,62,66,65,71,70,68,65,64,61,74,70,64,72,75,74,68,64,70,66,72,63,68,72,69,66,64,64,58,70,65,64,63,63,66,68,64,66,62,69,66,69,64,68,64,71,63,65,68,63,70,64,70,71,65,68,70,71,71,67,70,74,70,61,74,67,69,69,68,67,69,69,65,61,68,63,73,67,67,65,71,69,67,70,59,68,68,68,65,66,68,71,66,72,68,66,66,61,66,68,63,63,67,67,65,62,62,63,66,72,70,67,68,71,71,64,62,72,71,63,69,67,71,69,65,71,65,71,71,74,98,70,68,64,65,69,71,67,70,60,70,66,66,66,68,63,67,61,65,66,65,73,85,67,72,68,72,64,64,71,75,68,64,67,68,72,71,68,66,62,71,68,71,71,67,64,67,72,70,62,77,68,67,67,65,61,71,64,60,66,66,63,65,67,67,68,66,64,69,66,70,70,66,79,75,67,64,70,69,66,68,66,71,64,70,72,70,62,61,72,64,69,68,69,68,69,72,73,63,69,72,73,71,67,70,63,67,63,70,67,67,69,66,71,71,72,71,69,71,65,66,65,70,64,70,66,67,66,66,70,67,62,68,71,63,65,66,63,59,70,63,68,72,62,69,68,64,75,65,71,70,67,69,76,67,67,72,69,67,65,65,62,66,72,66,63,63,69,70,68,69,61,67,64,64,68,68,70,64,75,66,65,67,68,69,70,67,72,66,63,69,66,68,62,63,64,65,67,61,68,70,61,64,64,64,60,67,62,69,75,64,62,61,66,68,72,68,63,68,63,63,69,69,68,66,66,67,70,66,74,68,71,66,67,66,69,70,66,63,72,71,68,66,68,67,69,70,70,70,63,68,63,64,67,71,65,65,64,67,65,68,64,73,67,63,65,72,68,70,70,65,67,65,65,67,68,69,65,69,58,70,65,72,72,77,64,62,74,72,66,70,70,66,71,70,66,69,66,72,82,66,73,66,65,70,68,66,67,69,67,69,74,61,64,67,67,69,61,65,64,89,66,72,68,63,68,64,67,60,62,70,71,70,66,59,70,61,64,68,58,69,66,63,67,68,66,62,65,69,74,69,70,70,68,62,64,68,65,66,63,72,70,64,65,69,65,74,65,67,71,67,67,70,66,68,64,66,67,65,67,65,66,67,74,66,69,64,66,70,69,66,66,66,68,61,65,72,70,65,67,71,66,73,66,65,62,64,73,66,69,72,73,64,69,67,74,67,61,70,70,63,66,65,60,61,72,70,70,67,67,66,69,64,68,62,68,68,65,71,71,69,66,63,70,68,64,69,70,71,66,63,70,65,66,65,72,67,66,66,70,69,65,95,68,67,65,63,67,69,65,66,64,71,69,68,69,69,72,68,64,64,65,63,68,70,69,72,70,61,67,58,64,71,65,68,70,67,71,66,67,67,65,66,66,72,67,69,68,70,71,64,66,58,63,70,70,62,67,68,68,65,66,66,73,69,65,63,70,69,64,68,64,71,65,66,66,68,66,72,68,65,69,64,66,63,69,65,73,66,73,65,62,76,67,67,70,66,62,67,63,67,72,66,67,64,71,64,68,63,73,72,68,66,75,67,67,68,71,66,65,71,63,63,65,65,73,68,67,58,65,72,70,68,75,66,65,69,65,65,62,72,63,72,68,69,69,72,65,69,62,71,71,65,63,68,71,72,65,68,59,66,77,67,68,68,63,68,70,68,69,69,68,69,62,68,67,70,68,68,62,64,71,70,68,68,69,64,66,69,64,65,70,62,64,68,67,70,64,63,65,69,66,68,62,69,65,70,70,71,67,70,65,66,66,63,65,67,62,66,65,65,69,65,86,69,68,63,72,68,67,67,65,66,62,66,69,63,65,65,69,63,63,96,71,63,63,67,72,71,66,67,71,61,62,72,65,67,69,69,70,71,68,66,68,67,66,65,64,72,65,63,67,68,66,72,67,67,68,69,72,71,66,70,62,61,63,68,71,66,63,67,71,65,65,67,68,68,65,68,68,76,73,71,66,71,62,66,64,68,68,69,69,63,68,64,66,67,72,74,64,67,72,67,65,72,64,75,70,65,59,61,97,70,65,72,70,64,71,66,66,60,65,70,63,66,70,66,74,62,65,60,67,73,65,68,74,67,74,73,67,65,70,68,67,70,67,69,68,64,63,67,73,62,71,63,66,68,74,65,64,64,68,60,75,68,65,65,67,67,65,67,74,74,69,65,70,70,61,70,71,69,63,70,71,69,69,67,66,65,68,68,69,64,67,83,67,69,66,70,63,67,61,65,66,68,65,64,63,69,71,66,68,68,68,69,66,65,66,68,73,66,72,71,64,74,64,71,71,73,70,68,71,67,69,65,66,68,64,69,67,64,63,70,72,65,72,59,69,74,61,62,65,68,69,61,66,78,66,71,72,67,72,74,72,68,62,64,64,67,70,74,66,66,67,70,70,66,66,71,72,72,68,64,65,65,68,66,68,66,61,68,68,66,65,68,62,63,66,66,65,72,69,65,70,66,68,70,73,66,68,61,64,66,70,72,64,70,67,75,73,70,66,68,71,71,64,66,68,65,70,60,71,76,66,64,58,68,69,72,67,65,68,70,65,70,69,68,69,67,65,70,66,67,65,68,70,69,65,67,68,66,70,71,66,69,64,68,68,63,62,63,64,71,63,70,66,66,68,67,68,69,70,69,66,74,69,67,68,68,72,65,64,67,68,67,65,72,70,62,65,68,73,73,69,68,68,69,69,71,61,66,63,72,80,64,67,62,66,69,68,71,72,64,66,72,66,68,71,71,70,70,66,67,66,68,68,71,74,66,69,69,68,64,62,63,67,70,68,62,65,67,65,69,66,66,63,65,66,80,64,64,66,63,69,69,71,64,68,74,69,67,65,71,68,66,70,66,72,62,69,69,67,60,67,67,67,65,64,65,62,72,67,70,72,67,70,67,66,66,97,64,67,71,66,67,67,75,66,62,67,68,72,62,75,60,71,66,72,64,68,68,74,66,64,63,64,65,68,68,69,63,68,67,68,69,63,84,66,65,69,67,63,65,65,67,68,63,71,68,71,70,68,66,69,66,65,70,68,68,63,67,58,63,66,64,67,73,67,65,67,67,62,65,67,66,62,69,67,71,71,66,66,65,74,61,69,69,65,70,71,67,63,72,70,64,61,66,67,61,73,61,68,64,65,65,65,66,71,72,68,68,67,64,66,65,67,68,66,67,71,62,65,66,69,73,73,68,63,62,66,59,68,65,72,72,68,70,70,64,65,69,66,70,72,62,66,60,69,66,65,72,72,59,65,68,69,68,74,66,71,65,74,65,64,64,67,74,66,61,66,64,69,72,64,64,64,63,68,66,65,67,63,70,69,69,62,71,70,64,67,66,69,64,62,67,69,66,70,63,67,67,74,63,70,71,63,68,69,66,72,63,63,65,64,65,69,70,69,68,70,66,64,65,93,63,72,65,67,75,68,67,65,65,74,71,71,62,62,65,68,69,64,65,68,69,65,65,66,70,71,74,72,66,70,72,63,66,70,67,61,61,69,65,68,65,64,65,65,65,66,68,65,68,68,63,71,68,67,73,62,66,67,70,61,69,68,65,65,71,69,66,67,65,74,66,65,63,68,68,71,67,65,65,65,67,65,65,65,67,71,70,65,70,69,65,68,67,65,68,71,64,66,65,71,70,68,65,63,61,69,79,70,67,68,65,68,67,67,68,68,62,66,65,61,63,68,68,65,63,70,67,64,68,71,67,63,65,72,69,67,73,67,71,69,66,67,71,64,74,69,56,71,71,73,60,65,72,70,65,69,67,73,69,67,71,70,63,67,64,63,71,70,67,72,71,63,74,59,62,66,68,70,71,58,71,65,66,69,67,70,66,67,65,62,64,65,62,63,64,62,62,68,67,67,65,65,68,74,62,66,66,71,66,62,66,65,69,74,65,70,67,70,72,68,68,72,66,72,69,67,68,69,66,69,72,63,71,61,63,68,73,69,69,64,62,67,68,69,66,64,69,62,58,69,63,66,69,66,73,66,71,68,66,65,72,59,67,63,70,71,61,66,66,64,67,66,70,65,71,67,67,74,61,70,69,69,71,70,62,66,67,70,69,67,66,66,67,68,72,71,72,63,69,67,64,65,67,70,64,69,67,67,70,66,66,67,70,71,67,69,68,66,70,63,71,68,70,71,67,69,65,67,65,60,70,64,67,68,69,62,66,66,64,70,69,69,64,64,68,75,68,70,64,70,67,71,68,73,65,64,69,70,68,66,68,67,66,63,67,66,62,62,69,68,68,68,69,69,72,66,70,67,69,68,71,64,63,67,66,65,65,66,70,64,69,64,73,65,67,63,63,68,74,68,71,71,73,63,65,66,74,69,69,64,71,70,69,68,63,65,69,75,64,74,65,70,66,71,66,70,66,66,67,70,64,68,66,68,69,66,70,64,72,67,72,67,68,69,76,70,64,66,78,70,67,63,66,66,65,69,65,67,63,75,64,67,65,68,65,70,68,61,68,66,67,62,74,67,68,66,61,68,71,64,71,61,68,65,68,66,70,66,64,72,66,67,71,74,69,69,63,64,65,66,63,67,67,65,65,72,65,66,61,74,63,74,67,63,71,69,72,75,67,70,67,65,67,63,71,67,65,69,67,64,67,66,67,61,62,61,64,65,67,69,88,68,68,67,67,72,68,67,74,59,70,67,63,70,70,69,73,61,70,69,66,69,69,68,68,65,69,64,68,65,70,62,69,63,72,69,62,64,67,65,68,66,62,66,72,73,64,71,67,70,66,64,66,67,66,65,69,66,62,69,62,69,69,69,69,68,64,69,66,66,69,62,66,65,64,64,62,65,72,63,71,69,71,69,74,66,69,64,72,86,70,68,70,69,67,68,73,71,58,62,70,64,62,69,64,72,70,60,71,62,71,65,70,72,69,64,68,67,66,71,67,65,68,69,74,65,66,69,71,66,68,68,69,66,67,65,74,68,67,68,66,68,66,71,67,60,66,73,65,70,66,67,71,66,66,67,69,70,65,66,66,70,68,63,68,66,72,65,70,65,68,69,64,73,73,72,67,65,66,64,70,66,66,66,68,70,70,72,62,60,66,69,70,69,71,72,68,68,69,65,62,65,66,62,62,70,61,66,68,68,62,63,67,67,67,71,68,68,69,62,70,69,66,68,88,63,62,70,70,60,65,66,66,66,68,64,62,65,64,66,68,63,71,62,67,66,66,63,61,67,65,68,65,70,70,67,64,71,64,71,70,61,64,66,68,66,70,64,69,68,70,64,70,67,62,64,72,64,63,67,66,63,67,69,68,65,62,66,68,72,62,63,92,70,66,68,70,69,62,69,70,64,70,67,61,62,62,62,65,69,62,70,68,69,69,62,61,62,72,64,70,58,71,70,64,69,61,63,72,64,65,68,68,64,68,62,68,70,62,64,62,69,71,69,71,72,61,65,66,70,69,71,65,64,67,68,63,68,62,67,66,64,67,66,69,65,72,73,70,64,71,68,70,67,66,71,71,68,65,68,69,67,63,82,69,66,68,67,64,74,68,72,65,72,73,63,62,74,64,66,64,63,63,66,67,64,58,67,65,65,66,64,71,65,69,67,68,64,68,70,67,70,68,66,65,68,69,60,74,71,65,67,69,65,70,59,62,67,68,66,65,63,70,63,67,65,62,65,64,67,69,68,74,64,66,67,69,63,73,68,69,67,66,66,67,69,62,63,66,68,67,72,61,67,65,65,69,62,69,70,63,63,65,69,67,70,73,75,68,69,63,88,63,66,66,65,69,66,70,61,63,60,72,67,64,62,72,66,68,67,66,72,64,64,66,72,69,69,68,71,68,80,67,64,69,68,69,69,63,58,72,70,69,76,67,62,69,64,67,64,64,68,72,63,65,63,66,71,68,67,68,71,64,70,69,69,65,67,69,73,72,62,69,68,67,69,66,61,68,68,68,67,84,63,63,66,71,69,59,68,68,64,72,70,66,60,62,65,62,70,69,66,65,63,68,63,66,64,65,68,68,69,66,66,72,68,67,65,63,73,70,66,59,66,67,70,72,66,61,67,60,60,71,69,68,66,67,68,71,64,64,68,65,70,66,68,72,64,63,71,64,68,59,69,64,67,68,73,68,63,71,63,75,71,65,67,72,65,64,67,65,70,68,64,64,67,67,68,61,66,63,69,72,71,68,64,68,66,66,65,68,69,67,64,66,63,68,70,69,72,58,66,62,65,67,67,69,68,70,64,70,64,67,71,66,59,73,70,63,65,67,66,64,65,74,64,69,70,67,64,66,64,68,61,64,66,66,68,65,74,69,82,71,68,69,61,64,66,69,72,60,64,65,66,65,72,66,64,71,64,70,67,59,68,67,62,72,61,65,70,66,66,72,68,68,65,72,71,74,69,70,63,68,69,67,68,66,66,65,75,66,66,62,66,69,68,67,69,72,69,64,70,72,69,70,70,71,70,68,68,67,67,65,69,72,70,65,67,72,64,70,65,62,68,65,87,69,71,71,70,73,61,72,71,70,73,69,66,71,63,63,71,62,67,64,66,73,70,69,66,67,69,59,66,71,75,64,67,67,73,62,61,70,71,67,71,70,65,65,68,64,65,70,71,64,70,68,62,68,76,62,65,67,67,66,67,68,73,69,65,68,72,69,72,66,67,63,67,70,65,69,69,69,66,67,68,69,66,69,66,61,69,69,69,64,65,63,69,63,71,67,67,63,63,74,66,67,65,70,68,70,68,60,68,65,69,70,64,67,67,66,64,63,66,68,68,70,69,68,69,72,68,69,68,64,68,58,61,65,68,62,68,72,69,62,69,71,69,68,70,68,65,73,70,72,65,68,68,67,68,72,66,71,67,67,70,67,69,67,70,66,65,67,60,64,69,64,63,66,66,69,64,66,61,66,72,68,70,65,68,69,69,72,63,70,72],\"type\":\"scatter\"},{\"line\":{\"color\":\"black\",\"dash\":\"solid\"},\"mode\":\"lines\",\"name\":\"LS\",\"x\":[29,16,15,20,24,24,13,24,21,25,19,18,9,20,17,16,20,16,14,23,18,15,28,18,20,14,19,17,25,23,25,25,31,13,14,19,18,24,28,22,15,7,24,20,22,14,24,14,20,17,15,12,19,19,10,22,9,23,23,14,18,9,26,11,8,15,22,18,18,22,29,15,19,27,17,13,17,12,13,26,24,12,26,25,22,18,18,19,14,23,15,23,19,20,20,22,13,16,22,29,21,2,26,17,16,24,17,22,36,21,29,19,22,16,18,26,11,11,27,17,26,18,7,29,28,19,17,23,27,16,20,24,15,9,23,24,24,12,8,31,26,30,19,25,31,22,16,21,27,29,17,13,25,17,24,14,13,20,22,9,24,13,22,18,16,14,22,21,15,19,21,21,15,9,19,18,30,19,14,17,21,20,20,25,21,16,22,20,16,11,21,19,20,18,12,27,18,25,18,20,24,19,22,18,12,24,19,33,26,15,16,30,25,23,25,23,23,21,17,24,18,24,27,22,23,25,25,11,24,20,19,25,18,27,22,28,21,20,24,15,17,20,9,19,30,22,9,13,31,15,14,18,26,21,12,8,20,28,16,20,28,26,20,24,13,27,16,20,11,10,22,14,30,11,16,20,16,23,18,24,23,21,29,27,19,14,23,26,11,24,17,26,23,18,27,26,24,33,20,31,11,11,20,25,18,22,18,25,23,14,27,18,21,25,15,28,24,22,11,24,27,15,17,25,8,18,30,13,22,23,30,19,17,22,14,25,14,19,19,9,24,22,21,19,28,13,15,21,26,5,9,13,31,25,24,22,10,6,15,17,26,25,23,22,27,14,17,12,20,24,25,21,26,14,14,24,15,25,19,23,20,29,19,29,17,15,14,20,19,25,16,19,21,19,16,10,22,16,15,32,11,24,11,13,23,14,27,18,25,19,21,14,19,10,18,22,20,15,7,8,26,23,27,16,10,14,20,24,19,34,13,21,22,27,20,23,36,26,23,19,19,26,15,20,22,10,2,19,25,25,20,29,20,12,16,15,22,36,22,10,18,23,24,5,24,26,29,20,13,3,14,3,18,34,24,26,20,29,27,19,22,18,12,16,25,26,20,17,13,16,13,19,10,11,14,12,13,19,22,19,27,21,19,14,19,17,27,13,27,23,23,19,25,20,21,22,22,16,20,21,25,11,20,13,18,30,22,20,22,19,24,28,25,13,23,17,11,6,19,37,25,24,18,23,5,19,24,22,15,10,19,20,15,19,22,35,18,28,25,25,21,20,18,11,16,13,25,20,20,23,11,24,16,22,20,22,11,21,12,18,27,16,15,19,20,18,19,21,12,14,18,20,11,25,13,15,23,20,23,35,8,28,20,34,14,28,17,30,31,13,26,17,14,15,18,26,30,19,15,14,25,14,14,4,23,21,15,21,34,26,12,23,21,20,10,22,12,26,26,11,21,16,20,13,27,23,25,17,12,30,20,25,23,14,13,16,20,12,4,29,27,21,16,30,18,24,16,25,21,20,20,23,27,26,27,17,23,22,14,17,26,19,19,14,14,21,17,15,20,20,29,24,27,21,29,20,28,18,9,18,27,23,23,23,33,25,30,16,28,30,20,16,35,24,18,22,11,18,30,17,7,11,18,21,22,20,27,18,21,12,13,21,15,23,21,18,26,9,21,22,20,18,28,11,13,17,22,14,15,27,24,13,26,19,23,24,13,22,13,18,16,20,8,13,25,16,24,26,23,15,16,22,24,28,22,13,25,26,11,7,25,23,21,20,15,12,18,13,11,6,25,22,19,16,17,12,23,28,14,26,29,30,20,16,19,23,35,16,21,27,19,20,18,6,3,19,10,20,17,16,22,20,14,3,11,26,19,15,15,23,13,29,14,12,23,15,21,14,16,32,15,26,23,30,24,23,21,32,21,18,27,11,22,20,21,25,16,30,9,17,26,15,27,29,30,26,25,11,22,14,15,19,17,25,26,21,20,23,24,15,20,21,17,10,15,26,9,21,27,12,23,10,12,16,14,27,16,26,23,23,27,18,19,25,21,21,24,17,25,22,22,22,23,28,32,27,16,18,15,22,19,36,16,20,17,7,22,19,14,13,20,26,12,16,25,16,21,34,24,17,27,22,22,22,28,34,35,28,22,24,16,30,25,27,23,15,30,33,28,22,31,12,15,30,23,16,35,22,24,32,9,13,20,21,9,26,23,17,17,18,28,16,22,22,18,25,28,17,16,39,18,19,13,18,16,19,24,9,16,18,21,16,20,17,18,26,20,22,18,23,17,20,23,12,12,17,28,27,25,22,30,20,21,13,16,18,22,16,24,22,22,30,23,21,21,11,14,23,27,17,19,19,23,27,19,30,26,12,23,26,14,16,23,23,5,29,13,20,24,17,19,25,18,29,15,21,25,24,25,29,17,26,23,21,31,19,18,12,15,27,20,23,28,24,28,11,29,17,20,20,6,28,24,19,18,30,19,8,20,27,34,29,22,24,20,20,29,23,30,19,12,17,18,25,7,19,25,12,16,24,26,21,8,14,17,32,24,17,14,10,20,20,16,19,19,16,17,18,22,15,20,14,19,26,13,23,28,28,18,20,24,26,19,27,26,14,33,18,16,12,25,19,26,23,19,20,14,18,20,26,10,15,13,22,18,16,16,23,27,28,19,10,22,16,26,24,22,9,13,19,18,23,18,17,19,3,24,10,21,22,39,13,9,28,26,19,21,25,26,19,25,19,23,22,20,18,7,21,23,20,29,17,13,17,24,27,22,27,10,12,17,12,19,10,20,5,21,22,25,32,17,22,8,12,13,9,20,19,27,23,14,25,10,20,11,13,23,20,22,29,14,13,14,13,17,27,21,20,25,23,14,16,25,16,19,16,18,22,18,25,22,22,26,20,20,20,23,21,30,20,19,19,21,26,24,20,17,23,16,32,27,22,15,22,27,14,10,16,20,18,9,34,26,25,16,19,21,17,20,22,11,14,14,28,18,28,31,29,20,24,11,29,13,11,17,30,21,15,27,1,10,18,27,28,18,21,9,19,17,15,16,28,19,7,22,21,29,25,17,26,18,14,28,16,26,35,24,31,21,18,17,20,23,13,21,29,25,22,21,25,19,14,17,19,29,3,25,22,12,21,24,20,11,31,17,16,15,19,17,17,29,23,19,32,16,20,13,19,27,30,11,25,23,32,16,34,17,16,11,17,20,12,19,26,24,19,25,20,9,14,36,21,21,18,21,30,11,30,11,26,17,22,12,29,13,12,14,24,19,17,22,14,21,26,21,28,24,30,19,26,17,21,23,39,20,27,15,5,37,9,10,20,21,18,20,14,18,27,20,12,18,21,27,23,20,21,28,17,14,34,15,15,21,24,16,23,23,14,12,16,28,23,22,13,11,16,23,24,26,25,28,17,20,20,28,7,27,7,29,25,20,12,30,15,20,12,22,23,27,10,19,19,24,16,17,19,25,30,25,24,17,24,21,27,14,19,24,20,18,14,24,25,33,13,24,19,21,22,20,24,19,21,17,18,18,19,28,26,8,19,15,24,21,10,26,22,16,20,12,15,15,21,15,16,26,15,24,21,19,18,10,6,34,19,13,20,26,19,18,27,26,16,12,25,19,23,19,21,15,13,7,17,13,18,23,25,18,15,18,19,21,8,15,23,21,32,24,23,21,17,22,13,30,23,27,20,21,20,13,22,22,19,18,22,15,18,20,16,14,24,19,13,26,26,23,23,24,22,18,17,14,23,30,24,16,16,21,35,16,22,23,16,13,19,29,16,26,22,20,27,17,16,21,20,21,22,10,21,15,15,20,26,13,32,25,7,22,28,24,20,30,24,34,19,10,16,18,25,23,29,24,19,13,32,19,14,19,18,35,21,14,25,23,30,10,21,14,12,30,7,25,25,11,22,23,18,19,24,23,19,19,22,24,24,16,18,15,23,17,28,15,17,32,29,14,18,14,25,22,28,22,7,21,16,24,17,18,26,31,24,13,22,25,16,17,30,24,13,33,29,19,19,19,14,15,15,10,28,19,24,22,17,33,25,23,17,25,18,22,21,24,16,13,23,21,24,17,20,28,21,13,26,22,22,37,29,15,22,25,21,24,15,27,16,21,18,19,18,15,25,13,16,8,14,32,28,21,20,25,38,13,29,13,18,24,15,20,16,33,27,8,29,43,27,18,21,9,22,32,19,33,15,23,24,17,23,19,18,9,21,20,29,23,19,22,29,24,27,14,20,22,16,24,16,15,14,23,19,13,22,22,9,22,19,15,11,22,26,19,19,17,16,20,29,19,28,9,18,24,21,22,21,17,15,31,18,23,15,25,19,24,23,16,33,23,15,10,18,32,18,15,4,16,29,28,19,20,22,30,16,29,21,15,19,19,21,20,12,7,26,22,27,21,16,26,24,26,27,29,13,21,16,20,18,16,12,10,15,23,22,18,14,24,25,30,16,18,39,22,14,35,19,28,16,14,19,29,25,18,16,20,24,21,19,7,21,27,30,23,38,15,23,20,20,25,27,17,13,26,18,19,19,12,18,24,22,26,23,17,24,22,19,27,16,28,22,22,18,17,9,21,19,25,29,16,33,27,18,24,17,20,24,21,26,10,16,12,18,22,20,8,11,21,10,22,26,16,24,17,19,23,31,15,16,33,21,20,28,44,15,25,13,24,26,15,18,27,12,14,24,21,28,20,19,31,7,24,25,23,27,20,26,18,10,20,15,16,21,29,7,12,15,34,20,15,20,27,18,18,24,10,23,17,23,22,18,21,28,15,26,13,6,10,24,16,27,17,16,24,25,28,17,24,16,11,16,18,20,10,17,18,24,17,18,23,18,12,20,23,19,13,13,20,22,23,14,23,10,20,15,26,13,28,16,14,13,23,22,16,18,17,20,27,23,14,15,17,19,17,24,8,27,19,14,29,18,22,21,29,24,15,11,26,16,13,33,13,19,17,12,20,22,26,21,23,21,23,16,22,30,29,23,23,21,18,27,13,11,22,24,19,35,18,22,12,17,16,21,21,18,25,20,20,32,23,17,21,11,23,23,25,19,15,21,26,18,26,37,7,24,18,20,19,30,26,19,24,24,15,11,19,19,31,25,11,13,17,15,32,21,11,20,23,19,17,25,28,23,24,18,27,8,36,22,18,30,18,19,23,15,14,15,23,20,16,14,28,31,13,20,28,16,21,20,20,27,20,14,21,23,23,16,16,27,19,15,20,12,26,25,24,25,26,14,39,12,23,22,20,23,23,23,14,20,14,21,21,12,27,30,13,17,24,18,25,33,27,29,19,18,25,22,25,20,18,18,15,9,12,22,23,19,19,18,24,21,19,20,17,27,23,25,17,16,27,14,26,13,18,22,25,29,7,18,27,18,19,15,15,27,21,20,12,23,17,24,20,23,16,27,17,17,15,24,23,25,24,15,21,26,18,26,16,25,20,18,17,18,24,18,23,21,9,22,16,15,16,24,15,26,18,21,18,28,22,20,16,17,18,21,15,19,26,14,13,26,19,17,19,21,18,18,22,27,21,28,30,21,20,16,25,25,33,11,22,28,5,19,21,25,12,19,22,16,17,23,22,28,14,15,15,28,26,29,14,21,13,29,19,18,18,12,20,12,9,10,12,27,27,14,22,20,21,17,20,14,6,21,19,26,18,17,17,17,19,19,7,11,30,22,21,6,23,29,18,20,28,11,23,19,15,11,24,26,9,22,16,22,33,17,22,28,33,30,13,22,17,21,12,24,26,15,22,19,8,18,28,21,18,16,19,26,29,19,3,15,18,13,4,16,21,18,22,23,19,11,20,25,22,17,20,10,16,23,21,26,19,17,27,7,31,24,27,23,21,10,26,26,20,17,24,24,20,24,19,14,21,18,18,17,18,15,10,18,28,29,27,16,22,23,9,23,12,22,14,21,21,20,12,21,17,29,15,29,20,18,19,22,22,19,27,28,19,16,20,30,28,28,12,8,28,19,28,15,16,17,20,18,12,18,31,12,21,12,20,32,25,11,18,28,14,12,17,29,15,29,26,26,24,16,24,17,21,5,16,22,17,17,11,24,27,20,26,15,31,21,17,23,19,22,24,24,18,27,13,18,11,14,22,11,13,15,27,13,16,16,15,21,26,27,21,30,24,14,17,19,31,23,20,15,24,21,14,24,20,17,30,22,17,32,17,23,18,29,20,30,20,18,21,18,19,33,24,17,29,9,19,15,17,15,24,9,23,20,35,21,11,20,19,17,20,16,25,12,22,21,22,23,23,25,19,24,28,23,23,17,19,17,13,16,17,5,31,14,26,19,7,18,29,16,22,12,11,18,14,19,25,22,21,19,16,16,27,25,18,26,15,24,22,29,26,24,16,19,18,24,21,20,8,24,16,27,22,22,17,29,26,33,21,11,13,19,30,23,18,16,12,19,14,22,22,17,5,15,20,13,23,16,17,25,18,21,13,28,19,29,20,24,19,7,21,31,21,26,27,16,15,14,33,14,14,20,18,14,15,22,20,14,16,23,18,19,32,15,21,20,16,20,16,14,22,25,17,25,24,23,20,24,12,15,24,15,19,22,19,15,20,26,8,21,17,24,17,26,20,16,9,10,16,18,24,15,17,12,13,20,14,20,23,19,31,20,25,26,25,25,26,11,30,17,26,27,22,12,33,24,38,23,12,14,26,18,10,20,28,26,28,16,18,11,21,20,18,20,11,11,22,24,19,28,17,23,19,23,27,22,13,21,20,18,34,22,21,16,15,20,30,26,17,35,21,20,23,11,23,21,18,25,13,21,19,19,24,26,28,13,12,30,17,19,20,28,22,19,12,13,24,21,30,26,21,15,19,23,28,31,22,17,16,14,20,22,29,16,18,23,19,26,9,17,14,26,8,18,23,30,18,22,18,24,14,15,19,24,19,12,17,18,24,19,9,9,18,25,16,16,32,23,15,19,22,23,26,25,11,27,16,24,19,11,22,30,10,26,20,18,12,18,27,21,23,15,16,7,17,27,23,16,1,12,16,8,17,22,15,29,8,17,12,23,24,6,12,26,31,22,27,23,19,14,20,9,27,23,15,12,29,16,12,22,25,13,17,12,24,13,18,15,8,31,18,12,31,31,23,22,24,17,15,25,19,22,26,21,16,26,16,16,18,22,14,17,11,9,15,19,14,17,29,24,24,11,18,31,20,20,15,23,27,9,9,25,26,22,15,11,24,19,16,16,22,22,13,17,28,29,16,18,12,20,24,23,5,14,21,18,13,24,22,20,27,21,25,25,30,24,20,27,19,21,19,30,12,22,31,22,18,23,28,23,33,18,14,14,29,13,25,22,25,29,24,20,13,23,25,18,11,23,25,20,21,6,19,21,19,18,13,16,12,13,23,12,34,23,24,17,22,25,22,21,18,26,15,15,19,26,16,20,30,28,21,25,14,21,17,15,12,24,19,19,17,14,20,12,17,21,12,32,19,23,22,17,27,18,17,27,19,12,21,7,21,13,27,12,12,12,18,14,10,14,20,20,12,26,15,8,20,5,20,23,17,7,16,19,8,32,18,31,27,17,18,30,18,22,11,26,14,17,22,17,18,14,29,27,4,15,28,14,19,32,13,20,14,22,27,24,33,29,21,31,19,20,23,19,17,27,24,15,21,3,34,22,16,32,16,18,25,17,22,23,15,25,31,16,18,17,13,21,13,20,12,17,16,21,29,11,13,21,16,29,30,16,23,34,26,21,12,13,21,13,15,21,22,12,20,19,25,20,5,14,30,22,20,24,29,11,13,20,12,22,20,26,15,8,15,18,20,21,19,21,22,30,5,15,17,27,21,23,27,34,18,16,15,7,10,17,22,8,15,14,11,15,31,19,29,21,16,20,21,7,23,19,12,31,14,17,23,22,9,21,18,13,7,16,14,15,11,37,21,15,25,10,32,23,24,21,30,19,15,11,13,21,16,20,17,21,24,21,13,15,8,25,33,16,13,17,19,18,17,19,20,20,19,15,19,16,19,21,16,21,11,17,13,22,28,7,27,18,16,19,27,19,13,23,12,6,31,20,16,12,15,7,25,25,22,18,31,26,19,18,23,23,22,8,17,14,21,15,23,21,22,9,17,22,26,16,24,24,16,22,12,22,27,17,14,26,16,12,21,13,23,23,14,17,13,18,21,13,25,29,21,21,23,20,16,31,23,24,17,18,26,13,24,21,27,23,13,17,20,26,19,19,19,16,16,21,17,13,31,19,24,20,19,24,19,21,18,22,24,16,24,23,25,19,25,20,25,24,20,18,17,13,20,24,21,7,20,28,29,23,30,12,35,27,19,21,16,15,20,15,18,22,15,27,22,16,28,25,26,17,21,18,18,22,15,32,15,21,21,21,12,15,21,21,22,24,21,9,28,24,19,31,15,24,12,25,18,12,19,27,19,9,21,16,14,14,23,24,27,14,22,21,18,25,15,16,21,9,25,20,13,26,22,13,8,17,20,20,11,19,20,19,20,23,29,22,16,17,15,24,16,25,3,19,27,23,17,10,21,23,17,17,7,15,17,33,27,21,17,16,26,11,17,30,29,23,18,12,13,24,30,23,27,13,19,25,4,14,22,11,12,26,7,21,17,20,24,15,17,28,25,25,26,21,18,19,18,24,21,24,30,26,14,17,19,22,21,15,21,22,19,16,20,12,20,12,13,21,28,14,30,19,24,8,18,30,20,25,19,27,17,14,25,15,23,24],\"y\":[69.82589474043698,66.16775875690894,65.88636368125294,67.29333905953295,68.41891936215697,68.41891936215697,65.32357352994094,68.41891936215697,67.57473413518896,68.70031443781296,67.01194398387696,66.73054890822095,64.19799322731693,67.29333905953295,66.44915383256495,66.16775875690894,67.29333905953295,66.16775875690894,65.60496860559694,68.13752428650096,66.73054890822095,65.88636368125294,69.54449966478097,66.73054890822095,67.29333905953295,65.60496860559694,67.01194398387696,66.44915383256495,68.70031443781296,68.13752428650096,68.70031443781296,68.70031443781296,70.38868489174898,65.32357352994094,65.60496860559694,67.01194398387696,66.73054890822095,68.41891936215697,69.54449966478097,67.85612921084495,65.88636368125294,63.63520307600492,68.41891936215697,67.29333905953295,67.85612921084495,65.60496860559694,68.41891936215697,65.60496860559694,67.29333905953295,66.44915383256495,65.88636368125294,65.04217845428494,67.01194398387696,67.01194398387696,64.47938830297294,67.85612921084495,64.19799322731693,68.13752428650096,68.13752428650096,65.60496860559694,66.73054890822095,64.19799322731693,68.98170951346897,64.76078337862893,63.91659815166092,65.88636368125294,67.85612921084495,66.73054890822095,66.73054890822095,67.85612921084495,69.82589474043698,65.88636368125294,67.01194398387696,69.26310458912498,66.44915383256495,65.32357352994094,66.44915383256495,65.04217845428494,65.32357352994094,68.98170951346897,68.41891936215697,65.04217845428494,68.98170951346897,68.70031443781296,67.85612921084495,66.73054890822095,66.73054890822095,67.01194398387696,65.60496860559694,68.13752428650096,65.88636368125294,68.13752428650096,67.01194398387696,67.29333905953295,67.29333905953295,67.85612921084495,65.32357352994094,66.16775875690894,67.85612921084495,69.82589474043698,67.57473413518896,62.22822769772491,68.98170951346897,66.44915383256495,66.16775875690894,68.41891936215697,66.44915383256495,67.85612921084495,71.795660270029,67.57473413518896,69.82589474043698,67.01194398387696,67.85612921084495,66.16775875690894,66.73054890822095,68.98170951346897,64.76078337862893,64.76078337862893,69.26310458912498,66.44915383256495,68.98170951346897,66.73054890822095,63.63520307600492,69.82589474043698,69.54449966478097,67.01194398387696,66.44915383256495,68.13752428650096,69.26310458912498,66.16775875690894,67.29333905953295,68.41891936215697,65.88636368125294,64.19799322731693,68.13752428650096,68.41891936215697,68.41891936215697,65.04217845428494,63.91659815166092,70.38868489174898,68.98170951346897,70.10728981609299,67.01194398387696,68.70031443781296,70.38868489174898,67.85612921084495,66.16775875690894,67.57473413518896,69.26310458912498,69.82589474043698,66.44915383256495,65.32357352994094,68.70031443781296,66.44915383256495,68.41891936215697,65.60496860559694,65.32357352994094,67.29333905953295,67.85612921084495,64.19799322731693,68.41891936215697,65.32357352994094,67.85612921084495,66.73054890822095,66.16775875690894,65.60496860559694,67.85612921084495,67.57473413518896,65.88636368125294,67.01194398387696,67.57473413518896,67.57473413518896,65.88636368125294,64.19799322731693,67.01194398387696,66.73054890822095,70.10728981609299,67.01194398387696,65.60496860559694,66.44915383256495,67.57473413518896,67.29333905953295,67.29333905953295,68.70031443781296,67.57473413518896,66.16775875690894,67.85612921084495,67.29333905953295,66.16775875690894,64.76078337862893,67.57473413518896,67.01194398387696,67.29333905953295,66.73054890822095,65.04217845428494,69.26310458912498,66.73054890822095,68.70031443781296,66.73054890822095,67.29333905953295,68.41891936215697,67.01194398387696,67.85612921084495,66.73054890822095,65.04217845428494,68.41891936215697,67.01194398387696,70.951475043061,68.98170951346897,65.88636368125294,66.16775875690894,70.10728981609299,68.70031443781296,68.13752428650096,68.70031443781296,68.13752428650096,68.13752428650096,67.57473413518896,66.44915383256495,68.41891936215697,66.73054890822095,68.41891936215697,69.26310458912498,67.85612921084495,68.13752428650096,68.70031443781296,68.70031443781296,64.76078337862893,68.41891936215697,67.29333905953295,67.01194398387696,68.70031443781296,66.73054890822095,69.26310458912498,67.85612921084495,69.54449966478097,67.57473413518896,67.29333905953295,68.41891936215697,65.88636368125294,66.44915383256495,67.29333905953295,64.19799322731693,67.01194398387696,70.10728981609299,67.85612921084495,64.19799322731693,65.32357352994094,70.38868489174898,65.88636368125294,65.60496860559694,66.73054890822095,68.98170951346897,67.57473413518896,65.04217845428494,63.91659815166092,67.29333905953295,69.54449966478097,66.16775875690894,67.29333905953295,69.54449966478097,68.98170951346897,67.29333905953295,68.41891936215697,65.32357352994094,69.26310458912498,66.16775875690894,67.29333905953295,64.76078337862893,64.47938830297294,67.85612921084495,65.60496860559694,70.10728981609299,64.76078337862893,66.16775875690894,67.29333905953295,66.16775875690894,68.13752428650096,66.73054890822095,68.41891936215697,68.13752428650096,67.57473413518896,69.82589474043698,69.26310458912498,67.01194398387696,65.60496860559694,68.13752428650096,68.98170951346897,64.76078337862893,68.41891936215697,66.44915383256495,68.98170951346897,68.13752428650096,66.73054890822095,69.26310458912498,68.98170951346897,68.41891936215697,70.951475043061,67.29333905953295,70.38868489174898,64.76078337862893,64.76078337862893,67.29333905953295,68.70031443781296,66.73054890822095,67.85612921084495,66.73054890822095,68.70031443781296,68.13752428650096,65.60496860559694,69.26310458912498,66.73054890822095,67.57473413518896,68.70031443781296,65.88636368125294,69.54449966478097,68.41891936215697,67.85612921084495,64.76078337862893,68.41891936215697,69.26310458912498,65.88636368125294,66.44915383256495,68.70031443781296,63.91659815166092,66.73054890822095,70.10728981609299,65.32357352994094,67.85612921084495,68.13752428650096,70.10728981609299,67.01194398387696,66.44915383256495,67.85612921084495,65.60496860559694,68.70031443781296,65.60496860559694,67.01194398387696,67.01194398387696,64.19799322731693,68.41891936215697,67.85612921084495,67.57473413518896,67.01194398387696,69.54449966478097,65.32357352994094,65.88636368125294,67.57473413518896,68.98170951346897,63.07241292469292,64.19799322731693,65.32357352994094,70.38868489174898,68.70031443781296,68.41891936215697,67.85612921084495,64.47938830297294,63.35380800034892,65.88636368125294,66.44915383256495,68.98170951346897,68.70031443781296,68.13752428650096,67.85612921084495,69.26310458912498,65.60496860559694,66.44915383256495,65.04217845428494,67.29333905953295,68.41891936215697,68.70031443781296,67.57473413518896,68.98170951346897,65.60496860559694,65.60496860559694,68.41891936215697,65.88636368125294,68.70031443781296,67.01194398387696,68.13752428650096,67.29333905953295,69.82589474043698,67.01194398387696,69.82589474043698,66.44915383256495,65.88636368125294,65.60496860559694,67.29333905953295,67.01194398387696,68.70031443781296,66.16775875690894,67.01194398387696,67.57473413518896,67.01194398387696,66.16775875690894,64.47938830297294,67.85612921084495,66.16775875690894,65.88636368125294,70.67007996740499,64.76078337862893,68.41891936215697,64.76078337862893,65.32357352994094,68.13752428650096,65.60496860559694,69.26310458912498,66.73054890822095,68.70031443781296,67.01194398387696,67.57473413518896,65.60496860559694,67.01194398387696,64.47938830297294,66.73054890822095,67.85612921084495,67.29333905953295,65.88636368125294,63.63520307600492,63.91659815166092,68.98170951346897,68.13752428650096,69.26310458912498,66.16775875690894,64.47938830297294,65.60496860559694,67.29333905953295,68.41891936215697,67.01194398387696,71.23287011871699,65.32357352994094,67.57473413518896,67.85612921084495,69.26310458912498,67.29333905953295,68.13752428650096,71.795660270029,68.98170951346897,68.13752428650096,67.01194398387696,67.01194398387696,68.98170951346897,65.88636368125294,67.29333905953295,67.85612921084495,64.47938830297294,62.22822769772491,67.01194398387696,68.70031443781296,68.70031443781296,67.29333905953295,69.82589474043698,67.29333905953295,65.04217845428494,66.16775875690894,65.88636368125294,67.85612921084495,71.795660270029,67.85612921084495,64.47938830297294,66.73054890822095,68.13752428650096,68.41891936215697,63.07241292469292,68.41891936215697,68.98170951346897,69.82589474043698,67.29333905953295,65.32357352994094,62.50962277338091,65.60496860559694,62.50962277338091,66.73054890822095,71.23287011871699,68.41891936215697,68.98170951346897,67.29333905953295,69.82589474043698,69.26310458912498,67.01194398387696,67.85612921084495,66.73054890822095,65.04217845428494,66.16775875690894,68.70031443781296,68.98170951346897,67.29333905953295,66.44915383256495,65.32357352994094,66.16775875690894,65.32357352994094,67.01194398387696,64.47938830297294,64.76078337862893,65.60496860559694,65.04217845428494,65.32357352994094,67.01194398387696,67.85612921084495,67.01194398387696,69.26310458912498,67.57473413518896,67.01194398387696,65.60496860559694,67.01194398387696,66.44915383256495,69.26310458912498,65.32357352994094,69.26310458912498,68.13752428650096,68.13752428650096,67.01194398387696,68.70031443781296,67.29333905953295,67.57473413518896,67.85612921084495,67.85612921084495,66.16775875690894,67.29333905953295,67.57473413518896,68.70031443781296,64.76078337862893,67.29333905953295,65.32357352994094,66.73054890822095,70.10728981609299,67.85612921084495,67.29333905953295,67.85612921084495,67.01194398387696,68.41891936215697,69.54449966478097,68.70031443781296,65.32357352994094,68.13752428650096,66.44915383256495,64.76078337862893,63.35380800034892,67.01194398387696,72.077055345685,68.70031443781296,68.41891936215697,66.73054890822095,68.13752428650096,63.07241292469292,67.01194398387696,68.41891936215697,67.85612921084495,65.88636368125294,64.47938830297294,67.01194398387696,67.29333905953295,65.88636368125294,67.01194398387696,67.85612921084495,71.514265194373,66.73054890822095,69.54449966478097,68.70031443781296,68.70031443781296,67.57473413518896,67.29333905953295,66.73054890822095,64.76078337862893,66.16775875690894,65.32357352994094,68.70031443781296,67.29333905953295,67.29333905953295,68.13752428650096,64.76078337862893,68.41891936215697,66.16775875690894,67.85612921084495,67.29333905953295,67.85612921084495,64.76078337862893,67.57473413518896,65.04217845428494,66.73054890822095,69.26310458912498,66.16775875690894,65.88636368125294,67.01194398387696,67.29333905953295,66.73054890822095,67.01194398387696,67.57473413518896,65.04217845428494,65.60496860559694,66.73054890822095,67.29333905953295,64.76078337862893,68.70031443781296,65.32357352994094,65.88636368125294,68.13752428650096,67.29333905953295,68.13752428650096,71.514265194373,63.91659815166092,69.54449966478097,67.29333905953295,71.23287011871699,65.60496860559694,69.54449966478097,66.44915383256495,70.10728981609299,70.38868489174898,65.32357352994094,68.98170951346897,66.44915383256495,65.60496860559694,65.88636368125294,66.73054890822095,68.98170951346897,70.10728981609299,67.01194398387696,65.88636368125294,65.60496860559694,68.70031443781296,65.60496860559694,65.60496860559694,62.79101784903691,68.13752428650096,67.57473413518896,65.88636368125294,67.57473413518896,71.23287011871699,68.98170951346897,65.04217845428494,68.13752428650096,67.57473413518896,67.29333905953295,64.47938830297294,67.85612921084495,65.04217845428494,68.98170951346897,68.98170951346897,64.76078337862893,67.57473413518896,66.16775875690894,67.29333905953295,65.32357352994094,69.26310458912498,68.13752428650096,68.70031443781296,66.44915383256495,65.04217845428494,70.10728981609299,67.29333905953295,68.70031443781296,68.13752428650096,65.60496860559694,65.32357352994094,66.16775875690894,67.29333905953295,65.04217845428494,62.79101784903691,69.82589474043698,69.26310458912498,67.57473413518896,66.16775875690894,70.10728981609299,66.73054890822095,68.41891936215697,66.16775875690894,68.70031443781296,67.57473413518896,67.29333905953295,67.29333905953295,68.13752428650096,69.26310458912498,68.98170951346897,69.26310458912498,66.44915383256495,68.13752428650096,67.85612921084495,65.60496860559694,66.44915383256495,68.98170951346897,67.01194398387696,67.01194398387696,65.60496860559694,65.60496860559694,67.57473413518896,66.44915383256495,65.88636368125294,67.29333905953295,67.29333905953295,69.82589474043698,68.41891936215697,69.26310458912498,67.57473413518896,69.82589474043698,67.29333905953295,69.54449966478097,66.73054890822095,64.19799322731693,66.73054890822095,69.26310458912498,68.13752428650096,68.13752428650096,68.13752428650096,70.951475043061,68.70031443781296,70.10728981609299,66.16775875690894,69.54449966478097,70.10728981609299,67.29333905953295,66.16775875690894,71.514265194373,68.41891936215697,66.73054890822095,67.85612921084495,64.76078337862893,66.73054890822095,70.10728981609299,66.44915383256495,63.63520307600492,64.76078337862893,66.73054890822095,67.57473413518896,67.85612921084495,67.29333905953295,69.26310458912498,66.73054890822095,67.57473413518896,65.04217845428494,65.32357352994094,67.57473413518896,65.88636368125294,68.13752428650096,67.57473413518896,66.73054890822095,68.98170951346897,64.19799322731693,67.57473413518896,67.85612921084495,67.29333905953295,66.73054890822095,69.54449966478097,64.76078337862893,65.32357352994094,66.44915383256495,67.85612921084495,65.60496860559694,65.88636368125294,69.26310458912498,68.41891936215697,65.32357352994094,68.98170951346897,67.01194398387696,68.13752428650096,68.41891936215697,65.32357352994094,67.85612921084495,65.32357352994094,66.73054890822095,66.16775875690894,67.29333905953295,63.91659815166092,65.32357352994094,68.70031443781296,66.16775875690894,68.41891936215697,68.98170951346897,68.13752428650096,65.88636368125294,66.16775875690894,67.85612921084495,68.41891936215697,69.54449966478097,67.85612921084495,65.32357352994094,68.70031443781296,68.98170951346897,64.76078337862893,63.63520307600492,68.70031443781296,68.13752428650096,67.57473413518896,67.29333905953295,65.88636368125294,65.04217845428494,66.73054890822095,65.32357352994094,64.76078337862893,63.35380800034892,68.70031443781296,67.85612921084495,67.01194398387696,66.16775875690894,66.44915383256495,65.04217845428494,68.13752428650096,69.54449966478097,65.60496860559694,68.98170951346897,69.82589474043698,70.10728981609299,67.29333905953295,66.16775875690894,67.01194398387696,68.13752428650096,71.514265194373,66.16775875690894,67.57473413518896,69.26310458912498,67.01194398387696,67.29333905953295,66.73054890822095,63.35380800034892,62.50962277338091,67.01194398387696,64.47938830297294,67.29333905953295,66.44915383256495,66.16775875690894,67.85612921084495,67.29333905953295,65.60496860559694,62.50962277338091,64.76078337862893,68.98170951346897,67.01194398387696,65.88636368125294,65.88636368125294,68.13752428650096,65.32357352994094,69.82589474043698,65.60496860559694,65.04217845428494,68.13752428650096,65.88636368125294,67.57473413518896,65.60496860559694,66.16775875690894,70.67007996740499,65.88636368125294,68.98170951346897,68.13752428650096,70.10728981609299,68.41891936215697,68.13752428650096,67.57473413518896,70.67007996740499,67.57473413518896,66.73054890822095,69.26310458912498,64.76078337862893,67.85612921084495,67.29333905953295,67.57473413518896,68.70031443781296,66.16775875690894,70.10728981609299,64.19799322731693,66.44915383256495,68.98170951346897,65.88636368125294,69.26310458912498,69.82589474043698,70.10728981609299,68.98170951346897,68.70031443781296,64.76078337862893,67.85612921084495,65.60496860559694,65.88636368125294,67.01194398387696,66.44915383256495,68.70031443781296,68.98170951346897,67.57473413518896,67.29333905953295,68.13752428650096,68.41891936215697,65.88636368125294,67.29333905953295,67.57473413518896,66.44915383256495,64.47938830297294,65.88636368125294,68.98170951346897,64.19799322731693,67.57473413518896,69.26310458912498,65.04217845428494,68.13752428650096,64.47938830297294,65.04217845428494,66.16775875690894,65.60496860559694,69.26310458912498,66.16775875690894,68.98170951346897,68.13752428650096,68.13752428650096,69.26310458912498,66.73054890822095,67.01194398387696,68.70031443781296,67.57473413518896,67.57473413518896,68.41891936215697,66.44915383256495,68.70031443781296,67.85612921084495,67.85612921084495,67.85612921084495,68.13752428650096,69.54449966478097,70.67007996740499,69.26310458912498,66.16775875690894,66.73054890822095,65.88636368125294,67.85612921084495,67.01194398387696,71.795660270029,66.16775875690894,67.29333905953295,66.44915383256495,63.63520307600492,67.85612921084495,67.01194398387696,65.60496860559694,65.32357352994094,67.29333905953295,68.98170951346897,65.04217845428494,66.16775875690894,68.70031443781296,66.16775875690894,67.57473413518896,71.23287011871699,68.41891936215697,66.44915383256495,69.26310458912498,67.85612921084495,67.85612921084495,67.85612921084495,69.54449966478097,71.23287011871699,71.514265194373,69.54449966478097,67.85612921084495,68.41891936215697,66.16775875690894,70.10728981609299,68.70031443781296,69.26310458912498,68.13752428650096,65.88636368125294,70.10728981609299,70.951475043061,69.54449966478097,67.85612921084495,70.38868489174898,65.04217845428494,65.88636368125294,70.10728981609299,68.13752428650096,66.16775875690894,71.514265194373,67.85612921084495,68.41891936215697,70.67007996740499,64.19799322731693,65.32357352994094,67.29333905953295,67.57473413518896,64.19799322731693,68.98170951346897,68.13752428650096,66.44915383256495,66.44915383256495,66.73054890822095,69.54449966478097,66.16775875690894,67.85612921084495,67.85612921084495,66.73054890822095,68.70031443781296,69.54449966478097,66.44915383256495,66.16775875690894,72.63984549699701,66.73054890822095,67.01194398387696,65.32357352994094,66.73054890822095,66.16775875690894,67.01194398387696,68.41891936215697,64.19799322731693,66.16775875690894,66.73054890822095,67.57473413518896,66.16775875690894,67.29333905953295,66.44915383256495,66.73054890822095,68.98170951346897,67.29333905953295,67.85612921084495,66.73054890822095,68.13752428650096,66.44915383256495,67.29333905953295,68.13752428650096,65.04217845428494,65.04217845428494,66.44915383256495,69.54449966478097,69.26310458912498,68.70031443781296,67.85612921084495,70.10728981609299,67.29333905953295,67.57473413518896,65.32357352994094,66.16775875690894,66.73054890822095,67.85612921084495,66.16775875690894,68.41891936215697,67.85612921084495,67.85612921084495,70.10728981609299,68.13752428650096,67.57473413518896,67.57473413518896,64.76078337862893,65.60496860559694,68.13752428650096,69.26310458912498,66.44915383256495,67.01194398387696,67.01194398387696,68.13752428650096,69.26310458912498,67.01194398387696,70.10728981609299,68.98170951346897,65.04217845428494,68.13752428650096,68.98170951346897,65.60496860559694,66.16775875690894,68.13752428650096,68.13752428650096,63.07241292469292,69.82589474043698,65.32357352994094,67.29333905953295,68.41891936215697,66.44915383256495,67.01194398387696,68.70031443781296,66.73054890822095,69.82589474043698,65.88636368125294,67.57473413518896,68.70031443781296,68.41891936215697,68.70031443781296,69.82589474043698,66.44915383256495,68.98170951346897,68.13752428650096,67.57473413518896,70.38868489174898,67.01194398387696,66.73054890822095,65.04217845428494,65.88636368125294,69.26310458912498,67.29333905953295,68.13752428650096,69.54449966478097,68.41891936215697,69.54449966478097,64.76078337862893,69.82589474043698,66.44915383256495,67.29333905953295,67.29333905953295,63.35380800034892,69.54449966478097,68.41891936215697,67.01194398387696,66.73054890822095,70.10728981609299,67.01194398387696,63.91659815166092,67.29333905953295,69.26310458912498,71.23287011871699,69.82589474043698,67.85612921084495,68.41891936215697,67.29333905953295,67.29333905953295,69.82589474043698,68.13752428650096,70.10728981609299,67.01194398387696,65.04217845428494,66.44915383256495,66.73054890822095,68.70031443781296,63.63520307600492,67.01194398387696,68.70031443781296,65.04217845428494,66.16775875690894,68.41891936215697,68.98170951346897,67.57473413518896,63.91659815166092,65.60496860559694,66.44915383256495,70.67007996740499,68.41891936215697,66.44915383256495,65.60496860559694,64.47938830297294,67.29333905953295,67.29333905953295,66.16775875690894,67.01194398387696,67.01194398387696,66.16775875690894,66.44915383256495,66.73054890822095,67.85612921084495,65.88636368125294,67.29333905953295,65.60496860559694,67.01194398387696,68.98170951346897,65.32357352994094,68.13752428650096,69.54449966478097,69.54449966478097,66.73054890822095,67.29333905953295,68.41891936215697,68.98170951346897,67.01194398387696,69.26310458912498,68.98170951346897,65.60496860559694,70.951475043061,66.73054890822095,66.16775875690894,65.04217845428494,68.70031443781296,67.01194398387696,68.98170951346897,68.13752428650096,67.01194398387696,67.29333905953295,65.60496860559694,66.73054890822095,67.29333905953295,68.98170951346897,64.47938830297294,65.88636368125294,65.32357352994094,67.85612921084495,66.73054890822095,66.16775875690894,66.16775875690894,68.13752428650096,69.26310458912498,69.54449966478097,67.01194398387696,64.47938830297294,67.85612921084495,66.16775875690894,68.98170951346897,68.41891936215697,67.85612921084495,64.19799322731693,65.32357352994094,67.01194398387696,66.73054890822095,68.13752428650096,66.73054890822095,66.44915383256495,67.01194398387696,62.50962277338091,68.41891936215697,64.47938830297294,67.57473413518896,67.85612921084495,72.63984549699701,65.32357352994094,64.19799322731693,69.54449966478097,68.98170951346897,67.01194398387696,67.57473413518896,68.70031443781296,68.98170951346897,67.01194398387696,68.70031443781296,67.01194398387696,68.13752428650096,67.85612921084495,67.29333905953295,66.73054890822095,63.63520307600492,67.57473413518896,68.13752428650096,67.29333905953295,69.82589474043698,66.44915383256495,65.32357352994094,66.44915383256495,68.41891936215697,69.26310458912498,67.85612921084495,69.26310458912498,64.47938830297294,65.04217845428494,66.44915383256495,65.04217845428494,67.01194398387696,64.47938830297294,67.29333905953295,63.07241292469292,67.57473413518896,67.85612921084495,68.70031443781296,70.67007996740499,66.44915383256495,67.85612921084495,63.91659815166092,65.04217845428494,65.32357352994094,64.19799322731693,67.29333905953295,67.01194398387696,69.26310458912498,68.13752428650096,65.60496860559694,68.70031443781296,64.47938830297294,67.29333905953295,64.76078337862893,65.32357352994094,68.13752428650096,67.29333905953295,67.85612921084495,69.82589474043698,65.60496860559694,65.32357352994094,65.60496860559694,65.32357352994094,66.44915383256495,69.26310458912498,67.57473413518896,67.29333905953295,68.70031443781296,68.13752428650096,65.60496860559694,66.16775875690894,68.70031443781296,66.16775875690894,67.01194398387696,66.16775875690894,66.73054890822095,67.85612921084495,66.73054890822095,68.70031443781296,67.85612921084495,67.85612921084495,68.98170951346897,67.29333905953295,67.29333905953295,67.29333905953295,68.13752428650096,67.57473413518896,70.10728981609299,67.29333905953295,67.01194398387696,67.01194398387696,67.57473413518896,68.98170951346897,68.41891936215697,67.29333905953295,66.44915383256495,68.13752428650096,66.16775875690894,70.67007996740499,69.26310458912498,67.85612921084495,65.88636368125294,67.85612921084495,69.26310458912498,65.60496860559694,64.47938830297294,66.16775875690894,67.29333905953295,66.73054890822095,64.19799322731693,71.23287011871699,68.98170951346897,68.70031443781296,66.16775875690894,67.01194398387696,67.57473413518896,66.44915383256495,67.29333905953295,67.85612921084495,64.76078337862893,65.60496860559694,65.60496860559694,69.54449966478097,66.73054890822095,69.54449966478097,70.38868489174898,69.82589474043698,67.29333905953295,68.41891936215697,64.76078337862893,69.82589474043698,65.32357352994094,64.76078337862893,66.44915383256495,70.10728981609299,67.57473413518896,65.88636368125294,69.26310458912498,61.946832622068904,64.47938830297294,66.73054890822095,69.26310458912498,69.54449966478097,66.73054890822095,67.57473413518896,64.19799322731693,67.01194398387696,66.44915383256495,65.88636368125294,66.16775875690894,69.54449966478097,67.01194398387696,63.63520307600492,67.85612921084495,67.57473413518896,69.82589474043698,68.70031443781296,66.44915383256495,68.98170951346897,66.73054890822095,65.60496860559694,69.54449966478097,66.16775875690894,68.98170951346897,71.514265194373,68.41891936215697,70.38868489174898,67.57473413518896,66.73054890822095,66.44915383256495,67.29333905953295,68.13752428650096,65.32357352994094,67.57473413518896,69.82589474043698,68.70031443781296,67.85612921084495,67.57473413518896,68.70031443781296,67.01194398387696,65.60496860559694,66.44915383256495,67.01194398387696,69.82589474043698,62.50962277338091,68.70031443781296,67.85612921084495,65.04217845428494,67.57473413518896,68.41891936215697,67.29333905953295,64.76078337862893,70.38868489174898,66.44915383256495,66.16775875690894,65.88636368125294,67.01194398387696,66.44915383256495,66.44915383256495,69.82589474043698,68.13752428650096,67.01194398387696,70.67007996740499,66.16775875690894,67.29333905953295,65.32357352994094,67.01194398387696,69.26310458912498,70.10728981609299,64.76078337862893,68.70031443781296,68.13752428650096,70.67007996740499,66.16775875690894,71.23287011871699,66.44915383256495,66.16775875690894,64.76078337862893,66.44915383256495,67.29333905953295,65.04217845428494,67.01194398387696,68.98170951346897,68.41891936215697,67.01194398387696,68.70031443781296,67.29333905953295,64.19799322731693,65.60496860559694,71.795660270029,67.57473413518896,67.57473413518896,66.73054890822095,67.57473413518896,70.10728981609299,64.76078337862893,70.10728981609299,64.76078337862893,68.98170951346897,66.44915383256495,67.85612921084495,65.04217845428494,69.82589474043698,65.32357352994094,65.04217845428494,65.60496860559694,68.41891936215697,67.01194398387696,66.44915383256495,67.85612921084495,65.60496860559694,67.57473413518896,68.98170951346897,67.57473413518896,69.54449966478097,68.41891936215697,70.10728981609299,67.01194398387696,68.98170951346897,66.44915383256495,67.57473413518896,68.13752428650096,72.63984549699701,67.29333905953295,69.26310458912498,65.88636368125294,63.07241292469292,72.077055345685,64.19799322731693,64.47938830297294,67.29333905953295,67.57473413518896,66.73054890822095,67.29333905953295,65.60496860559694,66.73054890822095,69.26310458912498,67.29333905953295,65.04217845428494,66.73054890822095,67.57473413518896,69.26310458912498,68.13752428650096,67.29333905953295,67.57473413518896,69.54449966478097,66.44915383256495,65.60496860559694,71.23287011871699,65.88636368125294,65.88636368125294,67.57473413518896,68.41891936215697,66.16775875690894,68.13752428650096,68.13752428650096,65.60496860559694,65.04217845428494,66.16775875690894,69.54449966478097,68.13752428650096,67.85612921084495,65.32357352994094,64.76078337862893,66.16775875690894,68.13752428650096,68.41891936215697,68.98170951346897,68.70031443781296,69.54449966478097,66.44915383256495,67.29333905953295,67.29333905953295,69.54449966478097,63.63520307600492,69.26310458912498,63.63520307600492,69.82589474043698,68.70031443781296,67.29333905953295,65.04217845428494,70.10728981609299,65.88636368125294,67.29333905953295,65.04217845428494,67.85612921084495,68.13752428650096,69.26310458912498,64.47938830297294,67.01194398387696,67.01194398387696,68.41891936215697,66.16775875690894,66.44915383256495,67.01194398387696,68.70031443781296,70.10728981609299,68.70031443781296,68.41891936215697,66.44915383256495,68.41891936215697,67.57473413518896,69.26310458912498,65.60496860559694,67.01194398387696,68.41891936215697,67.29333905953295,66.73054890822095,65.60496860559694,68.41891936215697,68.70031443781296,70.951475043061,65.32357352994094,68.41891936215697,67.01194398387696,67.57473413518896,67.85612921084495,67.29333905953295,68.41891936215697,67.01194398387696,67.57473413518896,66.44915383256495,66.73054890822095,66.73054890822095,67.01194398387696,69.54449966478097,68.98170951346897,63.91659815166092,67.01194398387696,65.88636368125294,68.41891936215697,67.57473413518896,64.47938830297294,68.98170951346897,67.85612921084495,66.16775875690894,67.29333905953295,65.04217845428494,65.88636368125294,65.88636368125294,67.57473413518896,65.88636368125294,66.16775875690894,68.98170951346897,65.88636368125294,68.41891936215697,67.57473413518896,67.01194398387696,66.73054890822095,64.47938830297294,63.35380800034892,71.23287011871699,67.01194398387696,65.32357352994094,67.29333905953295,68.98170951346897,67.01194398387696,66.73054890822095,69.26310458912498,68.98170951346897,66.16775875690894,65.04217845428494,68.70031443781296,67.01194398387696,68.13752428650096,67.01194398387696,67.57473413518896,65.88636368125294,65.32357352994094,63.63520307600492,66.44915383256495,65.32357352994094,66.73054890822095,68.13752428650096,68.70031443781296,66.73054890822095,65.88636368125294,66.73054890822095,67.01194398387696,67.57473413518896,63.91659815166092,65.88636368125294,68.13752428650096,67.57473413518896,70.67007996740499,68.41891936215697,68.13752428650096,67.57473413518896,66.44915383256495,67.85612921084495,65.32357352994094,70.10728981609299,68.13752428650096,69.26310458912498,67.29333905953295,67.57473413518896,67.29333905953295,65.32357352994094,67.85612921084495,67.85612921084495,67.01194398387696,66.73054890822095,67.85612921084495,65.88636368125294,66.73054890822095,67.29333905953295,66.16775875690894,65.60496860559694,68.41891936215697,67.01194398387696,65.32357352994094,68.98170951346897,68.98170951346897,68.13752428650096,68.13752428650096,68.41891936215697,67.85612921084495,66.73054890822095,66.44915383256495,65.60496860559694,68.13752428650096,70.10728981609299,68.41891936215697,66.16775875690894,66.16775875690894,67.57473413518896,71.514265194373,66.16775875690894,67.85612921084495,68.13752428650096,66.16775875690894,65.32357352994094,67.01194398387696,69.82589474043698,66.16775875690894,68.98170951346897,67.85612921084495,67.29333905953295,69.26310458912498,66.44915383256495,66.16775875690894,67.57473413518896,67.29333905953295,67.57473413518896,67.85612921084495,64.47938830297294,67.57473413518896,65.88636368125294,65.88636368125294,67.29333905953295,68.98170951346897,65.32357352994094,70.67007996740499,68.70031443781296,63.63520307600492,67.85612921084495,69.54449966478097,68.41891936215697,67.29333905953295,70.10728981609299,68.41891936215697,71.23287011871699,67.01194398387696,64.47938830297294,66.16775875690894,66.73054890822095,68.70031443781296,68.13752428650096,69.82589474043698,68.41891936215697,67.01194398387696,65.32357352994094,70.67007996740499,67.01194398387696,65.60496860559694,67.01194398387696,66.73054890822095,71.514265194373,67.57473413518896,65.60496860559694,68.70031443781296,68.13752428650096,70.10728981609299,64.47938830297294,67.57473413518896,65.60496860559694,65.04217845428494,70.10728981609299,63.63520307600492,68.70031443781296,68.70031443781296,64.76078337862893,67.85612921084495,68.13752428650096,66.73054890822095,67.01194398387696,68.41891936215697,68.13752428650096,67.01194398387696,67.01194398387696,67.85612921084495,68.41891936215697,68.41891936215697,66.16775875690894,66.73054890822095,65.88636368125294,68.13752428650096,66.44915383256495,69.54449966478097,65.88636368125294,66.44915383256495,70.67007996740499,69.82589474043698,65.60496860559694,66.73054890822095,65.60496860559694,68.70031443781296,67.85612921084495,69.54449966478097,67.85612921084495,63.63520307600492,67.57473413518896,66.16775875690894,68.41891936215697,66.44915383256495,66.73054890822095,68.98170951346897,70.38868489174898,68.41891936215697,65.32357352994094,67.85612921084495,68.70031443781296,66.16775875690894,66.44915383256495,70.10728981609299,68.41891936215697,65.32357352994094,70.951475043061,69.82589474043698,67.01194398387696,67.01194398387696,67.01194398387696,65.60496860559694,65.88636368125294,65.88636368125294,64.47938830297294,69.54449966478097,67.01194398387696,68.41891936215697,67.85612921084495,66.44915383256495,70.951475043061,68.70031443781296,68.13752428650096,66.44915383256495,68.70031443781296,66.73054890822095,67.85612921084495,67.57473413518896,68.41891936215697,66.16775875690894,65.32357352994094,68.13752428650096,67.57473413518896,68.41891936215697,66.44915383256495,67.29333905953295,69.54449966478097,67.57473413518896,65.32357352994094,68.98170951346897,67.85612921084495,67.85612921084495,72.077055345685,69.82589474043698,65.88636368125294,67.85612921084495,68.70031443781296,67.57473413518896,68.41891936215697,65.88636368125294,69.26310458912498,66.16775875690894,67.57473413518896,66.73054890822095,67.01194398387696,66.73054890822095,65.88636368125294,68.70031443781296,65.32357352994094,66.16775875690894,63.91659815166092,65.60496860559694,70.67007996740499,69.54449966478097,67.57473413518896,67.29333905953295,68.70031443781296,72.358450421341,65.32357352994094,69.82589474043698,65.32357352994094,66.73054890822095,68.41891936215697,65.88636368125294,67.29333905953295,66.16775875690894,70.951475043061,69.26310458912498,63.91659815166092,69.82589474043698,73.76542579962101,69.26310458912498,66.73054890822095,67.57473413518896,64.19799322731693,67.85612921084495,70.67007996740499,67.01194398387696,70.951475043061,65.88636368125294,68.13752428650096,68.41891936215697,66.44915383256495,68.13752428650096,67.01194398387696,66.73054890822095,64.19799322731693,67.57473413518896,67.29333905953295,69.82589474043698,68.13752428650096,67.01194398387696,67.85612921084495,69.82589474043698,68.41891936215697,69.26310458912498,65.60496860559694,67.29333905953295,67.85612921084495,66.16775875690894,68.41891936215697,66.16775875690894,65.88636368125294,65.60496860559694,68.13752428650096,67.01194398387696,65.32357352994094,67.85612921084495,67.85612921084495,64.19799322731693,67.85612921084495,67.01194398387696,65.88636368125294,64.76078337862893,67.85612921084495,68.98170951346897,67.01194398387696,67.01194398387696,66.44915383256495,66.16775875690894,67.29333905953295,69.82589474043698,67.01194398387696,69.54449966478097,64.19799322731693,66.73054890822095,68.41891936215697,67.57473413518896,67.85612921084495,67.57473413518896,66.44915383256495,65.88636368125294,70.38868489174898,66.73054890822095,68.13752428650096,65.88636368125294,68.70031443781296,67.01194398387696,68.41891936215697,68.13752428650096,66.16775875690894,70.951475043061,68.13752428650096,65.88636368125294,64.47938830297294,66.73054890822095,70.67007996740499,66.73054890822095,65.88636368125294,62.79101784903691,66.16775875690894,69.82589474043698,69.54449966478097,67.01194398387696,67.29333905953295,67.85612921084495,70.10728981609299,66.16775875690894,69.82589474043698,67.57473413518896,65.88636368125294,67.01194398387696,67.01194398387696,67.57473413518896,67.29333905953295,65.04217845428494,63.63520307600492,68.98170951346897,67.85612921084495,69.26310458912498,67.57473413518896,66.16775875690894,68.98170951346897,68.41891936215697,68.98170951346897,69.26310458912498,69.82589474043698,65.32357352994094,67.57473413518896,66.16775875690894,67.29333905953295,66.73054890822095,66.16775875690894,65.04217845428494,64.47938830297294,65.88636368125294,68.13752428650096,67.85612921084495,66.73054890822095,65.60496860559694,68.41891936215697,68.70031443781296,70.10728981609299,66.16775875690894,66.73054890822095,72.63984549699701,67.85612921084495,65.60496860559694,71.514265194373,67.01194398387696,69.54449966478097,66.16775875690894,65.60496860559694,67.01194398387696,69.82589474043698,68.70031443781296,66.73054890822095,66.16775875690894,67.29333905953295,68.41891936215697,67.57473413518896,67.01194398387696,63.63520307600492,67.57473413518896,69.26310458912498,70.10728981609299,68.13752428650096,72.358450421341,65.88636368125294,68.13752428650096,67.29333905953295,67.29333905953295,68.70031443781296,69.26310458912498,66.44915383256495,65.32357352994094,68.98170951346897,66.73054890822095,67.01194398387696,67.01194398387696,65.04217845428494,66.73054890822095,68.41891936215697,67.85612921084495,68.98170951346897,68.13752428650096,66.44915383256495,68.41891936215697,67.85612921084495,67.01194398387696,69.26310458912498,66.16775875690894,69.54449966478097,67.85612921084495,67.85612921084495,66.73054890822095,66.44915383256495,64.19799322731693,67.57473413518896,67.01194398387696,68.70031443781296,69.82589474043698,66.16775875690894,70.951475043061,69.26310458912498,66.73054890822095,68.41891936215697,66.44915383256495,67.29333905953295,68.41891936215697,67.57473413518896,68.98170951346897,64.47938830297294,66.16775875690894,65.04217845428494,66.73054890822095,67.85612921084495,67.29333905953295,63.91659815166092,64.76078337862893,67.57473413518896,64.47938830297294,67.85612921084495,68.98170951346897,66.16775875690894,68.41891936215697,66.44915383256495,67.01194398387696,68.13752428650096,70.38868489174898,65.88636368125294,66.16775875690894,70.951475043061,67.57473413518896,67.29333905953295,69.54449966478097,74.04682087527702,65.88636368125294,68.70031443781296,65.32357352994094,68.41891936215697,68.98170951346897,65.88636368125294,66.73054890822095,69.26310458912498,65.04217845428494,65.60496860559694,68.41891936215697,67.57473413518896,69.54449966478097,67.29333905953295,67.01194398387696,70.38868489174898,63.63520307600492,68.41891936215697,68.70031443781296,68.13752428650096,69.26310458912498,67.29333905953295,68.98170951346897,66.73054890822095,64.47938830297294,67.29333905953295,65.88636368125294,66.16775875690894,67.57473413518896,69.82589474043698,63.63520307600492,65.04217845428494,65.88636368125294,71.23287011871699,67.29333905953295,65.88636368125294,67.29333905953295,69.26310458912498,66.73054890822095,66.73054890822095,68.41891936215697,64.47938830297294,68.13752428650096,66.44915383256495,68.13752428650096,67.85612921084495,66.73054890822095,67.57473413518896,69.54449966478097,65.88636368125294,68.98170951346897,65.32357352994094,63.35380800034892,64.47938830297294,68.41891936215697,66.16775875690894,69.26310458912498,66.44915383256495,66.16775875690894,68.41891936215697,68.70031443781296,69.54449966478097,66.44915383256495,68.41891936215697,66.16775875690894,64.76078337862893,66.16775875690894,66.73054890822095,67.29333905953295,64.47938830297294,66.44915383256495,66.73054890822095,68.41891936215697,66.44915383256495,66.73054890822095,68.13752428650096,66.73054890822095,65.04217845428494,67.29333905953295,68.13752428650096,67.01194398387696,65.32357352994094,65.32357352994094,67.29333905953295,67.85612921084495,68.13752428650096,65.60496860559694,68.13752428650096,64.47938830297294,67.29333905953295,65.88636368125294,68.98170951346897,65.32357352994094,69.54449966478097,66.16775875690894,65.60496860559694,65.32357352994094,68.13752428650096,67.85612921084495,66.16775875690894,66.73054890822095,66.44915383256495,67.29333905953295,69.26310458912498,68.13752428650096,65.60496860559694,65.88636368125294,66.44915383256495,67.01194398387696,66.44915383256495,68.41891936215697,63.91659815166092,69.26310458912498,67.01194398387696,65.60496860559694,69.82589474043698,66.73054890822095,67.85612921084495,67.57473413518896,69.82589474043698,68.41891936215697,65.88636368125294,64.76078337862893,68.98170951346897,66.16775875690894,65.32357352994094,70.951475043061,65.32357352994094,67.01194398387696,66.44915383256495,65.04217845428494,67.29333905953295,67.85612921084495,68.98170951346897,67.57473413518896,68.13752428650096,67.57473413518896,68.13752428650096,66.16775875690894,67.85612921084495,70.10728981609299,69.82589474043698,68.13752428650096,68.13752428650096,67.57473413518896,66.73054890822095,69.26310458912498,65.32357352994094,64.76078337862893,67.85612921084495,68.41891936215697,67.01194398387696,71.514265194373,66.73054890822095,67.85612921084495,65.04217845428494,66.44915383256495,66.16775875690894,67.57473413518896,67.57473413518896,66.73054890822095,68.70031443781296,67.29333905953295,67.29333905953295,70.67007996740499,68.13752428650096,66.44915383256495,67.57473413518896,64.76078337862893,68.13752428650096,68.13752428650096,68.70031443781296,67.01194398387696,65.88636368125294,67.57473413518896,68.98170951346897,66.73054890822095,68.98170951346897,72.077055345685,63.63520307600492,68.41891936215697,66.73054890822095,67.29333905953295,67.01194398387696,70.10728981609299,68.98170951346897,67.01194398387696,68.41891936215697,68.41891936215697,65.88636368125294,64.76078337862893,67.01194398387696,67.01194398387696,70.38868489174898,68.70031443781296,64.76078337862893,65.32357352994094,66.44915383256495,65.88636368125294,70.67007996740499,67.57473413518896,64.76078337862893,67.29333905953295,68.13752428650096,67.01194398387696,66.44915383256495,68.70031443781296,69.54449966478097,68.13752428650096,68.41891936215697,66.73054890822095,69.26310458912498,63.91659815166092,71.795660270029,67.85612921084495,66.73054890822095,70.10728981609299,66.73054890822095,67.01194398387696,68.13752428650096,65.88636368125294,65.60496860559694,65.88636368125294,68.13752428650096,67.29333905953295,66.16775875690894,65.60496860559694,69.54449966478097,70.38868489174898,65.32357352994094,67.29333905953295,69.54449966478097,66.16775875690894,67.57473413518896,67.29333905953295,67.29333905953295,69.26310458912498,67.29333905953295,65.60496860559694,67.57473413518896,68.13752428650096,68.13752428650096,66.16775875690894,66.16775875690894,69.26310458912498,67.01194398387696,65.88636368125294,67.29333905953295,65.04217845428494,68.98170951346897,68.70031443781296,68.41891936215697,68.70031443781296,68.98170951346897,65.60496860559694,72.63984549699701,65.04217845428494,68.13752428650096,67.85612921084495,67.29333905953295,68.13752428650096,68.13752428650096,68.13752428650096,65.60496860559694,67.29333905953295,65.60496860559694,67.57473413518896,67.57473413518896,65.04217845428494,69.26310458912498,70.10728981609299,65.32357352994094,66.44915383256495,68.41891936215697,66.73054890822095,68.70031443781296,70.951475043061,69.26310458912498,69.82589474043698,67.01194398387696,66.73054890822095,68.70031443781296,67.85612921084495,68.70031443781296,67.29333905953295,66.73054890822095,66.73054890822095,65.88636368125294,64.19799322731693,65.04217845428494,67.85612921084495,68.13752428650096,67.01194398387696,67.01194398387696,66.73054890822095,68.41891936215697,67.57473413518896,67.01194398387696,67.29333905953295,66.44915383256495,69.26310458912498,68.13752428650096,68.70031443781296,66.44915383256495,66.16775875690894,69.26310458912498,65.60496860559694,68.98170951346897,65.32357352994094,66.73054890822095,67.85612921084495,68.70031443781296,69.82589474043698,63.63520307600492,66.73054890822095,69.26310458912498,66.73054890822095,67.01194398387696,65.88636368125294,65.88636368125294,69.26310458912498,67.57473413518896,67.29333905953295,65.04217845428494,68.13752428650096,66.44915383256495,68.41891936215697,67.29333905953295,68.13752428650096,66.16775875690894,69.26310458912498,66.44915383256495,66.44915383256495,65.88636368125294,68.41891936215697,68.13752428650096,68.70031443781296,68.41891936215697,65.88636368125294,67.57473413518896,68.98170951346897,66.73054890822095,68.98170951346897,66.16775875690894,68.70031443781296,67.29333905953295,66.73054890822095,66.44915383256495,66.73054890822095,68.41891936215697,66.73054890822095,68.13752428650096,67.57473413518896,64.19799322731693,67.85612921084495,66.16775875690894,65.88636368125294,66.16775875690894,68.41891936215697,65.88636368125294,68.98170951346897,66.73054890822095,67.57473413518896,66.73054890822095,69.54449966478097,67.85612921084495,67.29333905953295,66.16775875690894,66.44915383256495,66.73054890822095,67.57473413518896,65.88636368125294,67.01194398387696,68.98170951346897,65.60496860559694,65.32357352994094,68.98170951346897,67.01194398387696,66.44915383256495,67.01194398387696,67.57473413518896,66.73054890822095,66.73054890822095,67.85612921084495,69.26310458912498,67.57473413518896,69.54449966478097,70.10728981609299,67.57473413518896,67.29333905953295,66.16775875690894,68.70031443781296,68.70031443781296,70.951475043061,64.76078337862893,67.85612921084495,69.54449966478097,63.07241292469292,67.01194398387696,67.57473413518896,68.70031443781296,65.04217845428494,67.01194398387696,67.85612921084495,66.16775875690894,66.44915383256495,68.13752428650096,67.85612921084495,69.54449966478097,65.60496860559694,65.88636368125294,65.88636368125294,69.54449966478097,68.98170951346897,69.82589474043698,65.60496860559694,67.57473413518896,65.32357352994094,69.82589474043698,67.01194398387696,66.73054890822095,66.73054890822095,65.04217845428494,67.29333905953295,65.04217845428494,64.19799322731693,64.47938830297294,65.04217845428494,69.26310458912498,69.26310458912498,65.60496860559694,67.85612921084495,67.29333905953295,67.57473413518896,66.44915383256495,67.29333905953295,65.60496860559694,63.35380800034892,67.57473413518896,67.01194398387696,68.98170951346897,66.73054890822095,66.44915383256495,66.44915383256495,66.44915383256495,67.01194398387696,67.01194398387696,63.63520307600492,64.76078337862893,70.10728981609299,67.85612921084495,67.57473413518896,63.35380800034892,68.13752428650096,69.82589474043698,66.73054890822095,67.29333905953295,69.54449966478097,64.76078337862893,68.13752428650096,67.01194398387696,65.88636368125294,64.76078337862893,68.41891936215697,68.98170951346897,64.19799322731693,67.85612921084495,66.16775875690894,67.85612921084495,70.951475043061,66.44915383256495,67.85612921084495,69.54449966478097,70.951475043061,70.10728981609299,65.32357352994094,67.85612921084495,66.44915383256495,67.57473413518896,65.04217845428494,68.41891936215697,68.98170951346897,65.88636368125294,67.85612921084495,67.01194398387696,63.91659815166092,66.73054890822095,69.54449966478097,67.57473413518896,66.73054890822095,66.16775875690894,67.01194398387696,68.98170951346897,69.82589474043698,67.01194398387696,62.50962277338091,65.88636368125294,66.73054890822095,65.32357352994094,62.79101784903691,66.16775875690894,67.57473413518896,66.73054890822095,67.85612921084495,68.13752428650096,67.01194398387696,64.76078337862893,67.29333905953295,68.70031443781296,67.85612921084495,66.44915383256495,67.29333905953295,64.47938830297294,66.16775875690894,68.13752428650096,67.57473413518896,68.98170951346897,67.01194398387696,66.44915383256495,69.26310458912498,63.63520307600492,70.38868489174898,68.41891936215697,69.26310458912498,68.13752428650096,67.57473413518896,64.47938830297294,68.98170951346897,68.98170951346897,67.29333905953295,66.44915383256495,68.41891936215697,68.41891936215697,67.29333905953295,68.41891936215697,67.01194398387696,65.60496860559694,67.57473413518896,66.73054890822095,66.73054890822095,66.44915383256495,66.73054890822095,65.88636368125294,64.47938830297294,66.73054890822095,69.54449966478097,69.82589474043698,69.26310458912498,66.16775875690894,67.85612921084495,68.13752428650096,64.19799322731693,68.13752428650096,65.04217845428494,67.85612921084495,65.60496860559694,67.57473413518896,67.57473413518896,67.29333905953295,65.04217845428494,67.57473413518896,66.44915383256495,69.82589474043698,65.88636368125294,69.82589474043698,67.29333905953295,66.73054890822095,67.01194398387696,67.85612921084495,67.85612921084495,67.01194398387696,69.26310458912498,69.54449966478097,67.01194398387696,66.16775875690894,67.29333905953295,70.10728981609299,69.54449966478097,69.54449966478097,65.04217845428494,63.91659815166092,69.54449966478097,67.01194398387696,69.54449966478097,65.88636368125294,66.16775875690894,66.44915383256495,67.29333905953295,66.73054890822095,65.04217845428494,66.73054890822095,70.38868489174898,65.04217845428494,67.57473413518896,65.04217845428494,67.29333905953295,70.67007996740499,68.70031443781296,64.76078337862893,66.73054890822095,69.54449966478097,65.60496860559694,65.04217845428494,66.44915383256495,69.82589474043698,65.88636368125294,69.82589474043698,68.98170951346897,68.98170951346897,68.41891936215697,66.16775875690894,68.41891936215697,66.44915383256495,67.57473413518896,63.07241292469292,66.16775875690894,67.85612921084495,66.44915383256495,66.44915383256495,64.76078337862893,68.41891936215697,69.26310458912498,67.29333905953295,68.98170951346897,65.88636368125294,70.38868489174898,67.57473413518896,66.44915383256495,68.13752428650096,67.01194398387696,67.85612921084495,68.41891936215697,68.41891936215697,66.73054890822095,69.26310458912498,65.32357352994094,66.73054890822095,64.76078337862893,65.60496860559694,67.85612921084495,64.76078337862893,65.32357352994094,65.88636368125294,69.26310458912498,65.32357352994094,66.16775875690894,66.16775875690894,65.88636368125294,67.57473413518896,68.98170951346897,69.26310458912498,67.57473413518896,70.10728981609299,68.41891936215697,65.60496860559694,66.44915383256495,67.01194398387696,70.38868489174898,68.13752428650096,67.29333905953295,65.88636368125294,68.41891936215697,67.57473413518896,65.60496860559694,68.41891936215697,67.29333905953295,66.44915383256495,70.10728981609299,67.85612921084495,66.44915383256495,70.67007996740499,66.44915383256495,68.13752428650096,66.73054890822095,69.82589474043698,67.29333905953295,70.10728981609299,67.29333905953295,66.73054890822095,67.57473413518896,66.73054890822095,67.01194398387696,70.951475043061,68.41891936215697,66.44915383256495,69.82589474043698,64.19799322731693,67.01194398387696,65.88636368125294,66.44915383256495,65.88636368125294,68.41891936215697,64.19799322731693,68.13752428650096,67.29333905953295,71.514265194373,67.57473413518896,64.76078337862893,67.29333905953295,67.01194398387696,66.44915383256495,67.29333905953295,66.16775875690894,68.70031443781296,65.04217845428494,67.85612921084495,67.57473413518896,67.85612921084495,68.13752428650096,68.13752428650096,68.70031443781296,67.01194398387696,68.41891936215697,69.54449966478097,68.13752428650096,68.13752428650096,66.44915383256495,67.01194398387696,66.44915383256495,65.32357352994094,66.16775875690894,66.44915383256495,63.07241292469292,70.38868489174898,65.60496860559694,68.98170951346897,67.01194398387696,63.63520307600492,66.73054890822095,69.82589474043698,66.16775875690894,67.85612921084495,65.04217845428494,64.76078337862893,66.73054890822095,65.60496860559694,67.01194398387696,68.70031443781296,67.85612921084495,67.57473413518896,67.01194398387696,66.16775875690894,66.16775875690894,69.26310458912498,68.70031443781296,66.73054890822095,68.98170951346897,65.88636368125294,68.41891936215697,67.85612921084495,69.82589474043698,68.98170951346897,68.41891936215697,66.16775875690894,67.01194398387696,66.73054890822095,68.41891936215697,67.57473413518896,67.29333905953295,63.91659815166092,68.41891936215697,66.16775875690894,69.26310458912498,67.85612921084495,67.85612921084495,66.44915383256495,69.82589474043698,68.98170951346897,70.951475043061,67.57473413518896,64.76078337862893,65.32357352994094,67.01194398387696,70.10728981609299,68.13752428650096,66.73054890822095,66.16775875690894,65.04217845428494,67.01194398387696,65.60496860559694,67.85612921084495,67.85612921084495,66.44915383256495,63.07241292469292,65.88636368125294,67.29333905953295,65.32357352994094,68.13752428650096,66.16775875690894,66.44915383256495,68.70031443781296,66.73054890822095,67.57473413518896,65.32357352994094,69.54449966478097,67.01194398387696,69.82589474043698,67.29333905953295,68.41891936215697,67.01194398387696,63.63520307600492,67.57473413518896,70.38868489174898,67.57473413518896,68.98170951346897,69.26310458912498,66.16775875690894,65.88636368125294,65.60496860559694,70.951475043061,65.60496860559694,65.60496860559694,67.29333905953295,66.73054890822095,65.60496860559694,65.88636368125294,67.85612921084495,67.29333905953295,65.60496860559694,66.16775875690894,68.13752428650096,66.73054890822095,67.01194398387696,70.67007996740499,65.88636368125294,67.57473413518896,67.29333905953295,66.16775875690894,67.29333905953295,66.16775875690894,65.60496860559694,67.85612921084495,68.70031443781296,66.44915383256495,68.70031443781296,68.41891936215697,68.13752428650096,67.29333905953295,68.41891936215697,65.04217845428494,65.88636368125294,68.41891936215697,65.88636368125294,67.01194398387696,67.85612921084495,67.01194398387696,65.88636368125294,67.29333905953295,68.98170951346897,63.91659815166092,67.57473413518896,66.44915383256495,68.41891936215697,66.44915383256495,68.98170951346897,67.29333905953295,66.16775875690894,64.19799322731693,64.47938830297294,66.16775875690894,66.73054890822095,68.41891936215697,65.88636368125294,66.44915383256495,65.04217845428494,65.32357352994094,67.29333905953295,65.60496860559694,67.29333905953295,68.13752428650096,67.01194398387696,70.38868489174898,67.29333905953295,68.70031443781296,68.98170951346897,68.70031443781296,68.70031443781296,68.98170951346897,64.76078337862893,70.10728981609299,66.44915383256495,68.98170951346897,69.26310458912498,67.85612921084495,65.04217845428494,70.951475043061,68.41891936215697,72.358450421341,68.13752428650096,65.04217845428494,65.60496860559694,68.98170951346897,66.73054890822095,64.47938830297294,67.29333905953295,69.54449966478097,68.98170951346897,69.54449966478097,66.16775875690894,66.73054890822095,64.76078337862893,67.57473413518896,67.29333905953295,66.73054890822095,67.29333905953295,64.76078337862893,64.76078337862893,67.85612921084495,68.41891936215697,67.01194398387696,69.54449966478097,66.44915383256495,68.13752428650096,67.01194398387696,68.13752428650096,69.26310458912498,67.85612921084495,65.32357352994094,67.57473413518896,67.29333905953295,66.73054890822095,71.23287011871699,67.85612921084495,67.57473413518896,66.16775875690894,65.88636368125294,67.29333905953295,70.10728981609299,68.98170951346897,66.44915383256495,71.514265194373,67.57473413518896,67.29333905953295,68.13752428650096,64.76078337862893,68.13752428650096,67.57473413518896,66.73054890822095,68.70031443781296,65.32357352994094,67.57473413518896,67.01194398387696,67.01194398387696,68.41891936215697,68.98170951346897,69.54449966478097,65.32357352994094,65.04217845428494,70.10728981609299,66.44915383256495,67.01194398387696,67.29333905953295,69.54449966478097,67.85612921084495,67.01194398387696,65.04217845428494,65.32357352994094,68.41891936215697,67.57473413518896,70.10728981609299,68.98170951346897,67.57473413518896,65.88636368125294,67.01194398387696,68.13752428650096,69.54449966478097,70.38868489174898,67.85612921084495,66.44915383256495,66.16775875690894,65.60496860559694,67.29333905953295,67.85612921084495,69.82589474043698,66.16775875690894,66.73054890822095,68.13752428650096,67.01194398387696,68.98170951346897,64.19799322731693,66.44915383256495,65.60496860559694,68.98170951346897,63.91659815166092,66.73054890822095,68.13752428650096,70.10728981609299,66.73054890822095,67.85612921084495,66.73054890822095,68.41891936215697,65.60496860559694,65.88636368125294,67.01194398387696,68.41891936215697,67.01194398387696,65.04217845428494,66.44915383256495,66.73054890822095,68.41891936215697,67.01194398387696,64.19799322731693,64.19799322731693,66.73054890822095,68.70031443781296,66.16775875690894,66.16775875690894,70.67007996740499,68.13752428650096,65.88636368125294,67.01194398387696,67.85612921084495,68.13752428650096,68.98170951346897,68.70031443781296,64.76078337862893,69.26310458912498,66.16775875690894,68.41891936215697,67.01194398387696,64.76078337862893,67.85612921084495,70.10728981609299,64.47938830297294,68.98170951346897,67.29333905953295,66.73054890822095,65.04217845428494,66.73054890822095,69.26310458912498,67.57473413518896,68.13752428650096,65.88636368125294,66.16775875690894,63.63520307600492,66.44915383256495,69.26310458912498,68.13752428650096,66.16775875690894,61.946832622068904,65.04217845428494,66.16775875690894,63.91659815166092,66.44915383256495,67.85612921084495,65.88636368125294,69.82589474043698,63.91659815166092,66.44915383256495,65.04217845428494,68.13752428650096,68.41891936215697,63.35380800034892,65.04217845428494,68.98170951346897,70.38868489174898,67.85612921084495,69.26310458912498,68.13752428650096,67.01194398387696,65.60496860559694,67.29333905953295,64.19799322731693,69.26310458912498,68.13752428650096,65.88636368125294,65.04217845428494,69.82589474043698,66.16775875690894,65.04217845428494,67.85612921084495,68.70031443781296,65.32357352994094,66.44915383256495,65.04217845428494,68.41891936215697,65.32357352994094,66.73054890822095,65.88636368125294,63.91659815166092,70.38868489174898,66.73054890822095,65.04217845428494,70.38868489174898,70.38868489174898,68.13752428650096,67.85612921084495,68.41891936215697,66.44915383256495,65.88636368125294,68.70031443781296,67.01194398387696,67.85612921084495,68.98170951346897,67.57473413518896,66.16775875690894,68.98170951346897,66.16775875690894,66.16775875690894,66.73054890822095,67.85612921084495,65.60496860559694,66.44915383256495,64.76078337862893,64.19799322731693,65.88636368125294,67.01194398387696,65.60496860559694,66.44915383256495,69.82589474043698,68.41891936215697,68.41891936215697,64.76078337862893,66.73054890822095,70.38868489174898,67.29333905953295,67.29333905953295,65.88636368125294,68.13752428650096,69.26310458912498,64.19799322731693,64.19799322731693,68.70031443781296,68.98170951346897,67.85612921084495,65.88636368125294,64.76078337862893,68.41891936215697,67.01194398387696,66.16775875690894,66.16775875690894,67.85612921084495,67.85612921084495,65.32357352994094,66.44915383256495,69.54449966478097,69.82589474043698,66.16775875690894,66.73054890822095,65.04217845428494,67.29333905953295,68.41891936215697,68.13752428650096,63.07241292469292,65.60496860559694,67.57473413518896,66.73054890822095,65.32357352994094,68.41891936215697,67.85612921084495,67.29333905953295,69.26310458912498,67.57473413518896,68.70031443781296,68.70031443781296,70.10728981609299,68.41891936215697,67.29333905953295,69.26310458912498,67.01194398387696,67.57473413518896,67.01194398387696,70.10728981609299,65.04217845428494,67.85612921084495,70.38868489174898,67.85612921084495,66.73054890822095,68.13752428650096,69.54449966478097,68.13752428650096,70.951475043061,66.73054890822095,65.60496860559694,65.60496860559694,69.82589474043698,65.32357352994094,68.70031443781296,67.85612921084495,68.70031443781296,69.82589474043698,68.41891936215697,67.29333905953295,65.32357352994094,68.13752428650096,68.70031443781296,66.73054890822095,64.76078337862893,68.13752428650096,68.70031443781296,67.29333905953295,67.57473413518896,63.35380800034892,67.01194398387696,67.57473413518896,67.01194398387696,66.73054890822095,65.32357352994094,66.16775875690894,65.04217845428494,65.32357352994094,68.13752428650096,65.04217845428494,71.23287011871699,68.13752428650096,68.41891936215697,66.44915383256495,67.85612921084495,68.70031443781296,67.85612921084495,67.57473413518896,66.73054890822095,68.98170951346897,65.88636368125294,65.88636368125294,67.01194398387696,68.98170951346897,66.16775875690894,67.29333905953295,70.10728981609299,69.54449966478097,67.57473413518896,68.70031443781296,65.60496860559694,67.57473413518896,66.44915383256495,65.88636368125294,65.04217845428494,68.41891936215697,67.01194398387696,67.01194398387696,66.44915383256495,65.60496860559694,67.29333905953295,65.04217845428494,66.44915383256495,67.57473413518896,65.04217845428494,70.67007996740499,67.01194398387696,68.13752428650096,67.85612921084495,66.44915383256495,69.26310458912498,66.73054890822095,66.44915383256495,69.26310458912498,67.01194398387696,65.04217845428494,67.57473413518896,63.63520307600492,67.57473413518896,65.32357352994094,69.26310458912498,65.04217845428494,65.04217845428494,65.04217845428494,66.73054890822095,65.60496860559694,64.47938830297294,65.60496860559694,67.29333905953295,67.29333905953295,65.04217845428494,68.98170951346897,65.88636368125294,63.91659815166092,67.29333905953295,63.07241292469292,67.29333905953295,68.13752428650096,66.44915383256495,63.63520307600492,66.16775875690894,67.01194398387696,63.91659815166092,70.67007996740499,66.73054890822095,70.38868489174898,69.26310458912498,66.44915383256495,66.73054890822095,70.10728981609299,66.73054890822095,67.85612921084495,64.76078337862893,68.98170951346897,65.60496860559694,66.44915383256495,67.85612921084495,66.44915383256495,66.73054890822095,65.60496860559694,69.82589474043698,69.26310458912498,62.79101784903691,65.88636368125294,69.54449966478097,65.60496860559694,67.01194398387696,70.67007996740499,65.32357352994094,67.29333905953295,65.60496860559694,67.85612921084495,69.26310458912498,68.41891936215697,70.951475043061,69.82589474043698,67.57473413518896,70.38868489174898,67.01194398387696,67.29333905953295,68.13752428650096,67.01194398387696,66.44915383256495,69.26310458912498,68.41891936215697,65.88636368125294,67.57473413518896,62.50962277338091,71.23287011871699,67.85612921084495,66.16775875690894,70.67007996740499,66.16775875690894,66.73054890822095,68.70031443781296,66.44915383256495,67.85612921084495,68.13752428650096,65.88636368125294,68.70031443781296,70.38868489174898,66.16775875690894,66.73054890822095,66.44915383256495,65.32357352994094,67.57473413518896,65.32357352994094,67.29333905953295,65.04217845428494,66.44915383256495,66.16775875690894,67.57473413518896,69.82589474043698,64.76078337862893,65.32357352994094,67.57473413518896,66.16775875690894,69.82589474043698,70.10728981609299,66.16775875690894,68.13752428650096,71.23287011871699,68.98170951346897,67.57473413518896,65.04217845428494,65.32357352994094,67.57473413518896,65.32357352994094,65.88636368125294,67.57473413518896,67.85612921084495,65.04217845428494,67.29333905953295,67.01194398387696,68.70031443781296,67.29333905953295,63.07241292469292,65.60496860559694,70.10728981609299,67.85612921084495,67.29333905953295,68.41891936215697,69.82589474043698,64.76078337862893,65.32357352994094,67.29333905953295,65.04217845428494,67.85612921084495,67.29333905953295,68.98170951346897,65.88636368125294,63.91659815166092,65.88636368125294,66.73054890822095,67.29333905953295,67.57473413518896,67.01194398387696,67.57473413518896,67.85612921084495,70.10728981609299,63.07241292469292,65.88636368125294,66.44915383256495,69.26310458912498,67.57473413518896,68.13752428650096,69.26310458912498,71.23287011871699,66.73054890822095,66.16775875690894,65.88636368125294,63.63520307600492,64.47938830297294,66.44915383256495,67.85612921084495,63.91659815166092,65.88636368125294,65.60496860559694,64.76078337862893,65.88636368125294,70.38868489174898,67.01194398387696,69.82589474043698,67.57473413518896,66.16775875690894,67.29333905953295,67.57473413518896,63.63520307600492,68.13752428650096,67.01194398387696,65.04217845428494,70.38868489174898,65.60496860559694,66.44915383256495,68.13752428650096,67.85612921084495,64.19799322731693,67.57473413518896,66.73054890822095,65.32357352994094,63.63520307600492,66.16775875690894,65.60496860559694,65.88636368125294,64.76078337862893,72.077055345685,67.57473413518896,65.88636368125294,68.70031443781296,64.47938830297294,70.67007996740499,68.13752428650096,68.41891936215697,67.57473413518896,70.10728981609299,67.01194398387696,65.88636368125294,64.76078337862893,65.32357352994094,67.57473413518896,66.16775875690894,67.29333905953295,66.44915383256495,67.57473413518896,68.41891936215697,67.57473413518896,65.32357352994094,65.88636368125294,63.91659815166092,68.70031443781296,70.951475043061,66.16775875690894,65.32357352994094,66.44915383256495,67.01194398387696,66.73054890822095,66.44915383256495,67.01194398387696,67.29333905953295,67.29333905953295,67.01194398387696,65.88636368125294,67.01194398387696,66.16775875690894,67.01194398387696,67.57473413518896,66.16775875690894,67.57473413518896,64.76078337862893,66.44915383256495,65.32357352994094,67.85612921084495,69.54449966478097,63.63520307600492,69.26310458912498,66.73054890822095,66.16775875690894,67.01194398387696,69.26310458912498,67.01194398387696,65.32357352994094,68.13752428650096,65.04217845428494,63.35380800034892,70.38868489174898,67.29333905953295,66.16775875690894,65.04217845428494,65.88636368125294,63.63520307600492,68.70031443781296,68.70031443781296,67.85612921084495,66.73054890822095,70.38868489174898,68.98170951346897,67.01194398387696,66.73054890822095,68.13752428650096,68.13752428650096,67.85612921084495,63.91659815166092,66.44915383256495,65.60496860559694,67.57473413518896,65.88636368125294,68.13752428650096,67.57473413518896,67.85612921084495,64.19799322731693,66.44915383256495,67.85612921084495,68.98170951346897,66.16775875690894,68.41891936215697,68.41891936215697,66.16775875690894,67.85612921084495,65.04217845428494,67.85612921084495,69.26310458912498,66.44915383256495,65.60496860559694,68.98170951346897,66.16775875690894,65.04217845428494,67.57473413518896,65.32357352994094,68.13752428650096,68.13752428650096,65.60496860559694,66.44915383256495,65.32357352994094,66.73054890822095,67.57473413518896,65.32357352994094,68.70031443781296,69.82589474043698,67.57473413518896,67.57473413518896,68.13752428650096,67.29333905953295,66.16775875690894,70.38868489174898,68.13752428650096,68.41891936215697,66.44915383256495,66.73054890822095,68.98170951346897,65.32357352994094,68.41891936215697,67.57473413518896,69.26310458912498,68.13752428650096,65.32357352994094,66.44915383256495,67.29333905953295,68.98170951346897,67.01194398387696,67.01194398387696,67.01194398387696,66.16775875690894,66.16775875690894,67.57473413518896,66.44915383256495,65.32357352994094,70.38868489174898,67.01194398387696,68.41891936215697,67.29333905953295,67.01194398387696,68.41891936215697,67.01194398387696,67.57473413518896,66.73054890822095,67.85612921084495,68.41891936215697,66.16775875690894,68.41891936215697,68.13752428650096,68.70031443781296,67.01194398387696,68.70031443781296,67.29333905953295,68.70031443781296,68.41891936215697,67.29333905953295,66.73054890822095,66.44915383256495,65.32357352994094,67.29333905953295,68.41891936215697,67.57473413518896,63.63520307600492,67.29333905953295,69.54449966478097,69.82589474043698,68.13752428650096,70.10728981609299,65.04217845428494,71.514265194373,69.26310458912498,67.01194398387696,67.57473413518896,66.16775875690894,65.88636368125294,67.29333905953295,65.88636368125294,66.73054890822095,67.85612921084495,65.88636368125294,69.26310458912498,67.85612921084495,66.16775875690894,69.54449966478097,68.70031443781296,68.98170951346897,66.44915383256495,67.57473413518896,66.73054890822095,66.73054890822095,67.85612921084495,65.88636368125294,70.67007996740499,65.88636368125294,67.57473413518896,67.57473413518896,67.57473413518896,65.04217845428494,65.88636368125294,67.57473413518896,67.57473413518896,67.85612921084495,68.41891936215697,67.57473413518896,64.19799322731693,69.54449966478097,68.41891936215697,67.01194398387696,70.38868489174898,65.88636368125294,68.41891936215697,65.04217845428494,68.70031443781296,66.73054890822095,65.04217845428494,67.01194398387696,69.26310458912498,67.01194398387696,64.19799322731693,67.57473413518896,66.16775875690894,65.60496860559694,65.60496860559694,68.13752428650096,68.41891936215697,69.26310458912498,65.60496860559694,67.85612921084495,67.57473413518896,66.73054890822095,68.70031443781296,65.88636368125294,66.16775875690894,67.57473413518896,64.19799322731693,68.70031443781296,67.29333905953295,65.32357352994094,68.98170951346897,67.85612921084495,65.32357352994094,63.91659815166092,66.44915383256495,67.29333905953295,67.29333905953295,64.76078337862893,67.01194398387696,67.29333905953295,67.01194398387696,67.29333905953295,68.13752428650096,69.82589474043698,67.85612921084495,66.16775875690894,66.44915383256495,65.88636368125294,68.41891936215697,66.16775875690894,68.70031443781296,62.50962277338091,67.01194398387696,69.26310458912498,68.13752428650096,66.44915383256495,64.47938830297294,67.57473413518896,68.13752428650096,66.44915383256495,66.44915383256495,63.63520307600492,65.88636368125294,66.44915383256495,70.951475043061,69.26310458912498,67.57473413518896,66.44915383256495,66.16775875690894,68.98170951346897,64.76078337862893,66.44915383256495,70.10728981609299,69.82589474043698,68.13752428650096,66.73054890822095,65.04217845428494,65.32357352994094,68.41891936215697,70.10728981609299,68.13752428650096,69.26310458912498,65.32357352994094,67.01194398387696,68.70031443781296,62.79101784903691,65.60496860559694,67.85612921084495,64.76078337862893,65.04217845428494,68.98170951346897,63.63520307600492,67.57473413518896,66.44915383256495,67.29333905953295,68.41891936215697,65.88636368125294,66.44915383256495,69.54449966478097,68.70031443781296,68.70031443781296,68.98170951346897,67.57473413518896,66.73054890822095,67.01194398387696,66.73054890822095,68.41891936215697,67.57473413518896,68.41891936215697,70.10728981609299,68.98170951346897,65.60496860559694,66.44915383256495,67.01194398387696,67.85612921084495,67.57473413518896,65.88636368125294,67.57473413518896,67.85612921084495,67.01194398387696,66.16775875690894,67.29333905953295,65.04217845428494,67.29333905953295,65.04217845428494,65.32357352994094,67.57473413518896,69.54449966478097,65.60496860559694,70.10728981609299,67.01194398387696,68.41891936215697,63.91659815166092,66.73054890822095,70.10728981609299,67.29333905953295,68.70031443781296,67.01194398387696,69.26310458912498,66.44915383256495,65.60496860559694,68.70031443781296,65.88636368125294,68.13752428650096,68.41891936215697],\"type\":\"scatter\"}],                        {\"template\":{\"data\":{\"histogram2dcontour\":[{\"type\":\"histogram2dcontour\",\"colorbar\":{\"outlinewidth\":0,\"ticks\":\"\"},\"colorscale\":[[0.0,\"#0d0887\"],[0.1111111111111111,\"#46039f\"],[0.2222222222222222,\"#7201a8\"],[0.3333333333333333,\"#9c179e\"],[0.4444444444444444,\"#bd3786\"],[0.5555555555555556,\"#d8576b\"],[0.6666666666666666,\"#ed7953\"],[0.7777777777777778,\"#fb9f3a\"],[0.8888888888888888,\"#fdca26\"],[1.0,\"#f0f921\"]]}],\"choropleth\":[{\"type\":\"choropleth\",\"colorbar\":{\"outlinewidth\":0,\"ticks\":\"\"}}],\"histogram2d\":[{\"type\":\"histogram2d\",\"colorbar\":{\"outlinewidth\":0,\"ticks\":\"\"},\"colorscale\":[[0.0,\"#0d0887\"],[0.1111111111111111,\"#46039f\"],[0.2222222222222222,\"#7201a8\"],[0.3333333333333333,\"#9c179e\"],[0.4444444444444444,\"#bd3786\"],[0.5555555555555556,\"#d8576b\"],[0.6666666666666666,\"#ed7953\"],[0.7777777777777778,\"#fb9f3a\"],[0.8888888888888888,\"#fdca26\"],[1.0,\"#f0f921\"]]}],\"heatmap\":[{\"type\":\"heatmap\",\"colorbar\":{\"outlinewidth\":0,\"ticks\":\"\"},\"colorscale\":[[0.0,\"#0d0887\"],[0.1111111111111111,\"#46039f\"],[0.2222222222222222,\"#7201a8\"],[0.3333333333333333,\"#9c179e\"],[0.4444444444444444,\"#bd3786\"],[0.5555555555555556,\"#d8576b\"],[0.6666666666666666,\"#ed7953\"],[0.7777777777777778,\"#fb9f3a\"],[0.8888888888888888,\"#fdca26\"],[1.0,\"#f0f921\"]]}],\"heatmapgl\":[{\"type\":\"heatmapgl\",\"colorbar\":{\"outlinewidth\":0,\"ticks\":\"\"},\"colorscale\":[[0.0,\"#0d0887\"],[0.1111111111111111,\"#46039f\"],[0.2222222222222222,\"#7201a8\"],[0.3333333333333333,\"#9c179e\"],[0.4444444444444444,\"#bd3786\"],[0.5555555555555556,\"#d8576b\"],[0.6666666666666666,\"#ed7953\"],[0.7777777777777778,\"#fb9f3a\"],[0.8888888888888888,\"#fdca26\"],[1.0,\"#f0f921\"]]}],\"contourcarpet\":[{\"type\":\"contourcarpet\",\"colorbar\":{\"outlinewidth\":0,\"ticks\":\"\"}}],\"contour\":[{\"type\":\"contour\",\"colorbar\":{\"outlinewidth\":0,\"ticks\":\"\"},\"colorscale\":[[0.0,\"#0d0887\"],[0.1111111111111111,\"#46039f\"],[0.2222222222222222,\"#7201a8\"],[0.3333333333333333,\"#9c179e\"],[0.4444444444444444,\"#bd3786\"],[0.5555555555555556,\"#d8576b\"],[0.6666666666666666,\"#ed7953\"],[0.7777777777777778,\"#fb9f3a\"],[0.8888888888888888,\"#fdca26\"],[1.0,\"#f0f921\"]]}],\"surface\":[{\"type\":\"surface\",\"colorbar\":{\"outlinewidth\":0,\"ticks\":\"\"},\"colorscale\":[[0.0,\"#0d0887\"],[0.1111111111111111,\"#46039f\"],[0.2222222222222222,\"#7201a8\"],[0.3333333333333333,\"#9c179e\"],[0.4444444444444444,\"#bd3786\"],[0.5555555555555556,\"#d8576b\"],[0.6666666666666666,\"#ed7953\"],[0.7777777777777778,\"#fb9f3a\"],[0.8888888888888888,\"#fdca26\"],[1.0,\"#f0f921\"]]}],\"mesh3d\":[{\"type\":\"mesh3d\",\"colorbar\":{\"outlinewidth\":0,\"ticks\":\"\"}}],\"scatter\":[{\"fillpattern\":{\"fillmode\":\"overlay\",\"size\":10,\"solidity\":0.2},\"type\":\"scatter\"}],\"parcoords\":[{\"type\":\"parcoords\",\"line\":{\"colorbar\":{\"outlinewidth\":0,\"ticks\":\"\"}}}],\"scatterpolargl\":[{\"type\":\"scatterpolargl\",\"marker\":{\"colorbar\":{\"outlinewidth\":0,\"ticks\":\"\"}}}],\"bar\":[{\"error_x\":{\"color\":\"#2a3f5f\"},\"error_y\":{\"color\":\"#2a3f5f\"},\"marker\":{\"line\":{\"color\":\"#E5ECF6\",\"width\":0.5},\"pattern\":{\"fillmode\":\"overlay\",\"size\":10,\"solidity\":0.2}},\"type\":\"bar\"}],\"scattergeo\":[{\"type\":\"scattergeo\",\"marker\":{\"colorbar\":{\"outlinewidth\":0,\"ticks\":\"\"}}}],\"scatterpolar\":[{\"type\":\"scatterpolar\",\"marker\":{\"colorbar\":{\"outlinewidth\":0,\"ticks\":\"\"}}}],\"histogram\":[{\"marker\":{\"pattern\":{\"fillmode\":\"overlay\",\"size\":10,\"solidity\":0.2}},\"type\":\"histogram\"}],\"scattergl\":[{\"type\":\"scattergl\",\"marker\":{\"colorbar\":{\"outlinewidth\":0,\"ticks\":\"\"}}}],\"scatter3d\":[{\"type\":\"scatter3d\",\"line\":{\"colorbar\":{\"outlinewidth\":0,\"ticks\":\"\"}},\"marker\":{\"colorbar\":{\"outlinewidth\":0,\"ticks\":\"\"}}}],\"scattermapbox\":[{\"type\":\"scattermapbox\",\"marker\":{\"colorbar\":{\"outlinewidth\":0,\"ticks\":\"\"}}}],\"scatterternary\":[{\"type\":\"scatterternary\",\"marker\":{\"colorbar\":{\"outlinewidth\":0,\"ticks\":\"\"}}}],\"scattercarpet\":[{\"type\":\"scattercarpet\",\"marker\":{\"colorbar\":{\"outlinewidth\":0,\"ticks\":\"\"}}}],\"carpet\":[{\"aaxis\":{\"endlinecolor\":\"#2a3f5f\",\"gridcolor\":\"white\",\"linecolor\":\"white\",\"minorgridcolor\":\"white\",\"startlinecolor\":\"#2a3f5f\"},\"baxis\":{\"endlinecolor\":\"#2a3f5f\",\"gridcolor\":\"white\",\"linecolor\":\"white\",\"minorgridcolor\":\"white\",\"startlinecolor\":\"#2a3f5f\"},\"type\":\"carpet\"}],\"table\":[{\"cells\":{\"fill\":{\"color\":\"#EBF0F8\"},\"line\":{\"color\":\"white\"}},\"header\":{\"fill\":{\"color\":\"#C8D4E3\"},\"line\":{\"color\":\"white\"}},\"type\":\"table\"}],\"barpolar\":[{\"marker\":{\"line\":{\"color\":\"#E5ECF6\",\"width\":0.5},\"pattern\":{\"fillmode\":\"overlay\",\"size\":10,\"solidity\":0.2}},\"type\":\"barpolar\"}],\"pie\":[{\"automargin\":true,\"type\":\"pie\"}]},\"layout\":{\"autotypenumbers\":\"strict\",\"colorway\":[\"#636efa\",\"#EF553B\",\"#00cc96\",\"#ab63fa\",\"#FFA15A\",\"#19d3f3\",\"#FF6692\",\"#B6E880\",\"#FF97FF\",\"#FECB52\"],\"font\":{\"color\":\"#2a3f5f\"},\"hovermode\":\"closest\",\"hoverlabel\":{\"align\":\"left\"},\"paper_bgcolor\":\"white\",\"plot_bgcolor\":\"#E5ECF6\",\"polar\":{\"bgcolor\":\"#E5ECF6\",\"angularaxis\":{\"gridcolor\":\"white\",\"linecolor\":\"white\",\"ticks\":\"\"},\"radialaxis\":{\"gridcolor\":\"white\",\"linecolor\":\"white\",\"ticks\":\"\"}},\"ternary\":{\"bgcolor\":\"#E5ECF6\",\"aaxis\":{\"gridcolor\":\"white\",\"linecolor\":\"white\",\"ticks\":\"\"},\"baxis\":{\"gridcolor\":\"white\",\"linecolor\":\"white\",\"ticks\":\"\"},\"caxis\":{\"gridcolor\":\"white\",\"linecolor\":\"white\",\"ticks\":\"\"}},\"coloraxis\":{\"colorbar\":{\"outlinewidth\":0,\"ticks\":\"\"}},\"colorscale\":{\"sequential\":[[0.0,\"#0d0887\"],[0.1111111111111111,\"#46039f\"],[0.2222222222222222,\"#7201a8\"],[0.3333333333333333,\"#9c179e\"],[0.4444444444444444,\"#bd3786\"],[0.5555555555555556,\"#d8576b\"],[0.6666666666666666,\"#ed7953\"],[0.7777777777777778,\"#fb9f3a\"],[0.8888888888888888,\"#fdca26\"],[1.0,\"#f0f921\"]],\"sequentialminus\":[[0.0,\"#0d0887\"],[0.1111111111111111,\"#46039f\"],[0.2222222222222222,\"#7201a8\"],[0.3333333333333333,\"#9c179e\"],[0.4444444444444444,\"#bd3786\"],[0.5555555555555556,\"#d8576b\"],[0.6666666666666666,\"#ed7953\"],[0.7777777777777778,\"#fb9f3a\"],[0.8888888888888888,\"#fdca26\"],[1.0,\"#f0f921\"]],\"diverging\":[[0,\"#8e0152\"],[0.1,\"#c51b7d\"],[0.2,\"#de77ae\"],[0.3,\"#f1b6da\"],[0.4,\"#fde0ef\"],[0.5,\"#f7f7f7\"],[0.6,\"#e6f5d0\"],[0.7,\"#b8e186\"],[0.8,\"#7fbc41\"],[0.9,\"#4d9221\"],[1,\"#276419\"]]},\"xaxis\":{\"gridcolor\":\"white\",\"linecolor\":\"white\",\"ticks\":\"\",\"title\":{\"standoff\":15},\"zerolinecolor\":\"white\",\"automargin\":true,\"zerolinewidth\":2},\"yaxis\":{\"gridcolor\":\"white\",\"linecolor\":\"white\",\"ticks\":\"\",\"title\":{\"standoff\":15},\"zerolinecolor\":\"white\",\"automargin\":true,\"zerolinewidth\":2},\"scene\":{\"xaxis\":{\"backgroundcolor\":\"#E5ECF6\",\"gridcolor\":\"white\",\"linecolor\":\"white\",\"showbackground\":true,\"ticks\":\"\",\"zerolinecolor\":\"white\",\"gridwidth\":2},\"yaxis\":{\"backgroundcolor\":\"#E5ECF6\",\"gridcolor\":\"white\",\"linecolor\":\"white\",\"showbackground\":true,\"ticks\":\"\",\"zerolinecolor\":\"white\",\"gridwidth\":2},\"zaxis\":{\"backgroundcolor\":\"#E5ECF6\",\"gridcolor\":\"white\",\"linecolor\":\"white\",\"showbackground\":true,\"ticks\":\"\",\"zerolinecolor\":\"white\",\"gridwidth\":2}},\"shapedefaults\":{\"line\":{\"color\":\"#2a3f5f\"}},\"annotationdefaults\":{\"arrowcolor\":\"#2a3f5f\",\"arrowhead\":0,\"arrowwidth\":1},\"geo\":{\"bgcolor\":\"white\",\"landcolor\":\"#E5ECF6\",\"subunitcolor\":\"white\",\"showland\":true,\"showlakes\":true,\"lakecolor\":\"white\"},\"title\":{\"x\":0.05},\"mapbox\":{\"style\":\"light\"}}}},                        {\"responsive\": true}                    ).then(function(){\n",
              "                            \n",
              "var gd = document.getElementById('f4a5f293-b9eb-4f4b-94ec-4555be7639a0');\n",
              "var x = new MutationObserver(function (mutations, observer) {{\n",
              "        var display = window.getComputedStyle(gd).display;\n",
              "        if (!display || display === 'none') {{\n",
              "            console.log([gd, 'removed!']);\n",
              "            Plotly.purge(gd);\n",
              "            observer.disconnect();\n",
              "        }}\n",
              "}});\n",
              "\n",
              "// Listen for the removal of the full notebook cells\n",
              "var notebookContainer = gd.closest('#notebook-container');\n",
              "if (notebookContainer) {{\n",
              "    x.observe(notebookContainer, {childList: true});\n",
              "}}\n",
              "\n",
              "// Listen for the clearing of the current output cell\n",
              "var outputEl = gd.closest('.output');\n",
              "if (outputEl) {{\n",
              "    x.observe(outputEl, {childList: true});\n",
              "}}\n",
              "\n",
              "                        })                };                            </script>        </div>\n",
              "</body>\n",
              "</html>"
            ]
          },
          "metadata": {}
        }
      ]
    },
    {
      "cell_type": "markdown",
      "source": [
        "Evaluate it on the testing data."
      ],
      "metadata": {
        "id": "tQNwZT_84vvH"
      }
    },
    {
      "cell_type": "code",
      "source": [
        "# Create a DataFrame to compare true vs predicted values for validation data\n",
        "pred_val_df = pd.DataFrame({\n",
        "    'true': y_validation,\n",
        "    'predicted': pred_val_df\n",
        "})\n",
        "\n",
        "# Display the comparison\n",
        "print(pred_val_df.head())"
      ],
      "metadata": {
        "colab": {
          "base_uri": "https://localhost:8080/"
        },
        "id": "BrlUyYt04x7m",
        "outputId": "1e9e275d-67b8-4094-f594-2042ad708eb6"
      },
      "execution_count": 55,
      "outputs": [
        {
          "output_type": "stream",
          "name": "stdout",
          "text": [
            "      true  predicted\n",
            "6332    65  68.418919\n",
            "823     64  67.856129\n",
            "6092    70  68.981710\n",
            "4245    66  67.293339\n",
            "1924    72  69.263105\n"
          ]
        }
      ]
    },
    {
      "cell_type": "code",
      "source": [
        "ls_rmse = np.sqrt(mean_squared_error(pred_val_df['true'], pred_val_df['predicted']))\n",
        "ls_mae = mean_absolute_error(pred_val_df['true'], pred_val_df['predicted'])\n",
        "ls_mad = np.median(np.abs(pred_val_df['true'] - pred_val_df['predicted']))\n",
        "ls_corr = np.corrcoef(pred_val_df['true'], pred_val_df['predicted'])[0, 1]\n",
        "ls_r2 = r2_score(pred_val_df['true'], pred_val_df['predicted'])\n",
        "\n",
        "print(f\"LS RMSE: {ls_rmse}\")\n",
        "print(f\"LS MAE: {ls_mae}\")\n",
        "print(f\"LS MAD: {ls_mad}\")\n",
        "print(f\"LS Correlation: {ls_corr}\")\n",
        "print(f\"LS R²: {ls_r2}\")"
      ],
      "metadata": {
        "colab": {
          "base_uri": "https://localhost:8080/"
        },
        "id": "qJR6Rt8H-QNy",
        "outputId": "ab82fe34-0eb1-49e1-cb88-a85bd15e7ba3"
      },
      "execution_count": 60,
      "outputs": [
        {
          "output_type": "stream",
          "name": "stdout",
          "text": [
            "LS RMSE: 3.57147251843052\n",
            "LS MAE: 2.5077887288670846\n",
            "LS MAD: 2.1677587569089383\n",
            "LS Correlation: 0.4509614218410936\n",
            "LS R²: 0.2015234091425332\n"
          ]
        }
      ]
    },
    {
      "cell_type": "markdown",
      "source": [
        "Our correlation matches when we ran it in the previous check in last week."
      ],
      "metadata": {
        "id": "wMKqWtiRAom1"
      }
    },
    {
      "cell_type": "markdown",
      "source": [
        "Since the $R^2$ is so low alongside not a strong correlation, it would suggest the model is underfitting. It could be that it is not a strong enough model to predict between hours studied and exam score."
      ],
      "metadata": {
        "id": "h9cr5Vh2A_3r"
      }
    },
    {
      "cell_type": "code",
      "source": [
        "%pip install mlxtend"
      ],
      "metadata": {
        "colab": {
          "base_uri": "https://localhost:8080/"
        },
        "id": "FuBVPogEByjV",
        "outputId": "875a3d02-0b60-4fa2-d85c-b74bbe6ea543"
      },
      "execution_count": 61,
      "outputs": [
        {
          "output_type": "stream",
          "name": "stdout",
          "text": [
            "Requirement already satisfied: mlxtend in /usr/local/lib/python3.10/dist-packages (0.23.1)\n",
            "Requirement already satisfied: scipy>=1.2.1 in /usr/local/lib/python3.10/dist-packages (from mlxtend) (1.13.1)\n",
            "Requirement already satisfied: numpy>=1.16.2 in /usr/local/lib/python3.10/dist-packages (from mlxtend) (1.26.4)\n",
            "Requirement already satisfied: pandas>=0.24.2 in /usr/local/lib/python3.10/dist-packages (from mlxtend) (2.1.4)\n",
            "Requirement already satisfied: scikit-learn>=1.0.2 in /usr/local/lib/python3.10/dist-packages (from mlxtend) (1.5.2)\n",
            "Requirement already satisfied: matplotlib>=3.0.0 in /usr/local/lib/python3.10/dist-packages (from mlxtend) (3.7.1)\n",
            "Requirement already satisfied: joblib>=0.13.2 in /usr/local/lib/python3.10/dist-packages (from mlxtend) (1.4.2)\n",
            "Requirement already satisfied: contourpy>=1.0.1 in /usr/local/lib/python3.10/dist-packages (from matplotlib>=3.0.0->mlxtend) (1.3.0)\n",
            "Requirement already satisfied: cycler>=0.10 in /usr/local/lib/python3.10/dist-packages (from matplotlib>=3.0.0->mlxtend) (0.12.1)\n",
            "Requirement already satisfied: fonttools>=4.22.0 in /usr/local/lib/python3.10/dist-packages (from matplotlib>=3.0.0->mlxtend) (4.53.1)\n",
            "Requirement already satisfied: kiwisolver>=1.0.1 in /usr/local/lib/python3.10/dist-packages (from matplotlib>=3.0.0->mlxtend) (1.4.7)\n",
            "Requirement already satisfied: packaging>=20.0 in /usr/local/lib/python3.10/dist-packages (from matplotlib>=3.0.0->mlxtend) (24.1)\n",
            "Requirement already satisfied: pillow>=6.2.0 in /usr/local/lib/python3.10/dist-packages (from matplotlib>=3.0.0->mlxtend) (10.4.0)\n",
            "Requirement already satisfied: pyparsing>=2.3.1 in /usr/local/lib/python3.10/dist-packages (from matplotlib>=3.0.0->mlxtend) (3.1.4)\n",
            "Requirement already satisfied: python-dateutil>=2.7 in /usr/local/lib/python3.10/dist-packages (from matplotlib>=3.0.0->mlxtend) (2.8.2)\n",
            "Requirement already satisfied: pytz>=2020.1 in /usr/local/lib/python3.10/dist-packages (from pandas>=0.24.2->mlxtend) (2024.2)\n",
            "Requirement already satisfied: tzdata>=2022.1 in /usr/local/lib/python3.10/dist-packages (from pandas>=0.24.2->mlxtend) (2024.1)\n",
            "Requirement already satisfied: threadpoolctl>=3.1.0 in /usr/local/lib/python3.10/dist-packages (from scikit-learn>=1.0.2->mlxtend) (3.5.0)\n",
            "Requirement already satisfied: six>=1.5 in /usr/local/lib/python3.10/dist-packages (from python-dateutil>=2.7->matplotlib>=3.0.0->mlxtend) (1.16.0)\n"
          ]
        }
      ]
    },
    {
      "cell_type": "code",
      "source": [],
      "metadata": {
        "id": "oJndMSYSBzhG"
      },
      "execution_count": null,
      "outputs": []
    }
  ]
}