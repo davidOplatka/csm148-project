{
 "cells": [
  {
   "cell_type": "code",
   "execution_count": 1,
   "id": "d1640481-cff8-42fa-88a6-7078c9a787e5",
   "metadata": {},
   "outputs": [],
   "source": [
    "import numpy as np\n",
    "import pandas as pd\n",
    "import matplotlib.pyplot as plt"
   ]
  },
  {
   "cell_type": "code",
   "execution_count": 2,
   "id": "0cf9608e-2050-456e-b063-b1183966b38e",
   "metadata": {},
   "outputs": [],
   "source": [
    "df = pd.read_csv('StudentPerformanceFactorsCleaned.csv')"
   ]
  },
  {
   "cell_type": "code",
   "execution_count": 3,
   "id": "4958645b-4928-453a-b337-73e31d397b9d",
   "metadata": {},
   "outputs": [
    {
     "data": {
      "text/html": [
       "<div>\n",
       "<style scoped>\n",
       "    .dataframe tbody tr th:only-of-type {\n",
       "        vertical-align: middle;\n",
       "    }\n",
       "\n",
       "    .dataframe tbody tr th {\n",
       "        vertical-align: top;\n",
       "    }\n",
       "\n",
       "    .dataframe thead th {\n",
       "        text-align: right;\n",
       "    }\n",
       "</style>\n",
       "<table border=\"1\" class=\"dataframe\">\n",
       "  <thead>\n",
       "    <tr style=\"text-align: right;\">\n",
       "      <th></th>\n",
       "      <th>Hours_Studied</th>\n",
       "      <th>Attendance</th>\n",
       "      <th>Parental_Involvement</th>\n",
       "      <th>Access_to_Resources</th>\n",
       "      <th>Extracurricular_Activities</th>\n",
       "      <th>Sleep_Hours</th>\n",
       "      <th>Previous_Scores</th>\n",
       "      <th>Motivation_Level</th>\n",
       "      <th>Internet_Access</th>\n",
       "      <th>Tutoring_Sessions</th>\n",
       "      <th>Family_Income</th>\n",
       "      <th>Teacher_Quality</th>\n",
       "      <th>School_Type</th>\n",
       "      <th>Peer_Influence</th>\n",
       "      <th>Physical_Activity</th>\n",
       "      <th>Learning_Disabilities</th>\n",
       "      <th>Parental_Education_Level</th>\n",
       "      <th>Gender</th>\n",
       "      <th>Exam_Score</th>\n",
       "    </tr>\n",
       "  </thead>\n",
       "  <tbody>\n",
       "    <tr>\n",
       "      <th>0</th>\n",
       "      <td>23</td>\n",
       "      <td>84</td>\n",
       "      <td>Low</td>\n",
       "      <td>High</td>\n",
       "      <td>No</td>\n",
       "      <td>7</td>\n",
       "      <td>73</td>\n",
       "      <td>Low</td>\n",
       "      <td>Yes</td>\n",
       "      <td>0</td>\n",
       "      <td>Low</td>\n",
       "      <td>Medium</td>\n",
       "      <td>Public</td>\n",
       "      <td>Positive</td>\n",
       "      <td>3</td>\n",
       "      <td>No</td>\n",
       "      <td>High School</td>\n",
       "      <td>Male</td>\n",
       "      <td>67</td>\n",
       "    </tr>\n",
       "    <tr>\n",
       "      <th>1</th>\n",
       "      <td>19</td>\n",
       "      <td>64</td>\n",
       "      <td>Low</td>\n",
       "      <td>Medium</td>\n",
       "      <td>No</td>\n",
       "      <td>8</td>\n",
       "      <td>59</td>\n",
       "      <td>Low</td>\n",
       "      <td>Yes</td>\n",
       "      <td>2</td>\n",
       "      <td>Medium</td>\n",
       "      <td>Medium</td>\n",
       "      <td>Public</td>\n",
       "      <td>Negative</td>\n",
       "      <td>4</td>\n",
       "      <td>No</td>\n",
       "      <td>College</td>\n",
       "      <td>Female</td>\n",
       "      <td>61</td>\n",
       "    </tr>\n",
       "    <tr>\n",
       "      <th>2</th>\n",
       "      <td>24</td>\n",
       "      <td>98</td>\n",
       "      <td>Medium</td>\n",
       "      <td>Medium</td>\n",
       "      <td>Yes</td>\n",
       "      <td>7</td>\n",
       "      <td>91</td>\n",
       "      <td>Medium</td>\n",
       "      <td>Yes</td>\n",
       "      <td>2</td>\n",
       "      <td>Medium</td>\n",
       "      <td>Medium</td>\n",
       "      <td>Public</td>\n",
       "      <td>Neutral</td>\n",
       "      <td>4</td>\n",
       "      <td>No</td>\n",
       "      <td>Postgraduate</td>\n",
       "      <td>Male</td>\n",
       "      <td>74</td>\n",
       "    </tr>\n",
       "    <tr>\n",
       "      <th>3</th>\n",
       "      <td>29</td>\n",
       "      <td>89</td>\n",
       "      <td>Low</td>\n",
       "      <td>Medium</td>\n",
       "      <td>Yes</td>\n",
       "      <td>8</td>\n",
       "      <td>98</td>\n",
       "      <td>Medium</td>\n",
       "      <td>Yes</td>\n",
       "      <td>1</td>\n",
       "      <td>Medium</td>\n",
       "      <td>Medium</td>\n",
       "      <td>Public</td>\n",
       "      <td>Negative</td>\n",
       "      <td>4</td>\n",
       "      <td>No</td>\n",
       "      <td>High School</td>\n",
       "      <td>Male</td>\n",
       "      <td>71</td>\n",
       "    </tr>\n",
       "    <tr>\n",
       "      <th>4</th>\n",
       "      <td>19</td>\n",
       "      <td>92</td>\n",
       "      <td>Medium</td>\n",
       "      <td>Medium</td>\n",
       "      <td>Yes</td>\n",
       "      <td>6</td>\n",
       "      <td>65</td>\n",
       "      <td>Medium</td>\n",
       "      <td>Yes</td>\n",
       "      <td>3</td>\n",
       "      <td>Medium</td>\n",
       "      <td>High</td>\n",
       "      <td>Public</td>\n",
       "      <td>Neutral</td>\n",
       "      <td>4</td>\n",
       "      <td>No</td>\n",
       "      <td>College</td>\n",
       "      <td>Female</td>\n",
       "      <td>70</td>\n",
       "    </tr>\n",
       "  </tbody>\n",
       "</table>\n",
       "</div>"
      ],
      "text/plain": [
       "   Hours_Studied  Attendance Parental_Involvement Access_to_Resources  \\\n",
       "0             23          84                  Low                High   \n",
       "1             19          64                  Low              Medium   \n",
       "2             24          98               Medium              Medium   \n",
       "3             29          89                  Low              Medium   \n",
       "4             19          92               Medium              Medium   \n",
       "\n",
       "  Extracurricular_Activities  Sleep_Hours  Previous_Scores Motivation_Level  \\\n",
       "0                         No            7               73              Low   \n",
       "1                         No            8               59              Low   \n",
       "2                        Yes            7               91           Medium   \n",
       "3                        Yes            8               98           Medium   \n",
       "4                        Yes            6               65           Medium   \n",
       "\n",
       "  Internet_Access  Tutoring_Sessions Family_Income Teacher_Quality  \\\n",
       "0             Yes                  0           Low          Medium   \n",
       "1             Yes                  2        Medium          Medium   \n",
       "2             Yes                  2        Medium          Medium   \n",
       "3             Yes                  1        Medium          Medium   \n",
       "4             Yes                  3        Medium            High   \n",
       "\n",
       "  School_Type Peer_Influence  Physical_Activity Learning_Disabilities  \\\n",
       "0      Public       Positive                  3                    No   \n",
       "1      Public       Negative                  4                    No   \n",
       "2      Public        Neutral                  4                    No   \n",
       "3      Public       Negative                  4                    No   \n",
       "4      Public        Neutral                  4                    No   \n",
       "\n",
       "  Parental_Education_Level  Gender  Exam_Score  \n",
       "0              High School    Male          67  \n",
       "1                  College  Female          61  \n",
       "2             Postgraduate    Male          74  \n",
       "3              High School    Male          71  \n",
       "4                  College  Female          70  "
      ]
     },
     "execution_count": 3,
     "metadata": {},
     "output_type": "execute_result"
    }
   ],
   "source": [
    "df.head()"
   ]
  },
  {
   "cell_type": "markdown",
   "id": "f0197ae2-d643-4c99-b158-f74027519a61",
   "metadata": {},
   "source": [
    "## PCA\n",
    "\n",
    "Let's apply principal component analysis (PCA) to the numeric features in our dataset using singular value decomposition (SVD)."
   ]
  },
  {
   "cell_type": "code",
   "execution_count": 4,
   "id": "f2b504c7-ae88-4c36-9994-b90a493edd03",
   "metadata": {},
   "outputs": [],
   "source": [
    "df_numeric_features = df[['Hours_Studied', 'Attendance', 'Sleep_Hours', 'Previous_Scores', 'Tutoring_Sessions', 'Physical_Activity']]"
   ]
  },
  {
   "cell_type": "code",
   "execution_count": 5,
   "id": "cedca23f-7ea7-4077-afbc-41a47a732f33",
   "metadata": {},
   "outputs": [],
   "source": [
    "svd_U, svd_D, svd_V = np.linalg.svd(df_numeric_features)"
   ]
  },
  {
   "cell_type": "code",
   "execution_count": 6,
   "id": "a5146696-ff95-4845-8369-243a011824a2",
   "metadata": {},
   "outputs": [
    {
     "data": {
      "text/plain": [
       "array([9029.89152592, 1064.09250183,  503.90521423,  134.23917965,\n",
       "         99.77387677,   85.16882642])"
      ]
     },
     "execution_count": 6,
     "metadata": {},
     "output_type": "execute_result"
    }
   ],
   "source": [
    "# Singular values\n",
    "svd_D"
   ]
  },
  {
   "cell_type": "code",
   "execution_count": 7,
   "id": "76f20b17-5298-4e0b-b787-bc25f9cec0e2",
   "metadata": {},
   "outputs": [
    {
     "data": {
      "text/plain": [
       "array([[-0.17696621, -0.71396632, -0.06208453, -0.67395773, -0.01320245,\n",
       "        -0.02621527],\n",
       "       [ 0.03549344,  0.68044287,  0.01434909, -0.73176747,  0.00477989,\n",
       "         0.00503364],\n",
       "       [-0.9819664 ,  0.15629393, -0.04070408,  0.0967583 , -0.00513617,\n",
       "        -0.01639583],\n",
       "       [ 0.05479388,  0.05128464, -0.98011704,  0.0294575 , -0.0893996 ,\n",
       "        -0.15772786],\n",
       "       [-0.00442629, -0.00893276, -0.11119152, -0.00338825,  0.98556184,\n",
       "         0.12725345],\n",
       "       [-0.01196657, -0.01057843, -0.14591035, -0.00747962, -0.14301063,\n",
       "         0.97874771]])"
      ]
     },
     "execution_count": 7,
     "metadata": {},
     "output_type": "execute_result"
    }
   ],
   "source": [
    "# Right singular vectors\n",
    "svd_V"
   ]
  },
  {
   "cell_type": "code",
   "execution_count": 8,
   "id": "b2e72e08-4487-4b5b-b69d-0e799923484d",
   "metadata": {},
   "outputs": [
    {
     "data": {
      "text/html": [
       "<div>\n",
       "<style scoped>\n",
       "    .dataframe tbody tr th:only-of-type {\n",
       "        vertical-align: middle;\n",
       "    }\n",
       "\n",
       "    .dataframe tbody tr th {\n",
       "        vertical-align: top;\n",
       "    }\n",
       "\n",
       "    .dataframe thead th {\n",
       "        text-align: right;\n",
       "    }\n",
       "</style>\n",
       "<table border=\"1\" class=\"dataframe\">\n",
       "  <thead>\n",
       "    <tr style=\"text-align: right;\">\n",
       "      <th></th>\n",
       "      <th>Principal Component 1</th>\n",
       "      <th>Principal Component 2</th>\n",
       "      <th>Principal Component 3</th>\n",
       "      <th>Principal Component 4</th>\n",
       "      <th>Principal Component 5</th>\n",
       "      <th>Principal Component 6</th>\n",
       "    </tr>\n",
       "  </thead>\n",
       "  <tbody>\n",
       "    <tr>\n",
       "      <th>0</th>\n",
       "      <td>-113.755545</td>\n",
       "      <td>4.670069</td>\n",
       "      <td>-2.727298</td>\n",
       "      <td>0.384564</td>\n",
       "      <td>-1.496080</td>\n",
       "      <td>0.205039</td>\n",
       "    </tr>\n",
       "    <tr>\n",
       "      <th>1</th>\n",
       "      <td>-89.447651</td>\n",
       "      <td>1.192925</td>\n",
       "      <td>-3.347299</td>\n",
       "      <td>-2.589354</td>\n",
       "      <td>0.734902</td>\n",
       "      <td>1.116005</td>\n",
       "    </tr>\n",
       "    <tr>\n",
       "      <th>2</th>\n",
       "      <td>-136.111899</td>\n",
       "      <td>1.074541</td>\n",
       "      <td>0.193832</td>\n",
       "      <td>1.351050</td>\n",
       "      <td>0.411824</td>\n",
       "      <td>0.603068</td>\n",
       "    </tr>\n",
       "    <tr>\n",
       "      <th>3</th>\n",
       "      <td>-135.337620</td>\n",
       "      <td>-9.984780</td>\n",
       "      <td>-5.480905</td>\n",
       "      <td>0.478943</td>\n",
       "      <td>-0.650384</td>\n",
       "      <td>0.583184</td>\n",
       "    </tr>\n",
       "    <tr>\n",
       "      <th>4</th>\n",
       "      <td>-113.371487</td>\n",
       "      <td>15.830802</td>\n",
       "      <td>1.685753</td>\n",
       "      <td>0.894195</td>\n",
       "      <td>1.672400</td>\n",
       "      <td>0.923741</td>\n",
       "    </tr>\n",
       "  </tbody>\n",
       "</table>\n",
       "</div>"
      ],
      "text/plain": [
       "   Principal Component 1  Principal Component 2  Principal Component 3  \\\n",
       "0            -113.755545               4.670069              -2.727298   \n",
       "1             -89.447651               1.192925              -3.347299   \n",
       "2            -136.111899               1.074541               0.193832   \n",
       "3            -135.337620              -9.984780              -5.480905   \n",
       "4            -113.371487              15.830802               1.685753   \n",
       "\n",
       "   Principal Component 4  Principal Component 5  Principal Component 6  \n",
       "0               0.384564              -1.496080               0.205039  \n",
       "1              -2.589354               0.734902               1.116005  \n",
       "2               1.351050               0.411824               0.603068  \n",
       "3               0.478943              -0.650384               0.583184  \n",
       "4               0.894195               1.672400               0.923741  "
      ]
     },
     "execution_count": 8,
     "metadata": {},
     "output_type": "execute_result"
    }
   ],
   "source": [
    "pca = df_numeric_features@svd_V.T\n",
    "pca.columns = [\"Principal Component \" + str(i+1) for i in range(pca.shape[1])]\n",
    "pca.head()"
   ]
  },
  {
   "cell_type": "markdown",
   "id": "f1605b68-59ab-4a21-a8bf-e2a3f574bb34",
   "metadata": {},
   "source": [
    "Now let's try to determine how many principal components we should use to best describe these numeric features in the simplest representation."
   ]
  },
  {
   "cell_type": "code",
   "execution_count": 9,
   "id": "921c746b-efed-401d-98ee-884a502cc8a8",
   "metadata": {},
   "outputs": [],
   "source": [
    "pc_var_explained = np.square(svd_D) / np.square(svd_D).sum()"
   ]
  },
  {
   "cell_type": "code",
   "execution_count": 10,
   "id": "5a097a82-4b0b-4467-b2d7-385d187173e6",
   "metadata": {},
   "outputs": [
    {
     "data": {
      "image/png": "[encoded data removed]",
      "text/plain": [
       "<Figure size 640x480 with 1 Axes>"
      ]
     },
     "metadata": {},
     "output_type": "display_data"
    }
   ],
   "source": [
    "plt.plot(range(1, len(pc_var_explained) + 1),\n",
    "         pc_var_explained * 100)\n",
    "plt.xlabel(\"Principal Component\")\n",
    "plt.ylabel(\"Percentage of Variability Explained\")\n",
    "plt.title(\"Percentage of Variability Explained by Principal Components\")\n",
    "plt.show()"
   ]
  },
  {
   "cell_type": "code",
   "execution_count": 11,
   "id": "8aeb9612-a64f-4c51-817d-22639487b8ed",
   "metadata": {},
   "outputs": [
    {
     "data": {
      "text/html": [
       "<div>\n",
       "<style scoped>\n",
       "    .dataframe tbody tr th:only-of-type {\n",
       "        vertical-align: middle;\n",
       "    }\n",
       "\n",
       "    .dataframe tbody tr th {\n",
       "        vertical-align: top;\n",
       "    }\n",
       "\n",
       "    .dataframe thead th {\n",
       "        text-align: right;\n",
       "    }\n",
       "</style>\n",
       "<table border=\"1\" class=\"dataframe\">\n",
       "  <thead>\n",
       "    <tr style=\"text-align: right;\">\n",
       "      <th></th>\n",
       "      <th>Principal Component</th>\n",
       "      <th>Variability Explained</th>\n",
       "      <th>Cumulative Variability Explained</th>\n",
       "    </tr>\n",
       "  </thead>\n",
       "  <tbody>\n",
       "    <tr>\n",
       "      <th>0</th>\n",
       "      <td>1</td>\n",
       "      <td>0.982866</td>\n",
       "      <td>0.982866</td>\n",
       "    </tr>\n",
       "    <tr>\n",
       "      <th>1</th>\n",
       "      <td>2</td>\n",
       "      <td>0.013649</td>\n",
       "      <td>0.996515</td>\n",
       "    </tr>\n",
       "    <tr>\n",
       "      <th>2</th>\n",
       "      <td>3</td>\n",
       "      <td>0.003061</td>\n",
       "      <td>0.999575</td>\n",
       "    </tr>\n",
       "    <tr>\n",
       "      <th>3</th>\n",
       "      <td>4</td>\n",
       "      <td>0.000217</td>\n",
       "      <td>0.999793</td>\n",
       "    </tr>\n",
       "    <tr>\n",
       "      <th>4</th>\n",
       "      <td>5</td>\n",
       "      <td>0.000120</td>\n",
       "      <td>0.999913</td>\n",
       "    </tr>\n",
       "    <tr>\n",
       "      <th>5</th>\n",
       "      <td>6</td>\n",
       "      <td>0.000087</td>\n",
       "      <td>1.000000</td>\n",
       "    </tr>\n",
       "  </tbody>\n",
       "</table>\n",
       "</div>"
      ],
      "text/plain": [
       "   Principal Component  Variability Explained  \\\n",
       "0                    1               0.982866   \n",
       "1                    2               0.013649   \n",
       "2                    3               0.003061   \n",
       "3                    4               0.000217   \n",
       "4                    5               0.000120   \n",
       "5                    6               0.000087   \n",
       "\n",
       "   Cumulative Variability Explained  \n",
       "0                          0.982866  \n",
       "1                          0.996515  \n",
       "2                          0.999575  \n",
       "3                          0.999793  \n",
       "4                          0.999913  \n",
       "5                          1.000000  "
      ]
     },
     "execution_count": 11,
     "metadata": {},
     "output_type": "execute_result"
    }
   ],
   "source": [
    "pd.DataFrame({\n",
    "    \"Principal Component\": range(1, len(pc_var_explained) + 1),\n",
    "    \"Variability Explained\": pc_var_explained,\n",
    "    \"Cumulative Variability Explained\": pc_var_explained.cumsum()\n",
    "})"
   ]
  },
  {
   "cell_type": "markdown",
   "id": "2238cddf-ddd4-4980-8c13-2403b3652da9",
   "metadata": {},
   "source": [
    "As shown in both the scree plot and the table of variability explained, the first principal component captures nearly all (98.29%) of the variability in these features, so we can just use the first principal component (only one variable in a model) to describe these 6 numeric features. That's a pretty good reduction!!"
   ]
  },
  {
   "cell_type": "code",
   "execution_count": 12,
   "id": "65141e3e-4fb0-4268-9625-4d4d23a42564",
   "metadata": {},
   "outputs": [
    {
     "data": {
      "text/html": [
       "<div>\n",
       "<style scoped>\n",
       "    .dataframe tbody tr th:only-of-type {\n",
       "        vertical-align: middle;\n",
       "    }\n",
       "\n",
       "    .dataframe tbody tr th {\n",
       "        vertical-align: top;\n",
       "    }\n",
       "\n",
       "    .dataframe thead th {\n",
       "        text-align: right;\n",
       "    }\n",
       "</style>\n",
       "<table border=\"1\" class=\"dataframe\">\n",
       "  <thead>\n",
       "    <tr style=\"text-align: right;\">\n",
       "      <th></th>\n",
       "      <th>Hours_Studied</th>\n",
       "      <th>Attendance</th>\n",
       "      <th>Sleep_Hours</th>\n",
       "      <th>Previous_Scores</th>\n",
       "      <th>Tutoring_Sessions</th>\n",
       "      <th>Physical_Activity</th>\n",
       "    </tr>\n",
       "  </thead>\n",
       "  <tbody>\n",
       "    <tr>\n",
       "      <th>0</th>\n",
       "      <td>23</td>\n",
       "      <td>84</td>\n",
       "      <td>7</td>\n",
       "      <td>73</td>\n",
       "      <td>0</td>\n",
       "      <td>3</td>\n",
       "    </tr>\n",
       "    <tr>\n",
       "      <th>1</th>\n",
       "      <td>19</td>\n",
       "      <td>64</td>\n",
       "      <td>8</td>\n",
       "      <td>59</td>\n",
       "      <td>2</td>\n",
       "      <td>4</td>\n",
       "    </tr>\n",
       "    <tr>\n",
       "      <th>2</th>\n",
       "      <td>24</td>\n",
       "      <td>98</td>\n",
       "      <td>7</td>\n",
       "      <td>91</td>\n",
       "      <td>2</td>\n",
       "      <td>4</td>\n",
       "    </tr>\n",
       "    <tr>\n",
       "      <th>3</th>\n",
       "      <td>29</td>\n",
       "      <td>89</td>\n",
       "      <td>8</td>\n",
       "      <td>98</td>\n",
       "      <td>1</td>\n",
       "      <td>4</td>\n",
       "    </tr>\n",
       "    <tr>\n",
       "      <th>4</th>\n",
       "      <td>19</td>\n",
       "      <td>92</td>\n",
       "      <td>6</td>\n",
       "      <td>65</td>\n",
       "      <td>3</td>\n",
       "      <td>4</td>\n",
       "    </tr>\n",
       "  </tbody>\n",
       "</table>\n",
       "</div>"
      ],
      "text/plain": [
       "   Hours_Studied  Attendance  Sleep_Hours  Previous_Scores  Tutoring_Sessions  \\\n",
       "0             23          84            7               73                  0   \n",
       "1             19          64            8               59                  2   \n",
       "2             24          98            7               91                  2   \n",
       "3             29          89            8               98                  1   \n",
       "4             19          92            6               65                  3   \n",
       "\n",
       "   Physical_Activity  \n",
       "0                  3  \n",
       "1                  4  \n",
       "2                  4  \n",
       "3                  4  \n",
       "4                  4  "
      ]
     },
     "execution_count": 12,
     "metadata": {},
     "output_type": "execute_result"
    }
   ],
   "source": [
    "df_numeric_features.head()"
   ]
  },
  {
   "cell_type": "code",
   "execution_count": 13,
   "id": "8a7c2209-e5ae-4037-83d2-653cac039fe8",
   "metadata": {},
   "outputs": [
    {
     "data": {
      "image/png": "[encoded data removed]",
      "text/plain": [
       "<Figure size 640x480 with 1 Axes>"
      ]
     },
     "metadata": {},
     "output_type": "display_data"
    }
   ],
   "source": [
    "plt.scatter(pca['Principal Component 1'],\n",
    "            df['Exam_Score']\n",
    "           )\n",
    "plt.xlabel('First Principal Component')\n",
    "plt.ylabel('Exam Score')\n",
    "plt.title('Exam Score vs. First Principal Component')\n",
    "plt.show()"
   ]
  },
  {
   "cell_type": "markdown",
   "id": "7bebd17d-7eaa-42ab-b938-6316bb8ec2fb",
   "metadata": {},
   "source": [
    "From this plot, we can see a slightly negative linear relationship between students' exam score and the first principal component of the 6 numeric features."
   ]
  }
 ],
 "metadata": {
  "kernelspec": {
   "display_name": "Python 3 (ipykernel)",
   "language": "python",
   "name": "python3"
  },
  "language_info": {
   "codemirror_mode": {
    "name": "ipython",
    "version": 3
   },
   "file_extension": ".py",
   "mimetype": "text/x-python",
   "name": "python",
   "nbconvert_exporter": "python",
   "pygments_lexer": "ipython3",
   "version": "3.9.18"
  }
 },
 "nbformat": 4,
 "nbformat_minor": 5
}
