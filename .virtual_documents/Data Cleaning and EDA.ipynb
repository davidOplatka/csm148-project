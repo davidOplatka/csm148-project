


import numpy as np
import pandas as pd
import matplotlib.pyplot as plt
import seaborn as sns





df = pd.read_csv("StudentPerformanceFactors.csv")


df.head()


df.info()


df.describe()





sns.boxplot(data=df, x='Distance_from_Home', y='Exam_Score')


df.groupby('Distance_from_Home')['Exam_Score'].mean()





df.drop(columns = 'Distance_from_Home', inplace=True)


# Number of rows with missing values remaining
df.loc[df.isna().any(axis=1), ['Teacher_Quality', 'Parental_Education_Level']].shape[0]


# Percent of rows with missing values
164*100/6607


# Remaining number of rows if we dropped all missing values
6607-164


df.dropna(inplace=True)


df.describe()





df.loc[df['Exam_Score'] > 100, 'Exam_Score'] = 100


df.to_csv('StudentPerformanceFactorsCleaned.csv', index=False)





plt.hist(df['Exam_Score'], bins=20)
plt.show()





df.corr()


sns.heatmap(df.corr())





sns.pairplot(df, hue = 'Access_to_Resources')
plt.show()





sns.boxplot(data=df, x='Access_to_Resources', y='Exam_Score')





below_80 = df.loc[df['Exam_Score'] < 80]


plt.scatter(below_80['Hours_Studied'], below_80['Exam_Score'])
plt.xlabel('Hours Studied')
plt.ylabel('Exam Score')
plt.title('Exam Score vs. Hours Studied')
plt.show()


plt.scatter(below_80['Attendance'], below_80['Exam_Score'])
plt.xlabel('Attendance')
plt.ylabel('Exam Score')
plt.title('Exam Score vs. Attendance')
plt.show()


below_80.corr()



