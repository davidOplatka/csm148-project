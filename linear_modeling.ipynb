{
 "cells": [
  {
   "cell_type": "code",
   "execution_count": 1,
   "id": "8cb017c0-da4b-440e-aae9-45fc85dd6de5",
   "metadata": {},
   "outputs": [],
   "source": [
    "import numpy as np\n",
    "import pandas as pd\n",
    "from sklearn.model_selection import train_test_split\n",
    "from sklearn.metrics import mean_squared_error, r2_score\n",
    "import statsmodels.formula.api as smf"
   ]
  },
  {
   "cell_type": "markdown",
   "id": "51fa7e99-e4d3-4c46-83e1-ea540c26537e",
   "metadata": {},
   "source": [
    "## Ordinary Least Squares (All Variables)"
   ]
  },
  {
   "cell_type": "code",
   "execution_count": 2,
   "id": "6f1a8db4-11e8-410f-96f5-bf8e923d8365",
   "metadata": {},
   "outputs": [
    {
     "data": {
      "text/html": [
       "<div>\n",
       "<style scoped>\n",
       "    .dataframe tbody tr th:only-of-type {\n",
       "        vertical-align: middle;\n",
       "    }\n",
       "\n",
       "    .dataframe tbody tr th {\n",
       "        vertical-align: top;\n",
       "    }\n",
       "\n",
       "    .dataframe thead th {\n",
       "        text-align: right;\n",
       "    }\n",
       "</style>\n",
       "<table border=\"1\" class=\"dataframe\">\n",
       "  <thead>\n",
       "    <tr style=\"text-align: right;\">\n",
       "      <th></th>\n",
       "      <th>Hours_Studied</th>\n",
       "      <th>Attendance</th>\n",
       "      <th>Parental_Involvement</th>\n",
       "      <th>Access_to_Resources</th>\n",
       "      <th>Extracurricular_Activities</th>\n",
       "      <th>Sleep_Hours</th>\n",
       "      <th>Previous_Scores</th>\n",
       "      <th>Motivation_Level</th>\n",
       "      <th>Internet_Access</th>\n",
       "      <th>Tutoring_Sessions</th>\n",
       "      <th>Family_Income</th>\n",
       "      <th>Teacher_Quality</th>\n",
       "      <th>School_Type</th>\n",
       "      <th>Peer_Influence</th>\n",
       "      <th>Physical_Activity</th>\n",
       "      <th>Learning_Disabilities</th>\n",
       "      <th>Parental_Education_Level</th>\n",
       "      <th>Gender</th>\n",
       "      <th>Exam_Score</th>\n",
       "    </tr>\n",
       "  </thead>\n",
       "  <tbody>\n",
       "    <tr>\n",
       "      <th>0</th>\n",
       "      <td>23</td>\n",
       "      <td>84</td>\n",
       "      <td>Low</td>\n",
       "      <td>High</td>\n",
       "      <td>No</td>\n",
       "      <td>7</td>\n",
       "      <td>73</td>\n",
       "      <td>Low</td>\n",
       "      <td>Yes</td>\n",
       "      <td>0</td>\n",
       "      <td>Low</td>\n",
       "      <td>Medium</td>\n",
       "      <td>Public</td>\n",
       "      <td>Positive</td>\n",
       "      <td>3</td>\n",
       "      <td>No</td>\n",
       "      <td>High School</td>\n",
       "      <td>Male</td>\n",
       "      <td>67</td>\n",
       "    </tr>\n",
       "    <tr>\n",
       "      <th>1</th>\n",
       "      <td>19</td>\n",
       "      <td>64</td>\n",
       "      <td>Low</td>\n",
       "      <td>Medium</td>\n",
       "      <td>No</td>\n",
       "      <td>8</td>\n",
       "      <td>59</td>\n",
       "      <td>Low</td>\n",
       "      <td>Yes</td>\n",
       "      <td>2</td>\n",
       "      <td>Medium</td>\n",
       "      <td>Medium</td>\n",
       "      <td>Public</td>\n",
       "      <td>Negative</td>\n",
       "      <td>4</td>\n",
       "      <td>No</td>\n",
       "      <td>College</td>\n",
       "      <td>Female</td>\n",
       "      <td>61</td>\n",
       "    </tr>\n",
       "    <tr>\n",
       "      <th>2</th>\n",
       "      <td>24</td>\n",
       "      <td>98</td>\n",
       "      <td>Medium</td>\n",
       "      <td>Medium</td>\n",
       "      <td>Yes</td>\n",
       "      <td>7</td>\n",
       "      <td>91</td>\n",
       "      <td>Medium</td>\n",
       "      <td>Yes</td>\n",
       "      <td>2</td>\n",
       "      <td>Medium</td>\n",
       "      <td>Medium</td>\n",
       "      <td>Public</td>\n",
       "      <td>Neutral</td>\n",
       "      <td>4</td>\n",
       "      <td>No</td>\n",
       "      <td>Postgraduate</td>\n",
       "      <td>Male</td>\n",
       "      <td>74</td>\n",
       "    </tr>\n",
       "    <tr>\n",
       "      <th>3</th>\n",
       "      <td>29</td>\n",
       "      <td>89</td>\n",
       "      <td>Low</td>\n",
       "      <td>Medium</td>\n",
       "      <td>Yes</td>\n",
       "      <td>8</td>\n",
       "      <td>98</td>\n",
       "      <td>Medium</td>\n",
       "      <td>Yes</td>\n",
       "      <td>1</td>\n",
       "      <td>Medium</td>\n",
       "      <td>Medium</td>\n",
       "      <td>Public</td>\n",
       "      <td>Negative</td>\n",
       "      <td>4</td>\n",
       "      <td>No</td>\n",
       "      <td>High School</td>\n",
       "      <td>Male</td>\n",
       "      <td>71</td>\n",
       "    </tr>\n",
       "    <tr>\n",
       "      <th>4</th>\n",
       "      <td>19</td>\n",
       "      <td>92</td>\n",
       "      <td>Medium</td>\n",
       "      <td>Medium</td>\n",
       "      <td>Yes</td>\n",
       "      <td>6</td>\n",
       "      <td>65</td>\n",
       "      <td>Medium</td>\n",
       "      <td>Yes</td>\n",
       "      <td>3</td>\n",
       "      <td>Medium</td>\n",
       "      <td>High</td>\n",
       "      <td>Public</td>\n",
       "      <td>Neutral</td>\n",
       "      <td>4</td>\n",
       "      <td>No</td>\n",
       "      <td>College</td>\n",
       "      <td>Female</td>\n",
       "      <td>70</td>\n",
       "    </tr>\n",
       "  </tbody>\n",
       "</table>\n",
       "</div>"
      ],
      "text/plain": [
       "   Hours_Studied  Attendance Parental_Involvement Access_to_Resources  \\\n",
       "0             23          84                  Low                High   \n",
       "1             19          64                  Low              Medium   \n",
       "2             24          98               Medium              Medium   \n",
       "3             29          89                  Low              Medium   \n",
       "4             19          92               Medium              Medium   \n",
       "\n",
       "  Extracurricular_Activities  Sleep_Hours  Previous_Scores Motivation_Level  \\\n",
       "0                         No            7               73              Low   \n",
       "1                         No            8               59              Low   \n",
       "2                        Yes            7               91           Medium   \n",
       "3                        Yes            8               98           Medium   \n",
       "4                        Yes            6               65           Medium   \n",
       "\n",
       "  Internet_Access  Tutoring_Sessions Family_Income Teacher_Quality  \\\n",
       "0             Yes                  0           Low          Medium   \n",
       "1             Yes                  2        Medium          Medium   \n",
       "2             Yes                  2        Medium          Medium   \n",
       "3             Yes                  1        Medium          Medium   \n",
       "4             Yes                  3        Medium            High   \n",
       "\n",
       "  School_Type Peer_Influence  Physical_Activity Learning_Disabilities  \\\n",
       "0      Public       Positive                  3                    No   \n",
       "1      Public       Negative                  4                    No   \n",
       "2      Public        Neutral                  4                    No   \n",
       "3      Public       Negative                  4                    No   \n",
       "4      Public        Neutral                  4                    No   \n",
       "\n",
       "  Parental_Education_Level  Gender  Exam_Score  \n",
       "0              High School    Male          67  \n",
       "1                  College  Female          61  \n",
       "2             Postgraduate    Male          74  \n",
       "3              High School    Male          71  \n",
       "4                  College  Female          70  "
      ]
     },
     "execution_count": 2,
     "metadata": {},
     "output_type": "execute_result"
    }
   ],
   "source": [
    "df = pd.read_csv('StudentPerformanceFactorsCleaned.csv')\n",
    "df.head()"
   ]
  },
  {
   "cell_type": "code",
   "execution_count": 3,
   "id": "3c5a31cb-05c2-4bde-9cc0-d7507ac4dd74",
   "metadata": {},
   "outputs": [],
   "source": [
    "X_train, X_test, y_train, y_test = train_test_split(df.drop(columns='Exam_Score'), df['Exam_Score'], test_size=0.2, random_state=42)"
   ]
  },
  {
   "cell_type": "code",
   "execution_count": 4,
   "id": "713b31f4-fa49-401b-99d2-4b80e1421e7a",
   "metadata": {},
   "outputs": [],
   "source": [
    "train_data = df.loc[X_train.index]"
   ]
  },
  {
   "cell_type": "code",
   "execution_count": 5,
   "id": "d7ef5ba2-e64f-48db-8c51-7ba98831c1d4",
   "metadata": {},
   "outputs": [],
   "source": [
    "for col in ['Parental_Involvement', 'Access_to_Resources', 'Motivation_Level', 'Family_Income', 'Teacher_Quality']:\n",
    "        df[col] = pd.Categorical(df[col], categories=[\"Low\", \"Medium\", \"High\"], ordered = True)"
   ]
  },
  {
   "cell_type": "code",
   "execution_count": 6,
   "id": "4c07d3cb-5fe2-4226-8af0-f31d45ed680a",
   "metadata": {},
   "outputs": [],
   "source": [
    "df['Peer_Influence'] = pd.Categorical(df['Peer_Influence'], categories=[\"Negative\", \"Neutral\", \"Positive\"], ordered = True)    \n",
    "df['Parental_Education_Level'] = pd.Categorical(df['Parental_Education_Level'], categories=[\"High School\", \"College\", \"Postgraduate\"], ordered = True)"
   ]
  },
  {
   "cell_type": "code",
   "execution_count": 7,
   "id": "8a518320-d27e-4943-b4da-6e55622d739b",
   "metadata": {},
   "outputs": [],
   "source": [
    "lm = smf.ols(formula='Exam_Score ~ Hours_Studied + Attendance + C(Parental_Involvement) + C(Access_to_Resources) + C(Extracurricular_Activities) + Sleep_Hours + Previous_Scores + C(Motivation_Level) + C(Internet_Access) + Tutoring_Sessions + C(Family_Income) + C(Teacher_Quality) + C(School_Type) + C(Peer_Influence) + Physical_Activity + C(Learning_Disabilities) + C(Parental_Education_Level) + C(Gender)', data=train_data)\n",
    "lm = lm.fit()"
   ]
  },
  {
   "cell_type": "code",
   "execution_count": 8,
   "id": "33c63391-b8c4-4b6c-aa7d-dad64cc53028",
   "metadata": {},
   "outputs": [
    {
     "data": {
      "text/html": [
       "<table class=\"simpletable\">\n",
       "<caption>OLS Regression Results</caption>\n",
       "<tr>\n",
       "  <th>Dep. Variable:</th>       <td>Exam_Score</td>    <th>  R-squared:         </th> <td>   0.699</td> \n",
       "</tr>\n",
       "<tr>\n",
       "  <th>Model:</th>                   <td>OLS</td>       <th>  Adj. R-squared:    </th> <td>   0.698</td> \n",
       "</tr>\n",
       "<tr>\n",
       "  <th>Method:</th>             <td>Least Squares</td>  <th>  F-statistic:       </th> <td>   476.6</td> \n",
       "</tr>\n",
       "<tr>\n",
       "  <th>Date:</th>             <td>Sun, 01 Dec 2024</td> <th>  Prob (F-statistic):</th>  <td>  0.00</td>  \n",
       "</tr>\n",
       "<tr>\n",
       "  <th>Time:</th>                 <td>07:42:52</td>     <th>  Log-Likelihood:    </th> <td> -11267.</td> \n",
       "</tr>\n",
       "<tr>\n",
       "  <th>No. Observations:</th>      <td>  5154</td>      <th>  AIC:               </th> <td>2.259e+04</td>\n",
       "</tr>\n",
       "<tr>\n",
       "  <th>Df Residuals:</th>          <td>  5128</td>      <th>  BIC:               </th> <td>2.276e+04</td>\n",
       "</tr>\n",
       "<tr>\n",
       "  <th>Df Model:</th>              <td>    25</td>      <th>                     </th>     <td> </td>    \n",
       "</tr>\n",
       "<tr>\n",
       "  <th>Covariance Type:</th>      <td>nonrobust</td>    <th>                     </th>     <td> </td>    \n",
       "</tr>\n",
       "</table>\n",
       "<table class=\"simpletable\">\n",
       "<tr>\n",
       "                       <td></td>                          <th>coef</th>     <th>std err</th>      <th>t</th>      <th>P>|t|</th>  <th>[0.025</th>    <th>0.975]</th>  \n",
       "</tr>\n",
       "<tr>\n",
       "  <th>Intercept</th>                                   <td>   42.6464</td> <td>    0.383</td> <td>  111.408</td> <td> 0.000</td> <td>   41.896</td> <td>   43.397</td>\n",
       "</tr>\n",
       "<tr>\n",
       "  <th>C(Parental_Involvement)[T.Low]</th>              <td>   -2.0458</td> <td>    0.088</td> <td>  -23.373</td> <td> 0.000</td> <td>   -2.217</td> <td>   -1.874</td>\n",
       "</tr>\n",
       "<tr>\n",
       "  <th>C(Parental_Involvement)[T.Medium]</th>           <td>   -1.1077</td> <td>    0.070</td> <td>  -15.803</td> <td> 0.000</td> <td>   -1.245</td> <td>   -0.970</td>\n",
       "</tr>\n",
       "<tr>\n",
       "  <th>C(Access_to_Resources)[T.Low]</th>               <td>   -2.0935</td> <td>    0.087</td> <td>  -23.958</td> <td> 0.000</td> <td>   -2.265</td> <td>   -1.922</td>\n",
       "</tr>\n",
       "<tr>\n",
       "  <th>C(Access_to_Resources)[T.Medium]</th>            <td>   -0.9934</td> <td>    0.070</td> <td>  -14.242</td> <td> 0.000</td> <td>   -1.130</td> <td>   -0.857</td>\n",
       "</tr>\n",
       "<tr>\n",
       "  <th>C(Extracurricular_Activities)[T.Yes]</th>        <td>    0.5417</td> <td>    0.061</td> <td>    8.828</td> <td> 0.000</td> <td>    0.421</td> <td>    0.662</td>\n",
       "</tr>\n",
       "<tr>\n",
       "  <th>C(Motivation_Level)[T.Low]</th>                  <td>   -0.9971</td> <td>    0.088</td> <td>  -11.366</td> <td> 0.000</td> <td>   -1.169</td> <td>   -0.825</td>\n",
       "</tr>\n",
       "<tr>\n",
       "  <th>C(Motivation_Level)[T.Medium]</th>               <td>   -0.4977</td> <td>    0.080</td> <td>   -6.260</td> <td> 0.000</td> <td>   -0.654</td> <td>   -0.342</td>\n",
       "</tr>\n",
       "<tr>\n",
       "  <th>C(Internet_Access)[T.Yes]</th>                   <td>    0.8394</td> <td>    0.114</td> <td>    7.368</td> <td> 0.000</td> <td>    0.616</td> <td>    1.063</td>\n",
       "</tr>\n",
       "<tr>\n",
       "  <th>C(Family_Income)[T.Low]</th>                     <td>   -1.0618</td> <td>    0.084</td> <td>  -12.699</td> <td> 0.000</td> <td>   -1.226</td> <td>   -0.898</td>\n",
       "</tr>\n",
       "<tr>\n",
       "  <th>C(Family_Income)[T.Medium]</th>                  <td>   -0.5943</td> <td>    0.084</td> <td>   -7.115</td> <td> 0.000</td> <td>   -0.758</td> <td>   -0.431</td>\n",
       "</tr>\n",
       "<tr>\n",
       "  <th>C(Teacher_Quality)[T.Low]</th>                   <td>   -1.0615</td> <td>    0.109</td> <td>   -9.720</td> <td> 0.000</td> <td>   -1.276</td> <td>   -0.847</td>\n",
       "</tr>\n",
       "<tr>\n",
       "  <th>C(Teacher_Quality)[T.Medium]</th>                <td>   -0.5528</td> <td>    0.068</td> <td>   -8.182</td> <td> 0.000</td> <td>   -0.685</td> <td>   -0.420</td>\n",
       "</tr>\n",
       "<tr>\n",
       "  <th>C(School_Type)[T.Public]</th>                    <td>   -0.0138</td> <td>    0.065</td> <td>   -0.211</td> <td> 0.833</td> <td>   -0.142</td> <td>    0.114</td>\n",
       "</tr>\n",
       "<tr>\n",
       "  <th>C(Peer_Influence)[T.Neutral]</th>                <td>    0.4775</td> <td>    0.081</td> <td>    5.859</td> <td> 0.000</td> <td>    0.318</td> <td>    0.637</td>\n",
       "</tr>\n",
       "<tr>\n",
       "  <th>C(Peer_Influence)[T.Positive]</th>               <td>    1.0026</td> <td>    0.081</td> <td>   12.418</td> <td> 0.000</td> <td>    0.844</td> <td>    1.161</td>\n",
       "</tr>\n",
       "<tr>\n",
       "  <th>C(Learning_Disabilities)[T.Yes]</th>             <td>   -0.9232</td> <td>    0.099</td> <td>   -9.309</td> <td> 0.000</td> <td>   -1.118</td> <td>   -0.729</td>\n",
       "</tr>\n",
       "<tr>\n",
       "  <th>C(Parental_Education_Level)[T.High School]</th>  <td>   -0.4488</td> <td>    0.070</td> <td>   -6.448</td> <td> 0.000</td> <td>   -0.585</td> <td>   -0.312</td>\n",
       "</tr>\n",
       "<tr>\n",
       "  <th>C(Parental_Education_Level)[T.Postgraduate]</th> <td>    0.4966</td> <td>    0.087</td> <td>    5.725</td> <td> 0.000</td> <td>    0.327</td> <td>    0.667</td>\n",
       "</tr>\n",
       "<tr>\n",
       "  <th>C(Gender)[T.Male]</th>                           <td>   -0.0534</td> <td>    0.061</td> <td>   -0.876</td> <td> 0.381</td> <td>   -0.173</td> <td>    0.066</td>\n",
       "</tr>\n",
       "<tr>\n",
       "  <th>Hours_Studied</th>                               <td>    0.2907</td> <td>    0.005</td> <td>   57.151</td> <td> 0.000</td> <td>    0.281</td> <td>    0.301</td>\n",
       "</tr>\n",
       "<tr>\n",
       "  <th>Attendance</th>                                  <td>    0.1984</td> <td>    0.003</td> <td>   75.835</td> <td> 0.000</td> <td>    0.193</td> <td>    0.204</td>\n",
       "</tr>\n",
       "<tr>\n",
       "  <th>Sleep_Hours</th>                                 <td>   -0.0084</td> <td>    0.020</td> <td>   -0.414</td> <td> 0.679</td> <td>   -0.048</td> <td>    0.032</td>\n",
       "</tr>\n",
       "<tr>\n",
       "  <th>Previous_Scores</th>                             <td>    0.0501</td> <td>    0.002</td> <td>   23.841</td> <td> 0.000</td> <td>    0.046</td> <td>    0.054</td>\n",
       "</tr>\n",
       "<tr>\n",
       "  <th>Tutoring_Sessions</th>                           <td>    0.5217</td> <td>    0.025</td> <td>   21.226</td> <td> 0.000</td> <td>    0.474</td> <td>    0.570</td>\n",
       "</tr>\n",
       "<tr>\n",
       "  <th>Physical_Activity</th>                           <td>    0.1911</td> <td>    0.029</td> <td>    6.531</td> <td> 0.000</td> <td>    0.134</td> <td>    0.249</td>\n",
       "</tr>\n",
       "</table>\n",
       "<table class=\"simpletable\">\n",
       "<tr>\n",
       "  <th>Omnibus:</th>       <td>8258.969</td> <th>  Durbin-Watson:     </th>  <td>   2.023</td>  \n",
       "</tr>\n",
       "<tr>\n",
       "  <th>Prob(Omnibus):</th>  <td> 0.000</td>  <th>  Jarque-Bera (JB):  </th> <td>3298218.877</td>\n",
       "</tr>\n",
       "<tr>\n",
       "  <th>Skew:</th>           <td>10.677</td>  <th>  Prob(JB):          </th>  <td>    0.00</td>  \n",
       "</tr>\n",
       "<tr>\n",
       "  <th>Kurtosis:</th>       <td>125.075</td> <th>  Cond. No.          </th>  <td>1.44e+03</td>  \n",
       "</tr>\n",
       "</table><br/><br/>Notes:<br/>[1] Standard Errors assume that the covariance matrix of the errors is correctly specified.<br/>[2] The condition number is large, 1.44e+03. This might indicate that there are<br/>strong multicollinearity or other numerical problems."
      ],
      "text/latex": [
       "\\begin{center}\n",
       "\\begin{tabular}{lclc}\n",
       "\\toprule\n",
       "\\textbf{Dep. Variable:}                                &   Exam\\_Score    & \\textbf{  R-squared:         } &      0.699   \\\\\n",
       "\\textbf{Model:}                                        &       OLS        & \\textbf{  Adj. R-squared:    } &      0.698   \\\\\n",
       "\\textbf{Method:}                                       &  Least Squares   & \\textbf{  F-statistic:       } &      476.6   \\\\\n",
       "\\textbf{Date:}                                         & Sun, 01 Dec 2024 & \\textbf{  Prob (F-statistic):} &      0.00    \\\\\n",
       "\\textbf{Time:}                                         &     07:42:52     & \\textbf{  Log-Likelihood:    } &    -11267.   \\\\\n",
       "\\textbf{No. Observations:}                             &        5154      & \\textbf{  AIC:               } &  2.259e+04   \\\\\n",
       "\\textbf{Df Residuals:}                                 &        5128      & \\textbf{  BIC:               } &  2.276e+04   \\\\\n",
       "\\textbf{Df Model:}                                     &          25      & \\textbf{                     } &              \\\\\n",
       "\\textbf{Covariance Type:}                              &    nonrobust     & \\textbf{                     } &              \\\\\n",
       "\\bottomrule\n",
       "\\end{tabular}\n",
       "\\begin{tabular}{lcccccc}\n",
       "                                                       & \\textbf{coef} & \\textbf{std err} & \\textbf{t} & \\textbf{P$> |$t$|$} & \\textbf{[0.025} & \\textbf{0.975]}  \\\\\n",
       "\\midrule\n",
       "\\textbf{Intercept}                                     &      42.6464  &        0.383     &   111.408  &         0.000        &       41.896    &       43.397     \\\\\n",
       "\\textbf{C(Parental\\_Involvement)[T.Low]}               &      -2.0458  &        0.088     &   -23.373  &         0.000        &       -2.217    &       -1.874     \\\\\n",
       "\\textbf{C(Parental\\_Involvement)[T.Medium]}            &      -1.1077  &        0.070     &   -15.803  &         0.000        &       -1.245    &       -0.970     \\\\\n",
       "\\textbf{C(Access\\_to\\_Resources)[T.Low]}               &      -2.0935  &        0.087     &   -23.958  &         0.000        &       -2.265    &       -1.922     \\\\\n",
       "\\textbf{C(Access\\_to\\_Resources)[T.Medium]}            &      -0.9934  &        0.070     &   -14.242  &         0.000        &       -1.130    &       -0.857     \\\\\n",
       "\\textbf{C(Extracurricular\\_Activities)[T.Yes]}         &       0.5417  &        0.061     &     8.828  &         0.000        &        0.421    &        0.662     \\\\\n",
       "\\textbf{C(Motivation\\_Level)[T.Low]}                   &      -0.9971  &        0.088     &   -11.366  &         0.000        &       -1.169    &       -0.825     \\\\\n",
       "\\textbf{C(Motivation\\_Level)[T.Medium]}                &      -0.4977  &        0.080     &    -6.260  &         0.000        &       -0.654    &       -0.342     \\\\\n",
       "\\textbf{C(Internet\\_Access)[T.Yes]}                    &       0.8394  &        0.114     &     7.368  &         0.000        &        0.616    &        1.063     \\\\\n",
       "\\textbf{C(Family\\_Income)[T.Low]}                      &      -1.0618  &        0.084     &   -12.699  &         0.000        &       -1.226    &       -0.898     \\\\\n",
       "\\textbf{C(Family\\_Income)[T.Medium]}                   &      -0.5943  &        0.084     &    -7.115  &         0.000        &       -0.758    &       -0.431     \\\\\n",
       "\\textbf{C(Teacher\\_Quality)[T.Low]}                    &      -1.0615  &        0.109     &    -9.720  &         0.000        &       -1.276    &       -0.847     \\\\\n",
       "\\textbf{C(Teacher\\_Quality)[T.Medium]}                 &      -0.5528  &        0.068     &    -8.182  &         0.000        &       -0.685    &       -0.420     \\\\\n",
       "\\textbf{C(School\\_Type)[T.Public]}                     &      -0.0138  &        0.065     &    -0.211  &         0.833        &       -0.142    &        0.114     \\\\\n",
       "\\textbf{C(Peer\\_Influence)[T.Neutral]}                 &       0.4775  &        0.081     &     5.859  &         0.000        &        0.318    &        0.637     \\\\\n",
       "\\textbf{C(Peer\\_Influence)[T.Positive]}                &       1.0026  &        0.081     &    12.418  &         0.000        &        0.844    &        1.161     \\\\\n",
       "\\textbf{C(Learning\\_Disabilities)[T.Yes]}              &      -0.9232  &        0.099     &    -9.309  &         0.000        &       -1.118    &       -0.729     \\\\\n",
       "\\textbf{C(Parental\\_Education\\_Level)[T.High School]}  &      -0.4488  &        0.070     &    -6.448  &         0.000        &       -0.585    &       -0.312     \\\\\n",
       "\\textbf{C(Parental\\_Education\\_Level)[T.Postgraduate]} &       0.4966  &        0.087     &     5.725  &         0.000        &        0.327    &        0.667     \\\\\n",
       "\\textbf{C(Gender)[T.Male]}                             &      -0.0534  &        0.061     &    -0.876  &         0.381        &       -0.173    &        0.066     \\\\\n",
       "\\textbf{Hours\\_Studied}                                &       0.2907  &        0.005     &    57.151  &         0.000        &        0.281    &        0.301     \\\\\n",
       "\\textbf{Attendance}                                    &       0.1984  &        0.003     &    75.835  &         0.000        &        0.193    &        0.204     \\\\\n",
       "\\textbf{Sleep\\_Hours}                                  &      -0.0084  &        0.020     &    -0.414  &         0.679        &       -0.048    &        0.032     \\\\\n",
       "\\textbf{Previous\\_Scores}                              &       0.0501  &        0.002     &    23.841  &         0.000        &        0.046    &        0.054     \\\\\n",
       "\\textbf{Tutoring\\_Sessions}                            &       0.5217  &        0.025     &    21.226  &         0.000        &        0.474    &        0.570     \\\\\n",
       "\\textbf{Physical\\_Activity}                            &       0.1911  &        0.029     &     6.531  &         0.000        &        0.134    &        0.249     \\\\\n",
       "\\bottomrule\n",
       "\\end{tabular}\n",
       "\\begin{tabular}{lclc}\n",
       "\\textbf{Omnibus:}       & 8258.969 & \\textbf{  Durbin-Watson:     } &      2.023   \\\\\n",
       "\\textbf{Prob(Omnibus):} &   0.000  & \\textbf{  Jarque-Bera (JB):  } & 3298218.877  \\\\\n",
       "\\textbf{Skew:}          &  10.677  & \\textbf{  Prob(JB):          } &       0.00   \\\\\n",
       "\\textbf{Kurtosis:}      & 125.075  & \\textbf{  Cond. No.          } &   1.44e+03   \\\\\n",
       "\\bottomrule\n",
       "\\end{tabular}\n",
       "%\\caption{OLS Regression Results}\n",
       "\\end{center}\n",
       "\n",
       "Notes: \\newline\n",
       " [1] Standard Errors assume that the covariance matrix of the errors is correctly specified. \\newline\n",
       " [2] The condition number is large, 1.44e+03. This might indicate that there are \\newline\n",
       " strong multicollinearity or other numerical problems."
      ],
      "text/plain": [
       "<class 'statsmodels.iolib.summary.Summary'>\n",
       "\"\"\"\n",
       "                            OLS Regression Results                            \n",
       "==============================================================================\n",
       "Dep. Variable:             Exam_Score   R-squared:                       0.699\n",
       "Model:                            OLS   Adj. R-squared:                  0.698\n",
       "Method:                 Least Squares   F-statistic:                     476.6\n",
       "Date:                Sun, 01 Dec 2024   Prob (F-statistic):               0.00\n",
       "Time:                        07:42:52   Log-Likelihood:                -11267.\n",
       "No. Observations:                5154   AIC:                         2.259e+04\n",
       "Df Residuals:                    5128   BIC:                         2.276e+04\n",
       "Df Model:                          25                                         \n",
       "Covariance Type:            nonrobust                                         \n",
       "===============================================================================================================\n",
       "                                                  coef    std err          t      P>|t|      [0.025      0.975]\n",
       "---------------------------------------------------------------------------------------------------------------\n",
       "Intercept                                      42.6464      0.383    111.408      0.000      41.896      43.397\n",
       "C(Parental_Involvement)[T.Low]                 -2.0458      0.088    -23.373      0.000      -2.217      -1.874\n",
       "C(Parental_Involvement)[T.Medium]              -1.1077      0.070    -15.803      0.000      -1.245      -0.970\n",
       "C(Access_to_Resources)[T.Low]                  -2.0935      0.087    -23.958      0.000      -2.265      -1.922\n",
       "C(Access_to_Resources)[T.Medium]               -0.9934      0.070    -14.242      0.000      -1.130      -0.857\n",
       "C(Extracurricular_Activities)[T.Yes]            0.5417      0.061      8.828      0.000       0.421       0.662\n",
       "C(Motivation_Level)[T.Low]                     -0.9971      0.088    -11.366      0.000      -1.169      -0.825\n",
       "C(Motivation_Level)[T.Medium]                  -0.4977      0.080     -6.260      0.000      -0.654      -0.342\n",
       "C(Internet_Access)[T.Yes]                       0.8394      0.114      7.368      0.000       0.616       1.063\n",
       "C(Family_Income)[T.Low]                        -1.0618      0.084    -12.699      0.000      -1.226      -0.898\n",
       "C(Family_Income)[T.Medium]                     -0.5943      0.084     -7.115      0.000      -0.758      -0.431\n",
       "C(Teacher_Quality)[T.Low]                      -1.0615      0.109     -9.720      0.000      -1.276      -0.847\n",
       "C(Teacher_Quality)[T.Medium]                   -0.5528      0.068     -8.182      0.000      -0.685      -0.420\n",
       "C(School_Type)[T.Public]                       -0.0138      0.065     -0.211      0.833      -0.142       0.114\n",
       "C(Peer_Influence)[T.Neutral]                    0.4775      0.081      5.859      0.000       0.318       0.637\n",
       "C(Peer_Influence)[T.Positive]                   1.0026      0.081     12.418      0.000       0.844       1.161\n",
       "C(Learning_Disabilities)[T.Yes]                -0.9232      0.099     -9.309      0.000      -1.118      -0.729\n",
       "C(Parental_Education_Level)[T.High School]     -0.4488      0.070     -6.448      0.000      -0.585      -0.312\n",
       "C(Parental_Education_Level)[T.Postgraduate]     0.4966      0.087      5.725      0.000       0.327       0.667\n",
       "C(Gender)[T.Male]                              -0.0534      0.061     -0.876      0.381      -0.173       0.066\n",
       "Hours_Studied                                   0.2907      0.005     57.151      0.000       0.281       0.301\n",
       "Attendance                                      0.1984      0.003     75.835      0.000       0.193       0.204\n",
       "Sleep_Hours                                    -0.0084      0.020     -0.414      0.679      -0.048       0.032\n",
       "Previous_Scores                                 0.0501      0.002     23.841      0.000       0.046       0.054\n",
       "Tutoring_Sessions                               0.5217      0.025     21.226      0.000       0.474       0.570\n",
       "Physical_Activity                               0.1911      0.029      6.531      0.000       0.134       0.249\n",
       "==============================================================================\n",
       "Omnibus:                     8258.969   Durbin-Watson:                   2.023\n",
       "Prob(Omnibus):                  0.000   Jarque-Bera (JB):          3298218.877\n",
       "Skew:                          10.677   Prob(JB):                         0.00\n",
       "Kurtosis:                     125.075   Cond. No.                     1.44e+03\n",
       "==============================================================================\n",
       "\n",
       "Notes:\n",
       "[1] Standard Errors assume that the covariance matrix of the errors is correctly specified.\n",
       "[2] The condition number is large, 1.44e+03. This might indicate that there are\n",
       "strong multicollinearity or other numerical problems.\n",
       "\"\"\""
      ]
     },
     "execution_count": 8,
     "metadata": {},
     "output_type": "execute_result"
    }
   ],
   "source": [
    "lm.summary()"
   ]
  },
  {
   "cell_type": "code",
   "execution_count": 9,
   "id": "63fe67dc-f8ed-43c6-bdfe-c04e5bb2e013",
   "metadata": {},
   "outputs": [],
   "source": [
    "y_pred = lm.predict(X_test)"
   ]
  },
  {
   "cell_type": "code",
   "execution_count": 10,
   "id": "5ad03c53-b82c-43b7-bb28-e51a0d1ece3c",
   "metadata": {},
   "outputs": [
    {
     "name": "stdout",
     "output_type": "stream",
     "text": [
      "Test MSE: 3.055902740333479\n",
      "Test R^2: 0.731652725175234\n"
     ]
    }
   ],
   "source": [
    "print(f\"Test MSE: {mean_squared_error(y_pred, y_test)}\")\n",
    "print(f\"Test R^2: {r2_score(y_pred, y_test)}\")"
   ]
  },
  {
   "cell_type": "markdown",
   "id": "6c1a5004-d85a-4678-a6b5-89c06c7685df",
   "metadata": {},
   "source": [
    "## Regularization with LASSO"
   ]
  },
  {
   "cell_type": "code",
   "execution_count": 27,
   "id": "25b91002-7b2c-45f9-ad62-5baec466216e",
   "metadata": {},
   "outputs": [],
   "source": [
    "from sklearn.linear_model import Lasso, LassoCV\n",
    "from feature_engineering import process_categorical_columns"
   ]
  },
  {
   "cell_type": "code",
   "execution_count": 12,
   "id": "71abf61d-5530-445f-82f5-604a03aabfe6",
   "metadata": {},
   "outputs": [],
   "source": [
    "df = pd.read_csv('StudentPerformanceFactorsCleaned.csv')"
   ]
  },
  {
   "cell_type": "code",
   "execution_count": 13,
   "id": "a75cd15c-2198-413e-8104-035cbab86095",
   "metadata": {},
   "outputs": [],
   "source": [
    "df = process_categorical_columns(df)"
   ]
  },
  {
   "cell_type": "code",
   "execution_count": 17,
   "id": "9e265f53-17c1-447b-917c-6ec8b7b12fd7",
   "metadata": {},
   "outputs": [
    {
     "data": {
      "text/html": [
       "<div>\n",
       "<style scoped>\n",
       "    .dataframe tbody tr th:only-of-type {\n",
       "        vertical-align: middle;\n",
       "    }\n",
       "\n",
       "    .dataframe tbody tr th {\n",
       "        vertical-align: top;\n",
       "    }\n",
       "\n",
       "    .dataframe thead th {\n",
       "        text-align: right;\n",
       "    }\n",
       "</style>\n",
       "<table border=\"1\" class=\"dataframe\">\n",
       "  <thead>\n",
       "    <tr style=\"text-align: right;\">\n",
       "      <th></th>\n",
       "      <th>Hours_Studied</th>\n",
       "      <th>Attendance</th>\n",
       "      <th>Parental_Involvement</th>\n",
       "      <th>Access_to_Resources</th>\n",
       "      <th>Extracurricular_Activities_Yes</th>\n",
       "      <th>Sleep_Hours</th>\n",
       "      <th>Previous_Scores</th>\n",
       "      <th>Motivation_Level</th>\n",
       "      <th>Internet_Access_Yes</th>\n",
       "      <th>Tutoring_Sessions</th>\n",
       "      <th>Family_Income</th>\n",
       "      <th>Teacher_Quality</th>\n",
       "      <th>School_Type_Public</th>\n",
       "      <th>Peer_Influence</th>\n",
       "      <th>Physical_Activity</th>\n",
       "      <th>Learning_Disabilities_Yes</th>\n",
       "      <th>Parental_Education_Level</th>\n",
       "      <th>Gender_Male</th>\n",
       "      <th>Exam_Score</th>\n",
       "    </tr>\n",
       "  </thead>\n",
       "  <tbody>\n",
       "    <tr>\n",
       "      <th>0</th>\n",
       "      <td>23</td>\n",
       "      <td>84</td>\n",
       "      <td>0</td>\n",
       "      <td>2</td>\n",
       "      <td>0</td>\n",
       "      <td>7</td>\n",
       "      <td>73</td>\n",
       "      <td>0</td>\n",
       "      <td>1</td>\n",
       "      <td>0</td>\n",
       "      <td>0</td>\n",
       "      <td>1</td>\n",
       "      <td>1</td>\n",
       "      <td>2</td>\n",
       "      <td>3</td>\n",
       "      <td>0</td>\n",
       "      <td>0</td>\n",
       "      <td>1</td>\n",
       "      <td>67</td>\n",
       "    </tr>\n",
       "    <tr>\n",
       "      <th>1</th>\n",
       "      <td>19</td>\n",
       "      <td>64</td>\n",
       "      <td>0</td>\n",
       "      <td>1</td>\n",
       "      <td>0</td>\n",
       "      <td>8</td>\n",
       "      <td>59</td>\n",
       "      <td>0</td>\n",
       "      <td>1</td>\n",
       "      <td>2</td>\n",
       "      <td>1</td>\n",
       "      <td>1</td>\n",
       "      <td>1</td>\n",
       "      <td>0</td>\n",
       "      <td>4</td>\n",
       "      <td>0</td>\n",
       "      <td>1</td>\n",
       "      <td>0</td>\n",
       "      <td>61</td>\n",
       "    </tr>\n",
       "    <tr>\n",
       "      <th>2</th>\n",
       "      <td>24</td>\n",
       "      <td>98</td>\n",
       "      <td>1</td>\n",
       "      <td>1</td>\n",
       "      <td>1</td>\n",
       "      <td>7</td>\n",
       "      <td>91</td>\n",
       "      <td>1</td>\n",
       "      <td>1</td>\n",
       "      <td>2</td>\n",
       "      <td>1</td>\n",
       "      <td>1</td>\n",
       "      <td>1</td>\n",
       "      <td>1</td>\n",
       "      <td>4</td>\n",
       "      <td>0</td>\n",
       "      <td>2</td>\n",
       "      <td>1</td>\n",
       "      <td>74</td>\n",
       "    </tr>\n",
       "    <tr>\n",
       "      <th>3</th>\n",
       "      <td>29</td>\n",
       "      <td>89</td>\n",
       "      <td>0</td>\n",
       "      <td>1</td>\n",
       "      <td>1</td>\n",
       "      <td>8</td>\n",
       "      <td>98</td>\n",
       "      <td>1</td>\n",
       "      <td>1</td>\n",
       "      <td>1</td>\n",
       "      <td>1</td>\n",
       "      <td>1</td>\n",
       "      <td>1</td>\n",
       "      <td>0</td>\n",
       "      <td>4</td>\n",
       "      <td>0</td>\n",
       "      <td>0</td>\n",
       "      <td>1</td>\n",
       "      <td>71</td>\n",
       "    </tr>\n",
       "    <tr>\n",
       "      <th>4</th>\n",
       "      <td>19</td>\n",
       "      <td>92</td>\n",
       "      <td>1</td>\n",
       "      <td>1</td>\n",
       "      <td>1</td>\n",
       "      <td>6</td>\n",
       "      <td>65</td>\n",
       "      <td>1</td>\n",
       "      <td>1</td>\n",
       "      <td>3</td>\n",
       "      <td>1</td>\n",
       "      <td>2</td>\n",
       "      <td>1</td>\n",
       "      <td>1</td>\n",
       "      <td>4</td>\n",
       "      <td>0</td>\n",
       "      <td>1</td>\n",
       "      <td>0</td>\n",
       "      <td>70</td>\n",
       "    </tr>\n",
       "  </tbody>\n",
       "</table>\n",
       "</div>"
      ],
      "text/plain": [
       "   Hours_Studied  Attendance  Parental_Involvement  Access_to_Resources  \\\n",
       "0             23          84                     0                    2   \n",
       "1             19          64                     0                    1   \n",
       "2             24          98                     1                    1   \n",
       "3             29          89                     0                    1   \n",
       "4             19          92                     1                    1   \n",
       "\n",
       "   Extracurricular_Activities_Yes  Sleep_Hours  Previous_Scores  \\\n",
       "0                               0            7               73   \n",
       "1                               0            8               59   \n",
       "2                               1            7               91   \n",
       "3                               1            8               98   \n",
       "4                               1            6               65   \n",
       "\n",
       "   Motivation_Level  Internet_Access_Yes  Tutoring_Sessions  Family_Income  \\\n",
       "0                 0                    1                  0              0   \n",
       "1                 0                    1                  2              1   \n",
       "2                 1                    1                  2              1   \n",
       "3                 1                    1                  1              1   \n",
       "4                 1                    1                  3              1   \n",
       "\n",
       "   Teacher_Quality  School_Type_Public  Peer_Influence  Physical_Activity  \\\n",
       "0                1                   1               2                  3   \n",
       "1                1                   1               0                  4   \n",
       "2                1                   1               1                  4   \n",
       "3                1                   1               0                  4   \n",
       "4                2                   1               1                  4   \n",
       "\n",
       "   Learning_Disabilities_Yes  Parental_Education_Level  Gender_Male  \\\n",
       "0                          0                         0            1   \n",
       "1                          0                         1            0   \n",
       "2                          0                         2            1   \n",
       "3                          0                         0            1   \n",
       "4                          0                         1            0   \n",
       "\n",
       "   Exam_Score  \n",
       "0          67  \n",
       "1          61  \n",
       "2          74  \n",
       "3          71  \n",
       "4          70  "
      ]
     },
     "execution_count": 17,
     "metadata": {},
     "output_type": "execute_result"
    }
   ],
   "source": [
    "df.head()"
   ]
  },
  {
   "cell_type": "code",
   "execution_count": 18,
   "id": "b7312e64-109b-4536-8595-7e7d7b141b37",
   "metadata": {},
   "outputs": [],
   "source": [
    "X_train, X_test, y_train, y_test = train_test_split(df.drop(columns='Exam_Score'), df['Exam_Score'], test_size=0.2, random_state=42)"
   ]
  },
  {
   "cell_type": "code",
   "execution_count": 21,
   "id": "7b56f56a-fccf-4ce6-a8d4-b91b411ac5c3",
   "metadata": {},
   "outputs": [
    {
     "data": {
      "text/html": [
       "<style>#sk-container-id-2 {color: black;}#sk-container-id-2 pre{padding: 0;}#sk-container-id-2 div.sk-toggleable {background-color: white;}#sk-container-id-2 label.sk-toggleable__label {cursor: pointer;display: block;width: 100%;margin-bottom: 0;padding: 0.3em;box-sizing: border-box;text-align: center;}#sk-container-id-2 label.sk-toggleable__label-arrow:before {content: \"▸\";float: left;margin-right: 0.25em;color: #696969;}#sk-container-id-2 label.sk-toggleable__label-arrow:hover:before {color: black;}#sk-container-id-2 div.sk-estimator:hover label.sk-toggleable__label-arrow:before {color: black;}#sk-container-id-2 div.sk-toggleable__content {max-height: 0;max-width: 0;overflow: hidden;text-align: left;background-color: #f0f8ff;}#sk-container-id-2 div.sk-toggleable__content pre {margin: 0.2em;color: black;border-radius: 0.25em;background-color: #f0f8ff;}#sk-container-id-2 input.sk-toggleable__control:checked~div.sk-toggleable__content {max-height: 200px;max-width: 100%;overflow: auto;}#sk-container-id-2 input.sk-toggleable__control:checked~label.sk-toggleable__label-arrow:before {content: \"▾\";}#sk-container-id-2 div.sk-estimator input.sk-toggleable__control:checked~label.sk-toggleable__label {background-color: #d4ebff;}#sk-container-id-2 div.sk-label input.sk-toggleable__control:checked~label.sk-toggleable__label {background-color: #d4ebff;}#sk-container-id-2 input.sk-hidden--visually {border: 0;clip: rect(1px 1px 1px 1px);clip: rect(1px, 1px, 1px, 1px);height: 1px;margin: -1px;overflow: hidden;padding: 0;position: absolute;width: 1px;}#sk-container-id-2 div.sk-estimator {font-family: monospace;background-color: #f0f8ff;border: 1px dotted black;border-radius: 0.25em;box-sizing: border-box;margin-bottom: 0.5em;}#sk-container-id-2 div.sk-estimator:hover {background-color: #d4ebff;}#sk-container-id-2 div.sk-parallel-item::after {content: \"\";width: 100%;border-bottom: 1px solid gray;flex-grow: 1;}#sk-container-id-2 div.sk-label:hover label.sk-toggleable__label {background-color: #d4ebff;}#sk-container-id-2 div.sk-serial::before {content: \"\";position: absolute;border-left: 1px solid gray;box-sizing: border-box;top: 0;bottom: 0;left: 50%;z-index: 0;}#sk-container-id-2 div.sk-serial {display: flex;flex-direction: column;align-items: center;background-color: white;padding-right: 0.2em;padding-left: 0.2em;position: relative;}#sk-container-id-2 div.sk-item {position: relative;z-index: 1;}#sk-container-id-2 div.sk-parallel {display: flex;align-items: stretch;justify-content: center;background-color: white;position: relative;}#sk-container-id-2 div.sk-item::before, #sk-container-id-2 div.sk-parallel-item::before {content: \"\";position: absolute;border-left: 1px solid gray;box-sizing: border-box;top: 0;bottom: 0;left: 50%;z-index: -1;}#sk-container-id-2 div.sk-parallel-item {display: flex;flex-direction: column;z-index: 1;position: relative;background-color: white;}#sk-container-id-2 div.sk-parallel-item:first-child::after {align-self: flex-end;width: 50%;}#sk-container-id-2 div.sk-parallel-item:last-child::after {align-self: flex-start;width: 50%;}#sk-container-id-2 div.sk-parallel-item:only-child::after {width: 0;}#sk-container-id-2 div.sk-dashed-wrapped {border: 1px dashed gray;margin: 0 0.4em 0.5em 0.4em;box-sizing: border-box;padding-bottom: 0.4em;background-color: white;}#sk-container-id-2 div.sk-label label {font-family: monospace;font-weight: bold;display: inline-block;line-height: 1.2em;}#sk-container-id-2 div.sk-label-container {text-align: center;}#sk-container-id-2 div.sk-container {/* jupyter's `normalize.less` sets `[hidden] { display: none; }` but bootstrap.min.css set `[hidden] { display: none !important; }` so we also need the `!important` here to be able to override the default hidden behavior on the sphinx rendered scikit-learn.org. See: https://github.com/scikit-learn/scikit-learn/issues/21755 */display: inline-block !important;position: relative;}#sk-container-id-2 div.sk-text-repr-fallback {display: none;}</style><div id=\"sk-container-id-2\" class=\"sk-top-container\"><div class=\"sk-text-repr-fallback\"><pre>Lasso(alpha=0.1, random_state=792)</pre><b>In a Jupyter environment, please rerun this cell to show the HTML representation or trust the notebook. <br />On GitHub, the HTML representation is unable to render, please try loading this page with nbviewer.org.</b></div><div class=\"sk-container\" hidden><div class=\"sk-item\"><div class=\"sk-estimator sk-toggleable\"><input class=\"sk-toggleable__control sk-hidden--visually\" id=\"sk-estimator-id-2\" type=\"checkbox\" checked><label for=\"sk-estimator-id-2\" class=\"sk-toggleable__label sk-toggleable__label-arrow\">Lasso</label><div class=\"sk-toggleable__content\"><pre>Lasso(alpha=0.1, random_state=792)</pre></div></div></div></div></div>"
      ],
      "text/plain": [
       "Lasso(alpha=0.1, random_state=792)"
      ]
     },
     "execution_count": 21,
     "metadata": {},
     "output_type": "execute_result"
    }
   ],
   "source": [
    "lasso = Lasso(alpha = 0.1, random_state=792)\n",
    "lasso.fit(X_train, y_train)"
   ]
  },
  {
   "cell_type": "code",
   "execution_count": 22,
   "id": "576636ce-98e0-4863-a3eb-2497b8bf9985",
   "metadata": {},
   "outputs": [],
   "source": [
    "y_pred_lasso = lasso.predict(X_test)"
   ]
  },
  {
   "cell_type": "code",
   "execution_count": 23,
   "id": "69195dc1-f56d-4c0a-b732-84f5deb72339",
   "metadata": {},
   "outputs": [
    {
     "data": {
      "text/plain": [
       "array([ 0.28789949,  0.19711966,  0.82267973,  0.81580034,  0.12959568,\n",
       "       -0.        ,  0.04937036,  0.28780311,  0.        ,  0.45528207,\n",
       "        0.33121594,  0.25144092, -0.        ,  0.34130065,  0.08512189,\n",
       "       -0.        ,  0.30747381, -0.        ])"
      ]
     },
     "execution_count": 23,
     "metadata": {},
     "output_type": "execute_result"
    }
   ],
   "source": [
    "lasso.coef_"
   ]
  },
  {
   "cell_type": "code",
   "execution_count": 25,
   "id": "88b879c4-8359-4b38-a9fb-77c0c219981b",
   "metadata": {},
   "outputs": [
    {
     "data": {
      "text/plain": [
       "array([63.08101243, 69.06043079, 65.61560054, 68.71460375, 65.75666143,\n",
       "       69.9291667 , 61.22457428, 65.46602683, 63.42280451, 68.14895095])"
      ]
     },
     "execution_count": 25,
     "metadata": {},
     "output_type": "execute_result"
    }
   ],
   "source": [
    "y_pred_lasso[0:10]"
   ]
  },
  {
   "cell_type": "code",
   "execution_count": 24,
   "id": "419c6574-af5b-412d-851e-39377b288096",
   "metadata": {},
   "outputs": [
    {
     "name": "stdout",
     "output_type": "stream",
     "text": [
      "LASSO MSE: 3.373830704627014\n",
      "LASSO R^2: 0.668535565201632\n"
     ]
    }
   ],
   "source": [
    "print(f\"LASSO MSE: {mean_squared_error(y_pred_lasso, y_test)}\")\n",
    "print(f\"LASSO R^2: {r2_score(y_pred_lasso, y_test)}\")"
   ]
  },
  {
   "cell_type": "markdown",
   "id": "d66429df-02dc-4bd1-b505-39ed4bd8d44d",
   "metadata": {},
   "source": [
    "This model has a slightly worse $R^2$ than the linear model, but it is much simpler. We will now use K-fold CV with a range of alpha values to try to find the variables that best model a students' final exam score."
   ]
  },
  {
   "cell_type": "code",
   "execution_count": 29,
   "id": "31d10c45-2dff-487e-be34-fe801e2a4eb6",
   "metadata": {},
   "outputs": [
    {
     "data": {
      "text/html": [
       "<style>#sk-container-id-3 {color: black;}#sk-container-id-3 pre{padding: 0;}#sk-container-id-3 div.sk-toggleable {background-color: white;}#sk-container-id-3 label.sk-toggleable__label {cursor: pointer;display: block;width: 100%;margin-bottom: 0;padding: 0.3em;box-sizing: border-box;text-align: center;}#sk-container-id-3 label.sk-toggleable__label-arrow:before {content: \"▸\";float: left;margin-right: 0.25em;color: #696969;}#sk-container-id-3 label.sk-toggleable__label-arrow:hover:before {color: black;}#sk-container-id-3 div.sk-estimator:hover label.sk-toggleable__label-arrow:before {color: black;}#sk-container-id-3 div.sk-toggleable__content {max-height: 0;max-width: 0;overflow: hidden;text-align: left;background-color: #f0f8ff;}#sk-container-id-3 div.sk-toggleable__content pre {margin: 0.2em;color: black;border-radius: 0.25em;background-color: #f0f8ff;}#sk-container-id-3 input.sk-toggleable__control:checked~div.sk-toggleable__content {max-height: 200px;max-width: 100%;overflow: auto;}#sk-container-id-3 input.sk-toggleable__control:checked~label.sk-toggleable__label-arrow:before {content: \"▾\";}#sk-container-id-3 div.sk-estimator input.sk-toggleable__control:checked~label.sk-toggleable__label {background-color: #d4ebff;}#sk-container-id-3 div.sk-label input.sk-toggleable__control:checked~label.sk-toggleable__label {background-color: #d4ebff;}#sk-container-id-3 input.sk-hidden--visually {border: 0;clip: rect(1px 1px 1px 1px);clip: rect(1px, 1px, 1px, 1px);height: 1px;margin: -1px;overflow: hidden;padding: 0;position: absolute;width: 1px;}#sk-container-id-3 div.sk-estimator {font-family: monospace;background-color: #f0f8ff;border: 1px dotted black;border-radius: 0.25em;box-sizing: border-box;margin-bottom: 0.5em;}#sk-container-id-3 div.sk-estimator:hover {background-color: #d4ebff;}#sk-container-id-3 div.sk-parallel-item::after {content: \"\";width: 100%;border-bottom: 1px solid gray;flex-grow: 1;}#sk-container-id-3 div.sk-label:hover label.sk-toggleable__label {background-color: #d4ebff;}#sk-container-id-3 div.sk-serial::before {content: \"\";position: absolute;border-left: 1px solid gray;box-sizing: border-box;top: 0;bottom: 0;left: 50%;z-index: 0;}#sk-container-id-3 div.sk-serial {display: flex;flex-direction: column;align-items: center;background-color: white;padding-right: 0.2em;padding-left: 0.2em;position: relative;}#sk-container-id-3 div.sk-item {position: relative;z-index: 1;}#sk-container-id-3 div.sk-parallel {display: flex;align-items: stretch;justify-content: center;background-color: white;position: relative;}#sk-container-id-3 div.sk-item::before, #sk-container-id-3 div.sk-parallel-item::before {content: \"\";position: absolute;border-left: 1px solid gray;box-sizing: border-box;top: 0;bottom: 0;left: 50%;z-index: -1;}#sk-container-id-3 div.sk-parallel-item {display: flex;flex-direction: column;z-index: 1;position: relative;background-color: white;}#sk-container-id-3 div.sk-parallel-item:first-child::after {align-self: flex-end;width: 50%;}#sk-container-id-3 div.sk-parallel-item:last-child::after {align-self: flex-start;width: 50%;}#sk-container-id-3 div.sk-parallel-item:only-child::after {width: 0;}#sk-container-id-3 div.sk-dashed-wrapped {border: 1px dashed gray;margin: 0 0.4em 0.5em 0.4em;box-sizing: border-box;padding-bottom: 0.4em;background-color: white;}#sk-container-id-3 div.sk-label label {font-family: monospace;font-weight: bold;display: inline-block;line-height: 1.2em;}#sk-container-id-3 div.sk-label-container {text-align: center;}#sk-container-id-3 div.sk-container {/* jupyter's `normalize.less` sets `[hidden] { display: none; }` but bootstrap.min.css set `[hidden] { display: none !important; }` so we also need the `!important` here to be able to override the default hidden behavior on the sphinx rendered scikit-learn.org. See: https://github.com/scikit-learn/scikit-learn/issues/21755 */display: inline-block !important;position: relative;}#sk-container-id-3 div.sk-text-repr-fallback {display: none;}</style><div id=\"sk-container-id-3\" class=\"sk-top-container\"><div class=\"sk-text-repr-fallback\"><pre>LassoCV(cv=5, random_state=265)</pre><b>In a Jupyter environment, please rerun this cell to show the HTML representation or trust the notebook. <br />On GitHub, the HTML representation is unable to render, please try loading this page with nbviewer.org.</b></div><div class=\"sk-container\" hidden><div class=\"sk-item\"><div class=\"sk-estimator sk-toggleable\"><input class=\"sk-toggleable__control sk-hidden--visually\" id=\"sk-estimator-id-3\" type=\"checkbox\" checked><label for=\"sk-estimator-id-3\" class=\"sk-toggleable__label sk-toggleable__label-arrow\">LassoCV</label><div class=\"sk-toggleable__content\"><pre>LassoCV(cv=5, random_state=265)</pre></div></div></div></div></div>"
      ],
      "text/plain": [
       "LassoCV(cv=5, random_state=265)"
      ]
     },
     "execution_count": 29,
     "metadata": {},
     "output_type": "execute_result"
    }
   ],
   "source": [
    "lasso_cv = LassoCV(cv=5, random_state=265)\n",
    "lasso_cv.fit(X_train, y_train)"
   ]
  },
  {
   "cell_type": "code",
   "execution_count": 41,
   "id": "ca51d7dc-eaea-4c06-ac7d-9e0b46bea8be",
   "metadata": {},
   "outputs": [
    {
     "data": {
      "text/plain": [
       "Index(['Hours_Studied', 'Attendance', 'Parental_Involvement',\n",
       "       'Access_to_Resources', 'Extracurricular_Activities_Yes', 'Sleep_Hours',\n",
       "       'Previous_Scores', 'Motivation_Level', 'Internet_Access_Yes',\n",
       "       'Tutoring_Sessions', 'Family_Income', 'Teacher_Quality',\n",
       "       'School_Type_Public', 'Peer_Influence', 'Physical_Activity',\n",
       "       'Learning_Disabilities_Yes', 'Parental_Education_Level', 'Gender_Male'],\n",
       "      dtype='object')"
      ]
     },
     "execution_count": 41,
     "metadata": {},
     "output_type": "execute_result"
    }
   ],
   "source": [
    "X_train.columns"
   ]
  },
  {
   "cell_type": "code",
   "execution_count": 33,
   "id": "37d46001-a0b8-489f-8357-e8fda99f17c0",
   "metadata": {},
   "outputs": [
    {
     "name": "stdout",
     "output_type": "stream",
     "text": [
      "Best Alpha is 0.02576009930237171\n",
      "Best Coefficients are [ 0.29006489  0.19811241  0.97778252  0.98364345  0.43399452 -0.\n",
      "  0.04994589  0.44472207  0.46926061  0.5051152   0.47187735  0.4623301\n",
      " -0.          0.46221144  0.16370131 -0.64032656  0.42828825 -0.        ]\n"
     ]
    }
   ],
   "source": [
    "print(f\"Best Alpha is {lasso_cv.alpha_}\")\n",
    "print(f\"Best Coefficients are {lasso_cv.coef_}\")"
   ]
  },
  {
   "cell_type": "code",
   "execution_count": 43,
   "id": "55ad5a6a-821b-4597-8e46-fc36f6b03927",
   "metadata": {},
   "outputs": [
    {
     "data": {
      "text/plain": [
       "array([-0., -0., -0.])"
      ]
     },
     "execution_count": 43,
     "metadata": {},
     "output_type": "execute_result"
    }
   ],
   "source": [
    "lasso_cv.coef_[[5, 12, 17]]"
   ]
  },
  {
   "cell_type": "code",
   "execution_count": 44,
   "id": "12842a48-f671-49f3-97e1-7c1839983d95",
   "metadata": {},
   "outputs": [
    {
     "data": {
      "text/plain": [
       "Index(['Sleep_Hours', 'School_Type_Public', 'Gender_Male'], dtype='object')"
      ]
     },
     "execution_count": 44,
     "metadata": {},
     "output_type": "execute_result"
    }
   ],
   "source": [
    "X_train.columns[[5, 12, 17]]"
   ]
  },
  {
   "cell_type": "code",
   "execution_count": 34,
   "id": "6820352f-770f-443b-854b-7d13a5ae448b",
   "metadata": {},
   "outputs": [],
   "source": [
    "y_pred_lasso_cv = lasso_cv.predict(X_test)"
   ]
  },
  {
   "cell_type": "code",
   "execution_count": 35,
   "id": "169c7ca9-dcae-4a09-89ce-b10d1d65f8c0",
   "metadata": {},
   "outputs": [
    {
     "name": "stdout",
     "output_type": "stream",
     "text": [
      "LASSO CV MSE: 3.0795545158282076\n",
      "LASSO CV R^2: 0.720229841504388\n"
     ]
    }
   ],
   "source": [
    "print(f\"LASSO CV MSE: {mean_squared_error(y_pred_lasso_cv, y_test)}\")\n",
    "print(f\"LASSO CV R^2: {r2_score(y_pred_lasso_cv, y_test)}\")"
   ]
  },
  {
   "cell_type": "markdown",
   "id": "821685e9-7751-4f05-8793-8466335fb204",
   "metadata": {},
   "source": [
    "This model has a very low MSE and a high $R^2$. Although it is technically worse than the linear model with all variables, it allows us to remove 3 of the variables (Sleep Hours, School Type, and Gender) to make our model simpler. We may also want to remove Previous Scores from the model because it's coefficient (0.04994589) is very close to 0. Plus, it may be nice to be able to predict a student's final exam score without any previous knowledge about their testing abilities."
   ]
  },
  {
   "cell_type": "code",
   "execution_count": 45,
   "id": "b26eeafa-b45f-42ba-8dcf-820fab925c0b",
   "metadata": {},
   "outputs": [],
   "source": [
    "import matplotlib.pyplot as plt"
   ]
  },
  {
   "cell_type": "code",
   "execution_count": 49,
   "id": "b0d6ad88-9dfb-4c6c-97ce-a19c91edd494",
   "metadata": {},
   "outputs": [
    {
     "data": {
      "image/png": "[encoded data removed]",
      "text/plain": [
       "<Figure size 640x480 with 1 Axes>"
      ]
     },
     "metadata": {},
     "output_type": "display_data"
    }
   ],
   "source": [
    "plt.scatter(y_pred_lasso_cv, y_test)\n",
    "plt.plot(np.arange(55, 80, 1), np.arange(55, 80, 1), color='red')\n",
    "plt.show()"
   ]
  },
  {
   "cell_type": "markdown",
   "id": "fc3656e4-75be-4725-9426-47028d6c1621",
   "metadata": {},
   "source": [
    "TODO: FIT LINEAR MODEL AFTER REMOVING THE 4 VARIABLES MENTIONED ABOVE WITH STATSMODELS. CHECK VIF AND ENSURE NO MULTICOLINEARITY."
   ]
  }
 ],
 "metadata": {
  "kernelspec": {
   "display_name": "Python 3 (ipykernel)",
   "language": "python",
   "name": "python3"
  },
  "language_info": {
   "codemirror_mode": {
    "name": "ipython",
    "version": 3
   },
   "file_extension": ".py",
   "mimetype": "text/x-python",
   "name": "python",
   "nbconvert_exporter": "python",
   "pygments_lexer": "ipython3",
   "version": "3.9.18"
  }
 },
 "nbformat": 4,
 "nbformat_minor": 5
}
